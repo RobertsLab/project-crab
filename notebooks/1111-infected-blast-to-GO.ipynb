{
 "cells": [
  {
   "cell_type": "markdown",
   "metadata": {},
   "source": [
    "# Notebook to take list of infected DEGs blast output to GO slim terms. "
   ]
  },
  {
   "cell_type": "markdown",
   "metadata": {},
   "source": [
    "### Big list that SR made of DEGs (infected and uninfected, day 12 and day 26) with blast output: https://raw.githubusercontent.com/sr320/nb-2019/master/C_bairdi/analyses/bigtable.txt \n",
    "\n",
    "#### I made list of infected in excel --> filtered out the \"NA\" e-values; only showed the counts of \"0\" for columns ending in 777 and 775 (those are the uninfected libraries). Saved the list here: https://raw.githubusercontent.com/RobertsLab/project-crab/master/analyses/1111-infected-d12-d26.csv "
   ]
  },
  {
   "cell_type": "markdown",
   "metadata": {},
   "source": [
    "### from Steven's notebook: https://github.com/sr320/nb-2018/blob/master/C_virginica/83-blast-2-slim.ipynb"
   ]
  },
  {
   "cell_type": "markdown",
   "metadata": {},
   "source": [
    "### Need three files:\n",
    "1) blastout file (dinoflagellate db blastx joined with uniprot blastx) in format -6 (https://raw.githubusercontent.com/RobertsLab/project-crab/master/analyses/1111-infected-blastout-d12-d26.csv)       \n",
    "2) Uniprot GO annotation file (340M) from : http://owl.fish.washington.edu/halfshell/bu-alanine-wd/17-07-20/uniprot-SP-GO.sorted       \n",
    "3) GOslim file from : http://owl.fish.washington.edu/halfshell/bu-alanine-wd/17-07-20/Go-GOslim.sorted"
   ]
  },
  {
   "cell_type": "code",
   "execution_count": 1,
   "metadata": {
    "collapsed": false
   },
   "outputs": [
    {
     "data": {
      "text/plain": [
       "u'/Volumes/toaster/grace/gitrepos/project-crab/notebooks'"
      ]
     },
     "execution_count": 1,
     "metadata": {},
     "output_type": "execute_result"
    }
   ],
   "source": [
    "pwd"
   ]
  },
  {
   "cell_type": "code",
   "execution_count": 2,
   "metadata": {
    "collapsed": true
   },
   "outputs": [],
   "source": [
    "wd = \"/Volumes/toaster/grace/gitrepos/project-crab/analyses/\""
   ]
  },
  {
   "cell_type": "code",
   "execution_count": 3,
   "metadata": {
    "collapsed": false
   },
   "outputs": [
    {
     "name": "stdout",
     "output_type": "stream",
     "text": [
      "/Volumes/toaster/grace/gitrepos/project-crab/analyses\n"
     ]
    }
   ],
   "source": [
    "cd {wd}"
   ]
  },
  {
   "cell_type": "code",
   "execution_count": 4,
   "metadata": {
    "collapsed": false
   },
   "outputs": [
    {
     "name": "stdout",
     "output_type": "stream",
     "text": [
      "  % Total    % Received % Xferd  Average Speed   Time    Time     Time  Current\n",
      "                                 Dload  Upload   Total   Spent    Left  Speed\n",
      "100 2314k  100 2314k    0     0  2691k      0 --:--:-- --:--:-- --:--:-- 2690k\n"
     ]
    }
   ],
   "source": [
    "!curl -O http://owl.fish.washington.edu/halfshell/bu-alanine-wd/17-07-20/GO-GOslim.sorted"
   ]
  },
  {
   "cell_type": "code",
   "execution_count": 5,
   "metadata": {
    "collapsed": false
   },
   "outputs": [
    {
     "name": "stdout",
     "output_type": "stream",
     "text": [
      "  % Total    % Received % Xferd  Average Speed   Time    Time     Time  Current\n",
      "                                 Dload  Upload   Total   Spent    Left  Speed\n",
      "100  340M  100  340M    0     0  34.5M      0  0:00:09  0:00:09 --:--:-- 43.1M\n"
     ]
    }
   ],
   "source": [
    "!curl -O http://owl.fish.washington.edu/halfshell/bu-alanine-wd/17-07-20/uniprot-SP-GO.sorted"
   ]
  },
  {
   "cell_type": "code",
   "execution_count": 7,
   "metadata": {
    "collapsed": false
   },
   "outputs": [
    {
     "name": "stdout",
     "output_type": "stream",
     "text": [
      "091419-crab-blastx-output.csv      crab-GOslim-count.csv\r\n",
      "1111-infected-blastout-d12-d26.csv crab-GOslim.csv\r\n",
      "1111-infected-d12-d26.csv          crab-blastx-sp-full.tab\r\n",
      "1111-uninfected-d12-d26.csv        crab-blastx-sp.tab\r\n",
      "\u001b[34m304428_L1\u001b[m\u001b[m                          crab-forRevigo.tab\r\n",
      "\u001b[34m304428_L2\u001b[m\u001b[m                          crab-stress-genes.tab\r\n",
      "\u001b[34m329774_L1\u001b[m\u001b[m                          crab-stress-uniprotID.tab\r\n",
      "\u001b[34m329774_L2\u001b[m\u001b[m                          hemat-Blastquery-GOslim.sorted\r\n",
      "\u001b[34m329775_L1\u001b[m\u001b[m                          hemat-GOslim-count.csv\r\n",
      "\u001b[34m329775_L2\u001b[m\u001b[m                          hemat-blastx-sp-full.tab\r\n",
      "\u001b[34m329776_L1\u001b[m\u001b[m                          hemat-blastx-sp.tab\r\n",
      "\u001b[34m329776_L2\u001b[m\u001b[m                          hemat-forRevigo.tab\r\n",
      "\u001b[34m329777_L1\u001b[m\u001b[m                          master-qubit-sample.csv\r\n",
      "\u001b[34m329777_L2\u001b[m\u001b[m                          master-qubit.xlsx\r\n",
      "GO-GOslim.sorted                   qubit_results-for-libraries.csv\r\n",
      "_blast-annot-crab.tab              readme.md\r\n",
      "_blast-sep2-crab.tab               sample_table.csv\r\n",
      "_blast-sep2-hemat.tab              uniprot-SP-GO.sorted\r\n",
      "_blast-sort-crab.tab               ~$master-qubit.xlsx\r\n",
      "crab-Blastquery-GOslim.sorted\r\n"
     ]
    }
   ],
   "source": [
    "# check if files are in the directory\n",
    "!ls"
   ]
  },
  {
   "cell_type": "markdown",
   "metadata": {},
   "source": [
    "## Set blastout file as variable"
   ]
  },
  {
   "cell_type": "code",
   "execution_count": 8,
   "metadata": {
    "collapsed": true
   },
   "outputs": [],
   "source": [
    "blastout=\"1111-infected-blastout-d12-d26.csv\""
   ]
  },
  {
   "cell_type": "code",
   "execution_count": 9,
   "metadata": {
    "collapsed": false
   },
   "outputs": [
    {
     "name": "stdout",
     "output_type": "stream",
     "text": [
      "﻿target_id,up_ID,evalue\r",
      "\r\n",
      "TRINITY_DN30057_c0_g1_i1,sp|Q641I1|F135B_XENLA,4.19E-25\r",
      "\r\n"
     ]
    }
   ],
   "source": [
    "!head -2 $blastout"
   ]
  },
  {
   "cell_type": "code",
   "execution_count": 10,
   "metadata": {
    "collapsed": false
   },
   "outputs": [
    {
     "name": "stdout",
     "output_type": "stream",
     "text": [
      "    2384 1111-infected-blastout-d12-d26.csv\r\n"
     ]
    }
   ],
   "source": [
    "!wc -l $blastout"
   ]
  },
  {
   "cell_type": "code",
   "execution_count": 11,
   "metadata": {
    "collapsed": true
   },
   "outputs": [],
   "source": [
    "# convert commas to tab\n",
    "!tr ',' '\\t' < $blastout \\\n",
    "> _blast-sep.tab"
   ]
  },
  {
   "cell_type": "code",
   "execution_count": 12,
   "metadata": {
    "collapsed": false
   },
   "outputs": [
    {
     "name": "stdout",
     "output_type": "stream",
     "text": [
      "﻿target_id\tup_ID\tevalue\r",
      "\r\n",
      "TRINITY_DN30057_c0_g1_i1\tsp|Q641I1|F135B_XENLA\t4.19E-25\r",
      "\r\n"
     ]
    }
   ],
   "source": [
    "!head -2 _blast-sep.tab"
   ]
  },
  {
   "cell_type": "code",
   "execution_count": 13,
   "metadata": {
    "collapsed": true
   },
   "outputs": [],
   "source": [
    "# convert pipes to tab\n",
    "!tr '|' '\\t' < _blast-sep.tab \\\n",
    "> _blast-sep2.tab"
   ]
  },
  {
   "cell_type": "code",
   "execution_count": 14,
   "metadata": {
    "collapsed": false
   },
   "outputs": [
    {
     "name": "stdout",
     "output_type": "stream",
     "text": [
      "﻿target_id\tup_ID\tevalue\r",
      "\r\n",
      "TRINITY_DN30057_c0_g1_i1\tsp\tQ641I1\tF135B_XENLA\t4.19E-25\r",
      "\r\n"
     ]
    }
   ],
   "source": [
    "!head -2 _blast-sep2.tab"
   ]
  },
  {
   "cell_type": "code",
   "execution_count": 15,
   "metadata": {
    "collapsed": true
   },
   "outputs": [],
   "source": [
    "!awk NR\\>1 _blast-sep2.tab > _blast-sep3.tab\n",
    "#remove column names"
   ]
  },
  {
   "cell_type": "code",
   "execution_count": 16,
   "metadata": {
    "collapsed": false
   },
   "outputs": [
    {
     "name": "stdout",
     "output_type": "stream",
     "text": [
      "TRINITY_DN30057_c0_g1_i1\tsp\tQ641I1\tF135B_XENLA\t4.19E-25\r",
      "\r\n",
      "TRINITY_DN49483_c0_g1_i1\tsp\tQ6VH22\tIF172_MOUSE\t1.09E-41\r",
      "\r\n"
     ]
    }
   ],
   "source": [
    "!head -2 _blast-sep3.tab"
   ]
  },
  {
   "cell_type": "code",
   "execution_count": 17,
   "metadata": {
    "collapsed": true
   },
   "outputs": [],
   "source": [
    "#reducing number of columns and sorting \n",
    "!awk -v OFS='\\t' '{print $3, $1, $5}' <_blast-sep3.tab | sort \\\n",
    "> _blast-sort.tab"
   ]
  },
  {
   "cell_type": "code",
   "execution_count": 18,
   "metadata": {
    "collapsed": false
   },
   "outputs": [
    {
     "name": "stdout",
     "output_type": "stream",
     "text": [
      "A0A0R4IBK5\tTRINITY_DN56324_c0_g1_i1\t2.73E-27\r",
      "\r\n",
      "A0CDD4\tTRINITY_DN7741_c2_g1_i4\t1.11E-119\r",
      "\r\n"
     ]
    }
   ],
   "source": [
    "!head -2 _blast-sort.tab"
   ]
  },
  {
   "cell_type": "code",
   "execution_count": 19,
   "metadata": {
    "collapsed": true
   },
   "outputs": [],
   "source": [
    "#joining blast with uniprot annotation file and reducing to three columns UniprotID, Query, All GO terms\n",
    "!join -t $'\\t' \\\n",
    "_blast-sort.tab \\\n",
    "uniprot-SP-GO.sorted \\\n",
    "| cut -f1,2,14 \\\n",
    "> _blast-annot.tab\n",
    "#remove | cut -f1,2,14 \\ to save full blast annotation"
   ]
  },
  {
   "cell_type": "code",
   "execution_count": 20,
   "metadata": {
    "collapsed": false
   },
   "outputs": [
    {
     "name": "stdout",
     "output_type": "stream",
     "text": [
      "A0A0R4IBK5\tTRINITY_DN56324_c0_g1_i1\tGO:0002040; GO:0004842; GO:0005829; GO:0016887; GO:0046872\r\n",
      "A0CDD4\tTRINITY_DN7741_c2_g1_i4\tGO:0005737; GO:0005874; GO:0005929; GO:0036064; GO:0060271; GO:0060296; GO:2000147; GO:2000253\r\n",
      "A0CDD4\tTRINITY_DN7741_c2_g1_i9\tGO:0005737; GO:0005874; GO:0005929; GO:0036064; GO:0060271; GO:0060296; GO:2000147; GO:2000253\r\n",
      "A0DSB3\tTRINITY_DN11307_c0_g1_i2\tGO:0004722; GO:0016020; GO:0046872\r\n",
      "A0DTY1\tTRINITY_DN22387_c0_g2_i4\tGO:0004722; GO:0016020; GO:0046872\r\n",
      "A0DTY1\tTRINITY_DN22387_c0_g2_i6\tGO:0004722; GO:0016020; GO:0046872\r\n",
      "A0JMA9\tTRINITY_DN45020_c0_g1_i1\tGO:0005524; GO:0005634; GO:0005737; GO:0005874; GO:0008568\r\n",
      "A0JP85\tTRINITY_DN6869_c0_g7_i3\tGO:0000122; GO:0000288; GO:0000932; GO:0005634; GO:0006351; GO:0010606; GO:0017148; GO:0030014; GO:0030015; GO:0030331; GO:0031047; GO:0032947; GO:0033147; GO:0042974; GO:0048387; GO:0060213; GO:1900153\r\n",
      "A0LJ41\tTRINITY_DN6393_c0_g1_i11\tGO:0005524; GO:0005737; GO:0006260; GO:0006457; GO:0009408; GO:0031072; GO:0046872; GO:0051082\r\n",
      "A0LJ41\tTRINITY_DN6393_c0_g1_i5\tGO:0005524; GO:0005737; GO:0006260; GO:0006457; GO:0009408; GO:0031072; GO:0046872; GO:0051082\r\n"
     ]
    }
   ],
   "source": [
    "!head _blast-annot.tab"
   ]
  },
  {
   "cell_type": "markdown",
   "metadata": {},
   "source": [
    "## The following is a script modified by Sam White"
   ]
  },
  {
   "cell_type": "code",
   "execution_count": 21,
   "metadata": {
    "collapsed": true
   },
   "outputs": [],
   "source": [
    "%%bash \n",
    "\n",
    "# This script was originally written to address a specific problem that Rhonda was having\n",
    "\n",
    "\n",
    "\n",
    "# input_file is the initial, \"problem\" file\n",
    "# file is an intermediate file that most of the program works upon\n",
    "# output_file is the final file produced by the script\n",
    "input_file=\"_blast-annot.tab\"\n",
    "file=\"_intermediate.file\"\n",
    "output_file=\"_blast-GO-unfolded.tab\"\n",
    "\n",
    "# sed command substitutes the \"; \" sequence to a tab and writes the new format to a new file.\n",
    "# This character sequence is how the GO terms are delimited in their field.\n",
    "sed $'s/; /\\t/g' \"$input_file\" > \"$file\"\n",
    "\n",
    "# Identify first field containing a GO term.\n",
    "# Search file with grep for \"GO:\" and pipe to awk.\n",
    "# Awk sets tab as field delimiter (-F'\\t'), runs a for loop that looks for \"GO:\" (~/GO:/), and then prints the field number).\n",
    "# Awk results are piped to sort, which sorts unique by number (-ug).\n",
    "# Sort results are piped to head to retrieve the lowest value (i.e. the top of the list; \"-n1\").\n",
    "begin_goterms=$(grep \"GO:\" \"$file\" | awk -F'\\t' '{for (i=1;i<=NF;i++) if($i ~/GO:/) print i}' | sort -ug | head -n1)\n",
    "\n",
    "# While loop to process each line of the input file.\n",
    "while read -r line\n",
    "\tdo\n",
    "\t\n",
    "\t# Send contents of the current line to awk.\n",
    "\t# Set the field separator as a tab (-F'\\t') and print the number of fields in that line.\n",
    "\t# Save the results of the echo/awk pipe (i.e. number of fields) to the variable \"max_field\".\n",
    "\tmax_field=$(echo \"$line\" | awk -F'\\t' '{print NF}')\n",
    "\n",
    "\t# Send contents of current line to cut.\n",
    "\t# Cut fields (i.e. retain those fields) 1-12.\n",
    "\t# Save the results of the echo/cut pipe (i.e. fields 1-12) to the variable \"fixed_fields\"\n",
    "\tfixed_fields=$(echo \"$line\" | cut -f1-2)\n",
    "\n",
    "\t# Since not all the lines contain the same number of fields (e.g. may not have GO terms),\n",
    "\t# evaluate the number of fields in each line to determine how to handle current line.\n",
    "\n",
    "\t# If the value in max_field is less than the field number where the GO terms begin,\n",
    "\t# then just print the current line (%s) followed by a newline (\\n).\n",
    "\tif (( \"$max_field\" < \"$begin_goterms\" ))\n",
    "\t\tthen printf \"%s\\n\" \"$line\"\n",
    "\t\t\telse\n",
    "\n",
    "\t\t\t# Send contents of current line (which contains GO terms) to cut.\n",
    "\t\t\t# Cut fields (i.e. retain those fields) 13 to whatever the last field is in the curent line.\n",
    "\t\t\t# Save the results of the echo/cut pipe (i.e. all the GO terms fields) to the variable \"goterms\".\n",
    "\t\t\tgoterms=$(echo \"$line\" | cut -f\"$begin_goterms\"-\"$max_field\")\n",
    "\t\t\t\n",
    "\t\t\t# Assign values in the variable \"goterms\" to a new indexed array (called \"array\"), \n",
    "\t\t\t# with tab delimiter (IFS=$'\\t')\n",
    "\t\t\tIFS=$'\\t' read -r -a array <<<\"$goterms\"\n",
    "\t\t\t\n",
    "\t\t\t# Iterate through each element of the array.\n",
    "\t\t\t# Print the first 12 fields (i.e. the fields stored in \"fixed_fields\") followed by a tab (%s\\t).\n",
    "\t\t\t# Print the current element in the array (i.e. the current GO term) followed by a new line (%s\\n).\n",
    "\t\t\tfor element in \"${!array[@]}\"\t\n",
    "\t\t\t\tdo printf \"%s\\t%s\\n\" \"$fixed_fields\" \"${array[$element]}\"\n",
    "\t\t\tdone\n",
    "\tfi\n",
    "\n",
    "# Send the input file into the while loop and send the output to a file named \"rhonda_fixed.txt\".\n",
    "done < \"$file\" > \"$output_file\""
   ]
  },
  {
   "cell_type": "code",
   "execution_count": 22,
   "metadata": {
    "collapsed": false
   },
   "outputs": [
    {
     "name": "stdout",
     "output_type": "stream",
     "text": [
      "A0A0R4IBK5\tTRINITY_DN56324_c0_g1_i1\tGO:0002040\r\n",
      "A0A0R4IBK5\tTRINITY_DN56324_c0_g1_i1\tGO:0004842\r\n",
      "A0A0R4IBK5\tTRINITY_DN56324_c0_g1_i1\tGO:0005829\r\n",
      "A0A0R4IBK5\tTRINITY_DN56324_c0_g1_i1\tGO:0016887\r\n",
      "A0A0R4IBK5\tTRINITY_DN56324_c0_g1_i1\tGO:0046872\r\n",
      "A0CDD4\tTRINITY_DN7741_c2_g1_i4\tGO:0005737\r\n",
      "A0CDD4\tTRINITY_DN7741_c2_g1_i4\tGO:0005874\r\n",
      "A0CDD4\tTRINITY_DN7741_c2_g1_i4\tGO:0005929\r\n",
      "A0CDD4\tTRINITY_DN7741_c2_g1_i4\tGO:0036064\r\n",
      "A0CDD4\tTRINITY_DN7741_c2_g1_i4\tGO:0060271\r\n"
     ]
    }
   ],
   "source": [
    "!head _blast-GO-unfolded.tab"
   ]
  },
  {
   "cell_type": "code",
   "execution_count": 23,
   "metadata": {
    "collapsed": true
   },
   "outputs": [],
   "source": [
    "!awk '{print $3,\"\\t\" $2}' _blast-GO-unfolded.tab | gsort -V > _blast-GO-unfolded.sorted"
   ]
  },
  {
   "cell_type": "code",
   "execution_count": 24,
   "metadata": {
    "collapsed": false
   },
   "outputs": [
    {
     "name": "stdout",
     "output_type": "stream",
     "text": [
      "GO:0000001 \tTRINITY_DN7944_c0_g1_i6\r\n",
      "GO:0000001 \tTRINITY_DN7944_c0_g1_i10\r\n",
      "GO:0000002 \tTRINITY_DN10449_c0_g1_i3\r\n",
      "GO:0000003 \tTRINITY_DN1148_c0_g1_i10\r\n",
      "GO:0000003 \tTRINITY_DN1148_c0_g1_i11\r\n",
      "GO:0000011 \tTRINITY_DN7279_c0_g2_i3\r\n",
      "GO:0000014 \tTRINITY_DN48445_c0_g1_i1\r\n",
      "GO:0000026 \tTRINITY_DN19440_c0_g1_i1\r\n",
      "GO:0000027 \tTRINITY_DN121_c0_g1_i1\r\n",
      "GO:0000027 \tTRINITY_DN121_c0_g1_i2\r\n"
     ]
    }
   ],
   "source": [
    "!head _blast-GO-unfolded.sorted"
   ]
  },
  {
   "cell_type": "code",
   "execution_count": 25,
   "metadata": {
    "collapsed": false
   },
   "outputs": [
    {
     "name": "stdout",
     "output_type": "stream",
     "text": [
      "GO:0000001*\tTRINITY_DN7944_c0_g1_i6\r\n",
      "GO:0000001*\tTRINITY_DN7944_c0_g1_i10\r\n",
      "GO:0000002*\tTRINITY_DN10449_c0_g1_i3\r\n",
      "GO:0000003*\tTRINITY_DN1148_c0_g1_i10\r\n",
      "GO:0000003*\tTRINITY_DN1148_c0_g1_i11\r\n",
      "GO:0000011*\tTRINITY_DN7279_c0_g2_i3\r\n",
      "GO:0000014*\tTRINITY_DN48445_c0_g1_i1\r\n",
      "GO:0000026*\tTRINITY_DN19440_c0_g1_i1\r\n",
      "GO:0000027*\tTRINITY_DN121_c0_g1_i1\r\n",
      "GO:0000027*\tTRINITY_DN121_c0_g1_i2\r\n"
     ]
    }
   ],
   "source": [
    "!tr \" \" \"*\" < _blast-GO-unfolded.sorted | head"
   ]
  },
  {
   "cell_type": "code",
   "execution_count": 26,
   "metadata": {
    "collapsed": true
   },
   "outputs": [],
   "source": [
    "!sed 's/ //g' _blast-GO-unfolded.sorted > _blast-GO-unfolded-nos.sorted"
   ]
  },
  {
   "cell_type": "code",
   "execution_count": 27,
   "metadata": {
    "collapsed": false
   },
   "outputs": [
    {
     "name": "stdout",
     "output_type": "stream",
     "text": [
      "GO:0000001\tTRINITY_DN7944_c0_g1_i6\r\n",
      "GO:0000001\tTRINITY_DN7944_c0_g1_i10\r\n",
      "GO:0000002\tTRINITY_DN10449_c0_g1_i3\r\n",
      "GO:0000003\tTRINITY_DN1148_c0_g1_i10\r\n",
      "GO:0000003\tTRINITY_DN1148_c0_g1_i11\r\n",
      "GO:0000011\tTRINITY_DN7279_c0_g2_i3\r\n",
      "GO:0000014\tTRINITY_DN48445_c0_g1_i1\r\n",
      "GO:0000026\tTRINITY_DN19440_c0_g1_i1\r\n",
      "GO:0000027\tTRINITY_DN121_c0_g1_i1\r\n",
      "GO:0000027\tTRINITY_DN121_c0_g1_i2\r\n"
     ]
    }
   ],
   "source": [
    "!head _blast-GO-unfolded-nos.sorted"
   ]
  },
  {
   "cell_type": "code",
   "execution_count": 28,
   "metadata": {
    "collapsed": false
   },
   "outputs": [
    {
     "name": "stdout",
     "output_type": "stream",
     "text": [
      "GO:0000001\tTRINITY_DN7944_c0_g1_i6\r\n",
      "GO:0000001\tTRINITY_DN7944_c0_g1_i10\r\n",
      "GO:0000002\tTRINITY_DN10449_c0_g1_i3\r\n",
      "GO:0000003\tTRINITY_DN1148_c0_g1_i10\r\n",
      "GO:0000003\tTRINITY_DN1148_c0_g1_i11\r\n",
      "GO:0000011\tTRINITY_DN7279_c0_g2_i3\r\n",
      "GO:0000014\tTRINITY_DN48445_c0_g1_i1\r\n",
      "GO:0000026\tTRINITY_DN19440_c0_g1_i1\r\n",
      "GO:0000027\tTRINITY_DN121_c0_g1_i1\r\n",
      "GO:0000027\tTRINITY_DN121_c0_g1_i2\r\n"
     ]
    }
   ],
   "source": [
    "!tr \" \" \"*\" < _blast-GO-unfolded-nos.sorted | head"
   ]
  },
  {
   "cell_type": "code",
   "execution_count": 29,
   "metadata": {
    "collapsed": false
   },
   "outputs": [
    {
     "name": "stdout",
     "output_type": "stream",
     "text": [
      "GO:0000001\tmitochondrion inheritance\tcell organization and biogenesis\tP\r\n",
      "GO:0000002\tmitochondrial genome maintenance\tcell organization and biogenesis\tP\r\n",
      "GO:0000003\treproduction\tother biological processes\tP\r\n",
      "GO:0000006\thigh affinity zinc uptake transmembrane transporter activity\ttransporter activity\tF\r\n",
      "GO:0000007\tlow-affinity zinc ion transmembrane transporter activity\ttransporter activity\tF\r\n",
      "GO:0000009\t\"alpha-1,6-mannosyltransferase activity\"\tother molecular function\tF\r\n",
      "GO:0000010\ttrans-hexaprenyltranstransferase activity\tother molecular function\tF\r\n",
      "GO:0000011\tvacuole inheritance\tcell organization and biogenesis\tP\r\n",
      "GO:0000012\tsingle strand break repair\tDNA metabolism\tP\r\n",
      "GO:0000012\tsingle strand break repair\tstress response\tP\r\n"
     ]
    }
   ],
   "source": [
    "!head GO-GOslim.sorted"
   ]
  },
  {
   "cell_type": "code",
   "execution_count": 30,
   "metadata": {
    "collapsed": false
   },
   "outputs": [
    {
     "name": "stdout",
     "output_type": "stream",
     "text": [
      "GO:0000001\tTRINITY_DN7944_c0_g1_i6\tmitochondrion inheritance\tcell organization and biogenesis\tP\r\n",
      "GO:0000001\tTRINITY_DN7944_c0_g1_i10\tmitochondrion inheritance\tcell organization and biogenesis\tP\r\n",
      "GO:0000002\tTRINITY_DN10449_c0_g1_i3\tmitochondrial genome maintenance\tcell organization and biogenesis\tP\r\n",
      "GO:0000003\tTRINITY_DN1148_c0_g1_i10\treproduction\tother biological processes\tP\r\n",
      "GO:0000003\tTRINITY_DN1148_c0_g1_i11\treproduction\tother biological processes\tP\r\n",
      "GO:0000011\tTRINITY_DN7279_c0_g2_i3\tvacuole inheritance\tcell organization and biogenesis\tP\r\n",
      "GO:0000014\tTRINITY_DN48445_c0_g1_i1\tsingle-stranded DNA specific endodeoxyribonuclease activity\tother molecular function\tF\r\n",
      "GO:0000026\tTRINITY_DN19440_c0_g1_i1\t\"alpha-1,2-mannosyltransferase activity\"\tother molecular function\tF\r\n",
      "GO:0000027\tTRINITY_DN121_c0_g1_i1\tribosomal large subunit assembly\tcell organization and biogenesis\tP\r\n",
      "GO:0000027\tTRINITY_DN121_c0_g1_i2\tribosomal large subunit assembly\tcell organization and biogenesis\tP\r\n",
      "join: stdout: Broken pipe\r\n"
     ]
    }
   ],
   "source": [
    "!join -1 1 -2 1 -t $'\\t' \\\n",
    "_blast-GO-unfolded-nos.sorted \\\n",
    "GO-GOslim.sorted | head "
   ]
  },
  {
   "cell_type": "code",
   "execution_count": 31,
   "metadata": {
    "collapsed": false
   },
   "outputs": [
    {
     "name": "stdout",
     "output_type": "stream",
     "text": [
      "   20745 Blastquery-GOslim.tab\r\n"
     ]
    }
   ],
   "source": [
    "#joining files to get GOslim for each query (with duplicate GOslim / query removed)\n",
    "!join -1 1 -2 1 -t $'\\t' \\\n",
    "_blast-GO-unfolded-nos.sorted \\\n",
    "GO-GOslim.sorted \\\n",
    "| uniq | awk -F'\\t' -v OFS='\\t' '{print $2, $4, $5}' \\\n",
    "> Blastquery-GOslim.tab\n",
    "!wc -l Blastquery-GOslim.tab"
   ]
  },
  {
   "cell_type": "code",
   "execution_count": 32,
   "metadata": {
    "collapsed": false
   },
   "outputs": [
    {
     "name": "stdout",
     "output_type": "stream",
     "text": [
      "TRINITY_DN7944_c0_g1_i6\tcell organization and biogenesis\tP\n",
      "TRINITY_DN7944_c0_g1_i10\tcell organization and biogenesis\tP\n",
      "TRINITY_DN10449_c0_g1_i3\tcell organization and biogenesis\tP\n",
      "TRINITY_DN1148_c0_g1_i10\tother biological processes\tP\n",
      "TRINITY_DN1148_c0_g1_i11\tother biological processes\tP\n",
      "TRINITY_DN7279_c0_g2_i3\tcell organization and biogenesis\tP\n",
      "TRINITY_DN48445_c0_g1_i1\tother molecular function\tF\n",
      "TRINITY_DN19440_c0_g1_i1\tother molecular function\tF\n",
      "TRINITY_DN121_c0_g1_i1\tcell organization and biogenesis\tP\n",
      "TRINITY_DN121_c0_g1_i2\tcell organization and biogenesis\tP\n",
      "   20745 Blastquery-GOslim.tab\n"
     ]
    }
   ],
   "source": [
    "!head Blastquery-GOslim.tab\n",
    "!wc -l Blastquery-GOslim.tab"
   ]
  },
  {
   "cell_type": "markdown",
   "metadata": {},
   "source": [
    "## Get P - query and slim"
   ]
  },
  {
   "cell_type": "code",
   "execution_count": 33,
   "metadata": {
    "collapsed": false
   },
   "outputs": [
    {
     "name": "stdout",
     "output_type": "stream",
     "text": [
      "TRINITY_DN10004_c0_g1_i1\tRNA metabolism\r\n",
      "TRINITY_DN10004_c0_g1_i3\tRNA metabolism\r\n",
      "TRINITY_DN10025_c1_g3_i2\tDNA metabolism\r\n",
      "TRINITY_DN10025_c1_g3_i2\tDNA metabolism\r\n",
      "TRINITY_DN10025_c1_g3_i2\tDNA metabolism\r\n",
      "TRINITY_DN10025_c1_g3_i2\tDNA metabolism\r\n",
      "TRINITY_DN10025_c1_g3_i2\tdevelopmental processes\r\n",
      "TRINITY_DN10025_c1_g3_i2\tstress response\r\n",
      "TRINITY_DN10035_c0_g1_i3\tcell cycle and proliferation\r\n",
      "TRINITY_DN10035_c0_g1_i3\tcell cycle and proliferation\r\n"
     ]
    }
   ],
   "source": [
    "!awk -F\"\\t\" '$3 == \"P\" { print $1\"\\t\"$2 }' Blastquery-GOslim.tab | sort > infected-Blastquery-GOslim.sorted\n",
    "!head infected-Blastquery-GOslim.sorted"
   ]
  },
  {
   "cell_type": "code",
   "execution_count": null,
   "metadata": {
    "collapsed": true
   },
   "outputs": [],
   "source": []
  }
 ],
 "metadata": {
  "anaconda-cloud": {},
  "kernelspec": {
   "display_name": "Python [default]",
   "language": "python",
   "name": "python2"
  },
  "language_info": {
   "codemirror_mode": {
    "name": "ipython",
    "version": 2
   },
   "file_extension": ".py",
   "mimetype": "text/x-python",
   "name": "python",
   "nbconvert_exporter": "python",
   "pygments_lexer": "ipython2",
   "version": "2.7.12"
  }
 },
 "nbformat": 4,
 "nbformat_minor": 1
}
