{
 "cells": [
  {
   "cell_type": "markdown",
   "metadata": {},
   "source": [
    "## `blastx` and Uniprot file merging"
   ]
  },
  {
   "cell_type": "markdown",
   "metadata": {},
   "source": [
    "### based on this script from EIMD 2019: https://github.com/eimd-2019/project-EWD-transcriptomics/blob/master/scripts/2019-07-10-blastx-Uniprot-File-Merging.ipynb"
   ]
  },
  {
   "cell_type": "markdown",
   "metadata": {},
   "source": [
    "#### in this notebook, I'll merge the `blast` output from SR for infected and uninfected _C. bairdi_ with information from the Uniprot-Swissprot databse. "
   ]
  },
  {
   "cell_type": "markdown",
   "metadata": {},
   "source": [
    "## Step 0. Set working directory"
   ]
  },
  {
   "cell_type": "code",
   "execution_count": 1,
   "metadata": {
    "collapsed": false
   },
   "outputs": [
    {
     "data": {
      "text/plain": [
       "u'/Volumes/toaster/grace/gitrepos/project-crab/notebooks'"
      ]
     },
     "execution_count": 1,
     "metadata": {},
     "output_type": "execute_result"
    }
   ],
   "source": [
    "pwd"
   ]
  },
  {
   "cell_type": "code",
   "execution_count": 2,
   "metadata": {
    "collapsed": true
   },
   "outputs": [],
   "source": [
    "wd = '/Volumes/toaster/grace/gitrepos/project-crab/analyses/'"
   ]
  },
  {
   "cell_type": "code",
   "execution_count": 3,
   "metadata": {
    "collapsed": false
   },
   "outputs": [
    {
     "name": "stdout",
     "output_type": "stream",
     "text": [
      "/Volumes/toaster/grace/gitrepos/project-crab/analyses\n"
     ]
    }
   ],
   "source": [
    "cd {wd}"
   ]
  },
  {
   "cell_type": "code",
   "execution_count": 4,
   "metadata": {
    "collapsed": false
   },
   "outputs": [
    {
     "name": "stdout",
     "output_type": "stream",
     "text": [
      "091419-crab-blastx-output.csv         _blast-sep3.tab\r\n",
      "1111-infected-blastout-d12-d26.csv    _blast-sort-crab.tab\r\n",
      "1111-infected-d12-d26.csv             _blast-sort.tab\r\n",
      "1111-uninfected-blastout-d12-d26.csv  _intermediate.file\r\n",
      "1111-uninfected-d12-d26.csv           crab-Blastquery-GOslim.sorted\r\n",
      "\u001b[34m304428_L1\u001b[m\u001b[m/                            crab-GOslim-count.csv\r\n",
      "\u001b[34m304428_L2\u001b[m\u001b[m/                            crab-GOslim.csv\r\n",
      "\u001b[34m329774_L1\u001b[m\u001b[m/                            crab-blastx-sp-full.tab\r\n",
      "\u001b[34m329774_L2\u001b[m\u001b[m/                            crab-blastx-sp.tab\r\n",
      "\u001b[34m329775_L1\u001b[m\u001b[m/                            crab-forRevigo.tab\r\n",
      "\u001b[34m329775_L2\u001b[m\u001b[m/                            crab-stress-genes.tab\r\n",
      "\u001b[34m329776_L1\u001b[m\u001b[m/                            crab-stress-uniprotID.tab\r\n",
      "\u001b[34m329776_L2\u001b[m\u001b[m/                            hemat-Blastquery-GOslim.sorted\r\n",
      "\u001b[34m329777_L1\u001b[m\u001b[m/                            hemat-GOslim-count.csv\r\n",
      "\u001b[34m329777_L2\u001b[m\u001b[m/                            hemat-blastx-sp-full.tab\r\n",
      "Blastquery-GOslim.tab                 hemat-blastx-sp.tab\r\n",
      "GO-GOslim.sorted                      hemat-forRevigo.tab\r\n",
      "_blast-GO-unfolded-nos.sorted         infected-Blastquery-GOslim.sorted\r\n",
      "_blast-GO-unfolded.sorted             master-qubit-sample.csv\r\n",
      "_blast-GO-unfolded.tab                master-qubit.xlsx\r\n",
      "_blast-annot-crab.tab                 qubit_results-for-libraries.csv\r\n",
      "_blast-annot.tab                      readme.md\r\n",
      "_blast-sep.tab                        sample_table.csv\r\n",
      "_blast-sep2-crab.tab                  uninfected-Blastquery-GOslim.sorted\r\n",
      "_blast-sep2-hemat.tab                 uniprot-SP-GO.sorted\r\n",
      "_blast-sep2.tab                       ~$master-qubit.xlsx\r\n"
     ]
    }
   ],
   "source": [
    "ls -F"
   ]
  },
  {
   "cell_type": "markdown",
   "metadata": {},
   "source": [
    "## Step 1. Format `blast` output"
   ]
  },
  {
   "cell_type": "markdown",
   "metadata": {},
   "source": [
    "### Step 1a. Infected"
   ]
  },
  {
   "cell_type": "code",
   "execution_count": 5,
   "metadata": {
    "collapsed": false
   },
   "outputs": [
    {
     "name": "stdout",
     "output_type": "stream",
     "text": [
      "﻿target_id,up_ID,evalue\r",
      "\r\n",
      "TRINITY_DN30057_c0_g1_i1,sp|Q641I1|F135B_XENLA,4.19E-25\r",
      "\r\n"
     ]
    }
   ],
   "source": [
    "!head -2 1111-infected-blastout-d12-d26.csv"
   ]
  },
  {
   "cell_type": "code",
   "execution_count": 6,
   "metadata": {
    "collapsed": true
   },
   "outputs": [],
   "source": [
    "#convert commas to tabs\n",
    "!tr ',' '\\t' < 1111-infected-blastout-d12-d26.csv \\\n",
    "> inf-nocommas.csv"
   ]
  },
  {
   "cell_type": "code",
   "execution_count": 7,
   "metadata": {
    "collapsed": false
   },
   "outputs": [
    {
     "name": "stdout",
     "output_type": "stream",
     "text": [
      "﻿target_id\tup_ID\tevalue\r",
      "\r\n",
      "TRINITY_DN30057_c0_g1_i1\tsp|Q641I1|F135B_XENLA\t4.19E-25\r",
      "\r\n"
     ]
    }
   ],
   "source": [
    "!head -2 inf-nocommas.csv"
   ]
  },
  {
   "cell_type": "code",
   "execution_count": 8,
   "metadata": {
    "collapsed": true
   },
   "outputs": [],
   "source": [
    "#convert pipes to tabs\n",
    "!tr '|' '\\t' < inf-nocommas.csv \\\n",
    "> infected-blast-sep.tab"
   ]
  },
  {
   "cell_type": "code",
   "execution_count": 9,
   "metadata": {
    "collapsed": false
   },
   "outputs": [
    {
     "name": "stdout",
     "output_type": "stream",
     "text": [
      "﻿target_id\tup_ID\tevalue\r",
      "\r\n",
      "TRINITY_DN30057_c0_g1_i1\tsp\tQ641I1\tF135B_XENLA\t4.19E-25\r",
      "\r\n"
     ]
    }
   ],
   "source": [
    "!head -2 infected-blast-sep.tab"
   ]
  },
  {
   "cell_type": "code",
   "execution_count": 10,
   "metadata": {
    "collapsed": true
   },
   "outputs": [],
   "source": [
    "#remove column names\n",
    "!awk NR\\>1 infected-blast-sep.tab > infected-blast-sep2.tab"
   ]
  },
  {
   "cell_type": "code",
   "execution_count": 11,
   "metadata": {
    "collapsed": false
   },
   "outputs": [
    {
     "name": "stdout",
     "output_type": "stream",
     "text": [
      "TRINITY_DN30057_c0_g1_i1\tsp\tQ641I1\tF135B_XENLA\t4.19E-25\r",
      "\r\n",
      "TRINITY_DN49483_c0_g1_i1\tsp\tQ6VH22\tIF172_MOUSE\t1.09E-41\r",
      "\r\n"
     ]
    }
   ],
   "source": [
    "!head -2 infected-blast-sep2.tab"
   ]
  },
  {
   "cell_type": "code",
   "execution_count": 12,
   "metadata": {
    "collapsed": true
   },
   "outputs": [],
   "source": [
    "#reduce the number of columns, sort\n",
    "!awk -v OFS='\\t' '{print $3, $1, $5}' < infected-blast-sep2.tab | sort \\\n",
    "> infected-blast-sort.tab"
   ]
  },
  {
   "cell_type": "code",
   "execution_count": 13,
   "metadata": {
    "collapsed": false
   },
   "outputs": [
    {
     "name": "stdout",
     "output_type": "stream",
     "text": [
      "A0A0R4IBK5\tTRINITY_DN56324_c0_g1_i1\t2.73E-27\r",
      "\r\n",
      "A0CDD4\tTRINITY_DN7741_c2_g1_i4\t1.11E-119\r",
      "\r\n"
     ]
    }
   ],
   "source": [
    "!head -2 infected-blast-sort.tab"
   ]
  },
  {
   "cell_type": "code",
   "execution_count": 14,
   "metadata": {
    "collapsed": false
   },
   "outputs": [
    {
     "name": "stdout",
     "output_type": "stream",
     "text": [
      "    2384    7152   97896 infected-blast-sort.tab\n",
      "infected transcripts\n"
     ]
    }
   ],
   "source": [
    "!wc infected-blast-sort.tab\n",
    "!echo \"infected transcripts\""
   ]
  },
  {
   "cell_type": "markdown",
   "metadata": {},
   "source": [
    "### Step 1b. Uninfected"
   ]
  },
  {
   "cell_type": "code",
   "execution_count": 15,
   "metadata": {
    "collapsed": false
   },
   "outputs": [
    {
     "name": "stdout",
     "output_type": "stream",
     "text": [
      "﻿target_id,up_ID,evalue\r",
      "\r\n",
      "TRINITY_DN1627_c0_g1_i1,sp|Q08ER8|ZN543_HUMAN,1.42E-28\r",
      "\r\n"
     ]
    }
   ],
   "source": [
    "!head -2 1111-uninfected-blastout-d12-d26.csv"
   ]
  },
  {
   "cell_type": "code",
   "execution_count": 16,
   "metadata": {
    "collapsed": true
   },
   "outputs": [],
   "source": [
    "#convert commas to tabs\n",
    "!tr ',' '\\t' < 1111-uninfected-blastout-d12-d26.csv \\\n",
    "> uninf-nocommas.csv"
   ]
  },
  {
   "cell_type": "code",
   "execution_count": 17,
   "metadata": {
    "collapsed": false
   },
   "outputs": [
    {
     "name": "stdout",
     "output_type": "stream",
     "text": [
      "﻿target_id\tup_ID\tevalue\r",
      "\r\n",
      "TRINITY_DN1627_c0_g1_i1\tsp|Q08ER8|ZN543_HUMAN\t1.42E-28\r",
      "\r\n"
     ]
    }
   ],
   "source": [
    "!head -2 uninf-nocommas.csv"
   ]
  },
  {
   "cell_type": "code",
   "execution_count": 18,
   "metadata": {
    "collapsed": true
   },
   "outputs": [],
   "source": [
    "#convert pipes to tabs\n",
    "!tr '|' '\\t' < uninf-nocommas.csv \\\n",
    "> uninfected-blast-sep.tab"
   ]
  },
  {
   "cell_type": "code",
   "execution_count": 19,
   "metadata": {
    "collapsed": false
   },
   "outputs": [
    {
     "name": "stdout",
     "output_type": "stream",
     "text": [
      "﻿target_id\tup_ID\tevalue\r",
      "\r\n",
      "TRINITY_DN1627_c0_g1_i1\tsp\tQ08ER8\tZN543_HUMAN\t1.42E-28\r",
      "\r\n"
     ]
    }
   ],
   "source": [
    "!head -2 uninfected-blast-sep.tab"
   ]
  },
  {
   "cell_type": "code",
   "execution_count": 20,
   "metadata": {
    "collapsed": true
   },
   "outputs": [],
   "source": [
    "#remove column names\n",
    "!awk NR\\>1 uninfected-blast-sep.tab > uninfected-blast-sep2.tab"
   ]
  },
  {
   "cell_type": "code",
   "execution_count": 21,
   "metadata": {
    "collapsed": false
   },
   "outputs": [
    {
     "name": "stdout",
     "output_type": "stream",
     "text": [
      "TRINITY_DN1627_c0_g1_i1\tsp\tQ08ER8\tZN543_HUMAN\t1.42E-28\r",
      "\r\n",
      "TRINITY_DN14986_c0_g1_i1\tsp\tG5E8P0\tGCP6_MOUSE\t7.94E-23\r",
      "\r\n"
     ]
    }
   ],
   "source": [
    "!head -2 uninfected-blast-sep2.tab"
   ]
  },
  {
   "cell_type": "code",
   "execution_count": 22,
   "metadata": {
    "collapsed": true
   },
   "outputs": [],
   "source": [
    "#reduce the number of columns, sort\n",
    "!awk -v OFS='\\t' '{print $3, $1, $5}' < uninfected-blast-sep2.tab | sort \\\n",
    "> uninfected-blast-sort.tab"
   ]
  },
  {
   "cell_type": "code",
   "execution_count": 23,
   "metadata": {
    "collapsed": false
   },
   "outputs": [
    {
     "name": "stdout",
     "output_type": "stream",
     "text": [
      "G5E8P0\tTRINITY_DN14986_c0_g1_i1\t7.94E-23\r",
      "\r\n",
      "P33527\tTRINITY_DN7707_c0_g1_i8\t0\r",
      "\r\n"
     ]
    }
   ],
   "source": [
    "!head -2 uninfected-blast-sort.tab"
   ]
  },
  {
   "cell_type": "code",
   "execution_count": 24,
   "metadata": {
    "collapsed": false
   },
   "outputs": [
    {
     "name": "stdout",
     "output_type": "stream",
     "text": [
      "      27      81    1063 uninfected-blast-sort.tab\n",
      "uninfected transcripts\n"
     ]
    }
   ],
   "source": [
    "!wc uninfected-blast-sort.tab\n",
    "!echo \"uninfected transcripts\""
   ]
  },
  {
   "cell_type": "markdown",
   "metadata": {},
   "source": [
    "## Step 2. Format Uniprot-Swissprot database"
   ]
  },
  {
   "cell_type": "markdown",
   "metadata": {},
   "source": [
    "#### The uniprot annotation file was downloaded from [this link](https://www.uniprot.org/uniprot/?query=reviewed:yes) on 2019-11-11. The following information was included as separate columns: \n",
    "- Entry (Uniprot Accession code)\n",
    "- Protein Names\n",
    "- Gene ontology (biological process)\n",
    "- Gene ontology (cellular component)\n",
    "- Gene ontology (molecular function)\n",
    "- Gene ontology IDs\n",
    "- Status (reviewed or note reviewed)\n",
    "- Organism "
   ]
  },
  {
   "cell_type": "code",
   "execution_count": 25,
   "metadata": {
    "collapsed": false
   },
   "outputs": [
    {
     "name": "stdout",
     "output_type": "stream",
     "text": [
      "091419-crab-blastx-output.csv        crab-GOslim-count.csv\r\n",
      "1111-infected-blastout-d12-d26.csv   crab-GOslim.csv\r\n",
      "1111-infected-d12-d26.csv            crab-blastx-sp-full.tab\r\n",
      "1111-uninfected-blastout-d12-d26.csv crab-blastx-sp.tab\r\n",
      "1111-uninfected-d12-d26.csv          crab-forRevigo.tab\r\n",
      "\u001b[34m304428_L1\u001b[m\u001b[m                            crab-stress-genes.tab\r\n",
      "\u001b[34m304428_L2\u001b[m\u001b[m                            crab-stress-uniprotID.tab\r\n",
      "\u001b[34m329774_L1\u001b[m\u001b[m                            hemat-Blastquery-GOslim.sorted\r\n",
      "\u001b[34m329774_L2\u001b[m\u001b[m                            hemat-GOslim-count.csv\r\n",
      "\u001b[34m329775_L1\u001b[m\u001b[m                            hemat-blastx-sp-full.tab\r\n",
      "\u001b[34m329775_L2\u001b[m\u001b[m                            hemat-blastx-sp.tab\r\n",
      "\u001b[34m329776_L1\u001b[m\u001b[m                            hemat-forRevigo.tab\r\n",
      "\u001b[34m329776_L2\u001b[m\u001b[m                            inf-nocommas.csv\r\n",
      "\u001b[34m329777_L1\u001b[m\u001b[m                            infected-Blastquery-GOslim.sorted\r\n",
      "\u001b[34m329777_L2\u001b[m\u001b[m                            infected-blast-sep.tab\r\n",
      "Blastquery-GOslim.tab                infected-blast-sep2.tab\r\n",
      "GO-GOslim.sorted                     infected-blast-sort.tab\r\n",
      "_blast-GO-unfolded-nos.sorted        master-qubit-sample.csv\r\n",
      "_blast-GO-unfolded.sorted            master-qubit.xlsx\r\n",
      "_blast-GO-unfolded.tab               qubit_results-for-libraries.csv\r\n",
      "_blast-annot-crab.tab                readme.md\r\n",
      "_blast-annot.tab                     sample_table.csv\r\n",
      "_blast-sep.tab                       uninf-nocommas.csv\r\n",
      "_blast-sep2-crab.tab                 uninfected-Blastquery-GOslim.sorted\r\n",
      "_blast-sep2-hemat.tab                uninfected-blast-sep.tab\r\n",
      "_blast-sep2.tab                      uninfected-blast-sep2.tab\r\n",
      "_blast-sep3.tab                      uninfected-blast-sort.tab\r\n",
      "_blast-sort-crab.tab                 uniprot-SP-GO.sorted\r\n",
      "_blast-sort.tab                      uniprot-reviewed-yes.tab\r\n",
      "_intermediate.file                   ~$master-qubit.xlsx\r\n",
      "crab-Blastquery-GOslim.sorted\r\n"
     ]
    }
   ],
   "source": [
    "!ls"
   ]
  },
  {
   "cell_type": "code",
   "execution_count": 52,
   "metadata": {
    "collapsed": false
   },
   "outputs": [
    {
     "name": "stdout",
     "output_type": "stream",
     "text": [
      "Entry\tProtein names\tGene ontology (biological process)\tGene ontology (cellular component)\tGene ontology (molecular function)\tGene ontology IDs\tStatus\tOrganism\r\n",
      "B7NR61\tPantothenate kinase (EC 2.7.1.33) (Pantothenic acid kinase)\tcoenzyme A biosynthetic process [GO:0015937]\tcytoplasm [GO:0005737]\tATP binding [GO:0005524]; pantothenate kinase activity [GO:0004594]\tGO:0004594; GO:0005524; GO:0005737; GO:0015937\treviewed\tEscherichia coli O7:K1 (strain IAI39 / ExPEC)\r\n"
     ]
    }
   ],
   "source": [
    "!head -n2 uniprot-reviewed-yes.tab"
   ]
  },
  {
   "cell_type": "code",
   "execution_count": 54,
   "metadata": {
    "collapsed": false
   },
   "outputs": [],
   "source": [
    "#sort the file by the first column (-k 1) which is the Uniprot Entry (Uniprot Acession code)\n",
    "!sort uniprot-reviewed-yes.tab -k 1 > uniprot-SP-GO-sorted.tab"
   ]
  },
  {
   "cell_type": "code",
   "execution_count": 59,
   "metadata": {
    "collapsed": false
   },
   "outputs": [
    {
     "name": "stdout",
     "output_type": "stream",
     "text": [
      "A0A023GPI8\tLectin alpha chain (CboL) [Cleaved into: Lectin beta chain; Lectin gamma chain]\t\t\tmannose binding [GO:0005537]; metal ion binding [GO:0046872]\tGO:0005537; GO:0046872\treviewed\tCanavalia boliviana\r\n",
      "A0A023GPJ0\tImmunity protein CdiI\t\t\t\t\treviewed\tEnterobacter cloacae subsp. cloacae (strain ATCC 13047 / DSM 30054 / NBRC 13535 / NCDC 279-56)\r\n"
     ]
    }
   ],
   "source": [
    "!head -2 uniprot-SP-GO-sorted.tab"
   ]
  },
  {
   "cell_type": "code",
   "execution_count": 56,
   "metadata": {
    "collapsed": false
   },
   "outputs": [
    {
     "name": "stdout",
     "output_type": "stream",
     "text": [
      "25\r\n"
     ]
    }
   ],
   "source": [
    "#count the number of columns for reference \n",
    "!awk '{print NF; exit}' uniprot-SP-GO-sorted.tab"
   ]
  },
  {
   "cell_type": "markdown",
   "metadata": {},
   "source": [
    "## Step 3. Join `blast` output with Uniprot annotation file"
   ]
  },
  {
   "cell_type": "markdown",
   "metadata": {},
   "source": [
    "### Step 3a. Infected"
   ]
  },
  {
   "cell_type": "code",
   "execution_count": 64,
   "metadata": {
    "collapsed": false
   },
   "outputs": [],
   "source": [
    "#join the first column in the first file with the first column in the second file\n",
    "#the files are tab delimited, and the output should also be tab delimited (-t $'\\t')\n",
    "!join -1 1 -2 1 -t $'\\t' \\\n",
    "infected-blast-sort.tab \\\n",
    "uniprot-SP-GO-sorted.tab \\\n",
    "> infected-blast-annot.tab"
   ]
  },
  {
   "cell_type": "code",
   "execution_count": 67,
   "metadata": {
    "collapsed": false
   },
   "outputs": [
    {
     "name": "stdout",
     "output_type": "stream",
     "text": [
      "A0A0R4IBK5\tTRINITY_DN56324_c0_g1_i1\t2.73E-27\r",
      "\tE3 ubiquitin-protein ligase rnf213-alpha (EC 2.3.2.27) (EC 3.6.4.-) (Mysterin-A) (Mysterin-alpha) (RING finger protein 213-A) (RING finger protein 213-alpha) (RING-type E3 ubiquitin transferase rnf213-alpha)\tblood circulation [GO:0008015]; sprouting angiogenesis [GO:0002040]; ubiquitin-dependent protein catabolic process [GO:0006511]\tcytosol [GO:0005829]\tATPase activity [GO:0016887]; metal ion binding [GO:0046872]; ubiquitin-protein transferase activity [GO:0004842]\tGO:0002040; GO:0004842; GO:0005829; GO:0006511; GO:0008015; GO:0016887; GO:0046872\treviewed\tDanio rerio (Zebrafish) (Brachydanio rerio)\r\n",
      "A0CDD4\tTRINITY_DN7741_c2_g1_i4\t1.11E-119\r",
      "\tCilia- and flagella-associated protein 20 (Bug22p)\tcilium assembly [GO:0060271]; positive regulation of cell motility [GO:2000147]; positive regulation of feeding behavior [GO:2000253]; regulation of cilium beat frequency involved in ciliary motility [GO:0060296]\tciliary basal body [GO:0036064]; cilium [GO:0005929]; cytoplasm [GO:0005737]; microtubule [GO:0005874]; motile cilium [GO:0031514]\t\tGO:0005737; GO:0005874; GO:0005929; GO:0031514; GO:0036064; GO:0060271; GO:0060296; GO:2000147; GO:2000253\treviewed\tParamecium tetraurelia\r\n",
      "A0CDD4\tTRINITY_DN7741_c2_g1_i9\t8.38E-120\r",
      "\tCilia- and flagella-associated protein 20 (Bug22p)\tcilium assembly [GO:0060271]; positive regulation of cell motility [GO:2000147]; positive regulation of feeding behavior [GO:2000253]; regulation of cilium beat frequency involved in ciliary motility [GO:0060296]\tciliary basal body [GO:0036064]; cilium [GO:0005929]; cytoplasm [GO:0005737]; microtubule [GO:0005874]; motile cilium [GO:0031514]\t\tGO:0005737; GO:0005874; GO:0005929; GO:0031514; GO:0036064; GO:0060271; GO:0060296; GO:2000147; GO:2000253\treviewed\tParamecium tetraurelia\r\n",
      "A0DSB3\tTRINITY_DN11307_c0_g1_i2\t1.80E-39\r",
      "\tProbable protein phosphatase 2C 6 (PP2C 6) (EC 3.1.3.16)\t\tmembrane [GO:0016020]\tmagnesium-dependent protein serine/threonine phosphatase activity [GO:0004724]; metal ion binding [GO:0046872]; protein serine/threonine phosphatase activity [GO:0004722]\tGO:0004722; GO:0004724; GO:0016020; GO:0046872\treviewed\tParamecium tetraurelia\r\n",
      "A0DTY1\tTRINITY_DN22387_c0_g2_i4\t7.37E-36\r",
      "\tProbable protein phosphatase 2C 4 (PP2C 4) (EC 3.1.3.16)\t\tmembrane [GO:0016020]\tmagnesium-dependent protein serine/threonine phosphatase activity [GO:0004724]; metal ion binding [GO:0046872]; protein serine/threonine phosphatase activity [GO:0004722]\tGO:0004722; GO:0004724; GO:0016020; GO:0046872\treviewed\tParamecium tetraurelia\r\n",
      "A0DTY1\tTRINITY_DN22387_c0_g2_i6\t4.86E-36\r",
      "\tProbable protein phosphatase 2C 4 (PP2C 4) (EC 3.1.3.16)\t\tmembrane [GO:0016020]\tmagnesium-dependent protein serine/threonine phosphatase activity [GO:0004724]; metal ion binding [GO:0046872]; protein serine/threonine phosphatase activity [GO:0004722]\tGO:0004722; GO:0004724; GO:0016020; GO:0046872\treviewed\tParamecium tetraurelia\r\n",
      "A0JMA9\tTRINITY_DN45020_c0_g1_i1\t8.70E-110\r",
      "\tKatanin p60 ATPase-containing subunit A-like 2 (Katanin p60 subunit A-like 2) (EC 5.6.1.1) (p60 katanin-like 2)\tcytoplasmic microtubule organization [GO:0031122]\tcytoplasm [GO:0005737]; microtubule [GO:0005874]; nucleus [GO:0005634]; spindle [GO:0005819]; spindle pole [GO:0000922]\tATPase activity [GO:0016887]; ATP binding [GO:0005524]; isomerase activity [GO:0016853]; microtubule binding [GO:0008017]; microtubule-severing ATPase activity [GO:0008568]\tGO:0000922; GO:0005524; GO:0005634; GO:0005737; GO:0005819; GO:0005874; GO:0008017; GO:0008568; GO:0016853; GO:0016887; GO:0031122\treviewed\tXenopus tropicalis (Western clawed frog) (Silurana tropicalis)\r\n",
      "A0JP85\tTRINITY_DN6869_c0_g7_i3\t2.34E-124\r",
      "\tCCR4-NOT transcription complex subunit 1 (CCR4-associated factor 1)\tgene silencing by RNA [GO:0031047]; negative regulation of intracellular estrogen receptor signaling pathway [GO:0033147]; negative regulation of retinoic acid receptor signaling pathway [GO:0048387]; negative regulation of transcription by RNA polymerase II [GO:0000122]; negative regulation of translation [GO:0017148]; nuclear-transcribed mRNA catabolic process, deadenylation-dependent decay [GO:0000288]; positive regulation of cytoplasmic mRNA processing body assembly [GO:0010606]; positive regulation of nuclear-transcribed mRNA catabolic process, deadenylation-dependent decay [GO:1900153]; positive regulation of nuclear-transcribed mRNA poly(A) tail shortening [GO:0060213]\tCCR4-NOT complex [GO:0030014]; CCR4-NOT core complex [GO:0030015]; nucleus [GO:0005634]; P-body [GO:0000932]\testrogen receptor binding [GO:0030331]; retinoic acid receptor binding [GO:0042974]\tGO:0000122; GO:0000288; GO:0000932; GO:0005634; GO:0010606; GO:0017148; GO:0030014; GO:0030015; GO:0030331; GO:0031047; GO:0033147; GO:0042974; GO:0048387; GO:0060213; GO:1900153\treviewed\tXenopus tropicalis (Western clawed frog) (Silurana tropicalis)\r\n",
      "A0LJ41\tTRINITY_DN6393_c0_g1_i11\t3.57E-59\r",
      "\tChaperone protein DnaJ\tDNA replication [GO:0006260]; protein folding [GO:0006457]; response to heat [GO:0009408]\tcytoplasm [GO:0005737]\tATP binding [GO:0005524]; heat shock protein binding [GO:0031072]; unfolded protein binding [GO:0051082]; zinc ion binding [GO:0008270]\tGO:0005524; GO:0005737; GO:0006260; GO:0006457; GO:0008270; GO:0009408; GO:0031072; GO:0051082\treviewed\tSyntrophobacter fumaroxidans (strain DSM 10017 / MPOB)\r\n",
      "A0LJ41\tTRINITY_DN6393_c0_g1_i5\t2.13E-59\r",
      "\tChaperone protein DnaJ\tDNA replication [GO:0006260]; protein folding [GO:0006457]; response to heat [GO:0009408]\tcytoplasm [GO:0005737]\tATP binding [GO:0005524]; heat shock protein binding [GO:0031072]; unfolded protein binding [GO:0051082]; zinc ion binding [GO:0008270]\tGO:0005524; GO:0005737; GO:0006260; GO:0006457; GO:0008270; GO:0009408; GO:0031072; GO:0051082\treviewed\tSyntrophobacter fumaroxidans (strain DSM 10017 / MPOB)\r\n"
     ]
    }
   ],
   "source": [
    "!head -10 infected-blast-annot.tab"
   ]
  },
  {
   "cell_type": "code",
   "execution_count": 66,
   "metadata": {
    "collapsed": false
   },
   "outputs": [
    {
     "name": "stdout",
     "output_type": "stream",
     "text": [
      "Q9ZVX5\tTRINITY_DN17360_c0_g1_i3\t2.36E-22\r",
      "\tPentatricopeptide repeat-containing protein At2g16880\t\t\t\t\treviewed\tArabidopsis thaliana (Mouse-ear cress)\r\n",
      "Q9ZWG1\tTRINITY_DN10665_c0_g1_i7\t1.13E-44\r",
      "\tMitochondrial uncoupling protein 2 (AtPUMP2)\tamino acid transmembrane transport [GO:0003333]; mitochondrial transmembrane transport [GO:1990542]\tGolgi apparatus [GO:0005794]; integral component of membrane [GO:0016021]; mitochondrial inner membrane [GO:0005743]; plasma membrane [GO:0005886]\tamino acid transmembrane transporter activity [GO:0015171]; oxidative phosphorylation uncoupler activity [GO:0017077]\tGO:0003333; GO:0005743; GO:0005794; GO:0005886; GO:0015171; GO:0016021; GO:0017077; GO:1990542\treviewed\tArabidopsis thaliana (Mouse-ear cress)\r\n"
     ]
    }
   ],
   "source": [
    "!tail -2 infected-blast-annot.tab"
   ]
  },
  {
   "cell_type": "code",
   "execution_count": null,
   "metadata": {
    "collapsed": true
   },
   "outputs": [],
   "source": [
    "!wc -l infected-blast-annot.tab\n",
    "!echo \"annnotated infected transcripts\""
   ]
  },
  {
   "cell_type": "markdown",
   "metadata": {},
   "source": [
    "### Step 3b. Uninfected"
   ]
  },
  {
   "cell_type": "code",
   "execution_count": null,
   "metadata": {
    "collapsed": true
   },
   "outputs": [],
   "source": [
    "#join the first column in the first file with the first column in the second file\n",
    "#the files are tab delimited, and the output should also be tab delimited (-t $'\\t')\n",
    "!join -1 1 -2 1 -t $'\\t' \\\n",
    "uninfected-blast-sort.tab \\\n",
    "uniprot-SP-GO-sorted.tab \\\n",
    "> uninfected-blast-annot.tab"
   ]
  },
  {
   "cell_type": "code",
   "execution_count": null,
   "metadata": {
    "collapsed": true
   },
   "outputs": [],
   "source": [
    "!head -10 uninfected-blast-annot.tab"
   ]
  },
  {
   "cell_type": "code",
   "execution_count": null,
   "metadata": {
    "collapsed": true
   },
   "outputs": [],
   "source": [
    "!wc -l uninfected-blast-annot.tab\n",
    "!echo \"annnotated UNinfected transcripts\""
   ]
  },
  {
   "cell_type": "markdown",
   "metadata": {},
   "source": [
    "## Step 4. Isolate gene IDs. "
   ]
  },
  {
   "cell_type": "markdown",
   "metadata": {},
   "source": [
    "notes from EIMD script --> `blast` was performed using isoform data. Currently, each line in the annotated file is denoted by an isoform ID (ex. TRINITY_DN416168_c0_g1_i1). The gene IDs are similar to the isoform IDs, in that they have contig and gene information, but no isoform information (ex. TRINITY_DN416168_c0_g1). Differential expression analyses will be conducted in `edgeR` at the gene level, so gene IDs are needed on annotation files. "
   ]
  },
  {
   "cell_type": "markdown",
   "metadata": {},
   "source": [
    "### Step 4a. Infected"
   ]
  },
  {
   "cell_type": "code",
   "execution_count": null,
   "metadata": {
    "collapsed": true
   },
   "outputs": [],
   "source": [
    "# Isolate the contig column name with cut\n",
    "# flip order of characters with rev\n",
    "# delete last three characters with cut -c\n",
    "# flip order of characters with rev\n",
    "# add information as a new column to annotated table with paste\n",
    "\n",
    "!cut -f2 infected-blast-annot.tab \\\n",
    "| rev \\\n",
    "| cut -c 4- \\\n",
    "| rev \\\n",
    "> infected-blast-annot-geneIDOnly.tab"
   ]
  },
  {
   "cell_type": "code",
   "execution_count": null,
   "metadata": {
    "collapsed": true
   },
   "outputs": [],
   "source": [
    "!head infected-blast-annot-geneIDOnly.tab"
   ]
  },
  {
   "cell_type": "code",
   "execution_count": null,
   "metadata": {
    "collapsed": true
   },
   "outputs": [],
   "source": [
    "#line count matches line count of original file\n",
    "!wc -l infected-blast-annot-geneIDOnly.tab"
   ]
  },
  {
   "cell_type": "code",
   "execution_count": null,
   "metadata": {
    "collapsed": true
   },
   "outputs": [],
   "source": [
    "!paste infected-blast-annot-geneIDOnly.tab infected-blast-annot.tab \\\n",
    "> infected-blast-annot-withGeneID.tab"
   ]
  },
  {
   "cell_type": "code",
   "execution_count": null,
   "metadata": {
    "collapsed": true
   },
   "outputs": [],
   "source": [
    "!head -2 infected-blast-annot-withGeneID.tab"
   ]
  },
  {
   "cell_type": "markdown",
   "metadata": {},
   "source": [
    "### Step 4b. Uninfected"
   ]
  },
  {
   "cell_type": "code",
   "execution_count": null,
   "metadata": {
    "collapsed": true
   },
   "outputs": [],
   "source": [
    "# Isolate the contig column name with cut\n",
    "# flip order of characters with rev\n",
    "# delete last three characters with cut -c\n",
    "# flip order of characters with rev\n",
    "# add information as a new column to annotated table with paste\n",
    "\n",
    "!cut -f2 uninfected-blast-annot.tab \\\n",
    "| rev \\\n",
    "| cut -c 4- \\\n",
    "| rev \\\n",
    "> uninfected-blast-annot-geneIDOnly.tab"
   ]
  },
  {
   "cell_type": "code",
   "execution_count": null,
   "metadata": {
    "collapsed": true
   },
   "outputs": [],
   "source": [
    "!head uninfected-blast-annot-geneIDOnly.tab"
   ]
  },
  {
   "cell_type": "code",
   "execution_count": null,
   "metadata": {
    "collapsed": true
   },
   "outputs": [],
   "source": [
    "#line count matches line count of original file\n",
    "!wc -l uninfected-blast-annot-geneIDOnly.tab"
   ]
  },
  {
   "cell_type": "code",
   "execution_count": null,
   "metadata": {
    "collapsed": true
   },
   "outputs": [],
   "source": [
    "!paste uninfected-blast-annot-geneIDOnly.tab uninfected-blast-annot.tab \\\n",
    "> uninfected-blast-annot-withGeneID.tab"
   ]
  },
  {
   "cell_type": "code",
   "execution_count": null,
   "metadata": {
    "collapsed": true
   },
   "outputs": [],
   "source": [
    "!head -2 uninfected-blast-annot-withGeneID.tab"
   ]
  }
 ],
 "metadata": {
  "kernelspec": {
   "display_name": "Python [default]",
   "language": "python",
   "name": "python2"
  },
  "language_info": {
   "codemirror_mode": {
    "name": "ipython",
    "version": 2
   },
   "file_extension": ".py",
   "mimetype": "text/x-python",
   "name": "python",
   "nbconvert_exporter": "python",
   "pygments_lexer": "ipython2",
   "version": "2.7.12"
  }
 },
 "nbformat": 4,
 "nbformat_minor": 1
}
