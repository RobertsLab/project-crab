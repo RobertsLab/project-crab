{
 "cells": [
  {
   "cell_type": "markdown",
   "metadata": {},
   "source": [
    "## `blastx` and Uniprot file merging"
   ]
  },
  {
   "cell_type": "markdown",
   "metadata": {},
   "source": [
    "### based on this script from EIMD 2019: https://github.com/eimd-2019/project-EWD-transcriptomics/blob/master/scripts/2019-07-10-blastx-Uniprot-File-Merging.ipynb"
   ]
  },
  {
   "cell_type": "markdown",
   "metadata": {},
   "source": [
    "#### in this notebook, I'll merge the `blast` output from SR for infected and uninfected _C. bairdi_ with information from the Uniprot-Swissprot databse. "
   ]
  },
  {
   "cell_type": "markdown",
   "metadata": {},
   "source": [
    "## Step 0. Set working directory"
   ]
  },
  {
   "cell_type": "code",
   "execution_count": 1,
   "metadata": {
    "collapsed": false
   },
   "outputs": [
    {
     "data": {
      "text/plain": [
       "u'/Volumes/toaster/grace/gitrepos/project-crab/notebooks'"
      ]
     },
     "execution_count": 1,
     "metadata": {},
     "output_type": "execute_result"
    }
   ],
   "source": [
    "pwd"
   ]
  },
  {
   "cell_type": "code",
   "execution_count": 2,
   "metadata": {
    "collapsed": true
   },
   "outputs": [],
   "source": [
    "wd = '/Volumes/toaster/grace/gitrepos/project-crab/analyses/'"
   ]
  },
  {
   "cell_type": "code",
   "execution_count": 3,
   "metadata": {
    "collapsed": false
   },
   "outputs": [
    {
     "name": "stdout",
     "output_type": "stream",
     "text": [
      "/Volumes/toaster/grace/gitrepos/project-crab/analyses\n"
     ]
    }
   ],
   "source": [
    "cd {wd}"
   ]
  },
  {
   "cell_type": "code",
   "execution_count": 4,
   "metadata": {
    "collapsed": false
   },
   "outputs": [
    {
     "name": "stdout",
     "output_type": "stream",
     "text": [
      "091419-crab-blastx-output.csv         _blast-sep3.tab\r\n",
      "1111-infected-blastout-d12-d26.csv    _blast-sort-crab.tab\r\n",
      "1111-infected-d12-d26.csv             _blast-sort.tab\r\n",
      "1111-uninfected-blastout-d12-d26.csv  _intermediate.file\r\n",
      "1111-uninfected-d12-d26.csv           crab-Blastquery-GOslim.sorted\r\n",
      "\u001b[34m304428_L1\u001b[m\u001b[m/                            crab-GOslim-count.csv\r\n",
      "\u001b[34m304428_L2\u001b[m\u001b[m/                            crab-GOslim.csv\r\n",
      "\u001b[34m329774_L1\u001b[m\u001b[m/                            crab-blastx-sp-full.tab\r\n",
      "\u001b[34m329774_L2\u001b[m\u001b[m/                            crab-blastx-sp.tab\r\n",
      "\u001b[34m329775_L1\u001b[m\u001b[m/                            crab-forRevigo.tab\r\n",
      "\u001b[34m329775_L2\u001b[m\u001b[m/                            crab-stress-genes.tab\r\n",
      "\u001b[34m329776_L1\u001b[m\u001b[m/                            crab-stress-uniprotID.tab\r\n",
      "\u001b[34m329776_L2\u001b[m\u001b[m/                            hemat-Blastquery-GOslim.sorted\r\n",
      "\u001b[34m329777_L1\u001b[m\u001b[m/                            hemat-GOslim-count.csv\r\n",
      "\u001b[34m329777_L2\u001b[m\u001b[m/                            hemat-blastx-sp-full.tab\r\n",
      "Blastquery-GOslim.tab                 hemat-blastx-sp.tab\r\n",
      "GO-GOslim.sorted                      hemat-forRevigo.tab\r\n",
      "_blast-GO-unfolded-nos.sorted         infected-Blastquery-GOslim.sorted\r\n",
      "_blast-GO-unfolded.sorted             master-qubit-sample.csv\r\n",
      "_blast-GO-unfolded.tab                master-qubit.xlsx\r\n",
      "_blast-annot-crab.tab                 qubit_results-for-libraries.csv\r\n",
      "_blast-annot.tab                      readme.md\r\n",
      "_blast-sep.tab                        sample_table.csv\r\n",
      "_blast-sep2-crab.tab                  uninfected-Blastquery-GOslim.sorted\r\n",
      "_blast-sep2-hemat.tab                 uniprot-SP-GO.sorted\r\n",
      "_blast-sep2.tab                       ~$master-qubit.xlsx\r\n"
     ]
    }
   ],
   "source": [
    "ls -F"
   ]
  },
  {
   "cell_type": "markdown",
   "metadata": {},
   "source": [
    "## Step 1. Format `blast` output"
   ]
  },
  {
   "cell_type": "markdown",
   "metadata": {},
   "source": [
    "### Step 1a. Infected"
   ]
  },
  {
   "cell_type": "code",
   "execution_count": 5,
   "metadata": {
    "collapsed": false
   },
   "outputs": [
    {
     "name": "stdout",
     "output_type": "stream",
     "text": [
      "﻿target_id,up_ID,evalue\r",
      "\r\n",
      "TRINITY_DN30057_c0_g1_i1,sp|Q641I1|F135B_XENLA,4.19E-25\r",
      "\r\n"
     ]
    }
   ],
   "source": [
    "!head -2 1111-infected-blastout-d12-d26.csv"
   ]
  },
  {
   "cell_type": "code",
   "execution_count": 6,
   "metadata": {
    "collapsed": true
   },
   "outputs": [],
   "source": [
    "#convert commas to tabs\n",
    "!tr ',' '\\t' < 1111-infected-blastout-d12-d26.csv \\\n",
    "> inf-nocommas.csv"
   ]
  },
  {
   "cell_type": "code",
   "execution_count": 7,
   "metadata": {
    "collapsed": false
   },
   "outputs": [
    {
     "name": "stdout",
     "output_type": "stream",
     "text": [
      "﻿target_id\tup_ID\tevalue\r",
      "\r\n",
      "TRINITY_DN30057_c0_g1_i1\tsp|Q641I1|F135B_XENLA\t4.19E-25\r",
      "\r\n"
     ]
    }
   ],
   "source": [
    "!head -2 inf-nocommas.csv"
   ]
  },
  {
   "cell_type": "code",
   "execution_count": 8,
   "metadata": {
    "collapsed": true
   },
   "outputs": [],
   "source": [
    "#convert pipes to tabs\n",
    "!tr '|' '\\t' < inf-nocommas.csv \\\n",
    "> infected-blast-sep.tab"
   ]
  },
  {
   "cell_type": "code",
   "execution_count": 9,
   "metadata": {
    "collapsed": false
   },
   "outputs": [
    {
     "name": "stdout",
     "output_type": "stream",
     "text": [
      "﻿target_id\tup_ID\tevalue\r",
      "\r\n",
      "TRINITY_DN30057_c0_g1_i1\tsp\tQ641I1\tF135B_XENLA\t4.19E-25\r",
      "\r\n"
     ]
    }
   ],
   "source": [
    "!head -2 infected-blast-sep.tab"
   ]
  },
  {
   "cell_type": "code",
   "execution_count": 10,
   "metadata": {
    "collapsed": true
   },
   "outputs": [],
   "source": [
    "#remove column names\n",
    "!awk NR\\>1 infected-blast-sep.tab > infected-blast-sep2.tab"
   ]
  },
  {
   "cell_type": "code",
   "execution_count": 11,
   "metadata": {
    "collapsed": false
   },
   "outputs": [
    {
     "name": "stdout",
     "output_type": "stream",
     "text": [
      "TRINITY_DN30057_c0_g1_i1\tsp\tQ641I1\tF135B_XENLA\t4.19E-25\r",
      "\r\n",
      "TRINITY_DN49483_c0_g1_i1\tsp\tQ6VH22\tIF172_MOUSE\t1.09E-41\r",
      "\r\n"
     ]
    }
   ],
   "source": [
    "!head -2 infected-blast-sep2.tab"
   ]
  },
  {
   "cell_type": "code",
   "execution_count": 12,
   "metadata": {
    "collapsed": true
   },
   "outputs": [],
   "source": [
    "#reduce the number of columns, sort\n",
    "!awk -v OFS='\\t' '{print $3, $1, $5}' < infected-blast-sep2.tab | sort \\\n",
    "> infected-blast-sort.tab"
   ]
  },
  {
   "cell_type": "code",
   "execution_count": 13,
   "metadata": {
    "collapsed": false
   },
   "outputs": [
    {
     "name": "stdout",
     "output_type": "stream",
     "text": [
      "A0A0R4IBK5\tTRINITY_DN56324_c0_g1_i1\t2.73E-27\r",
      "\r\n",
      "A0CDD4\tTRINITY_DN7741_c2_g1_i4\t1.11E-119\r",
      "\r\n"
     ]
    }
   ],
   "source": [
    "!head -2 infected-blast-sort.tab"
   ]
  },
  {
   "cell_type": "code",
   "execution_count": 14,
   "metadata": {
    "collapsed": false
   },
   "outputs": [
    {
     "name": "stdout",
     "output_type": "stream",
     "text": [
      "    2384    7152   97896 infected-blast-sort.tab\n",
      "infected transcripts\n"
     ]
    }
   ],
   "source": [
    "!wc infected-blast-sort.tab\n",
    "!echo \"infected transcripts\""
   ]
  },
  {
   "cell_type": "markdown",
   "metadata": {},
   "source": [
    "### Step 1b. Uninfected"
   ]
  },
  {
   "cell_type": "code",
   "execution_count": 15,
   "metadata": {
    "collapsed": false
   },
   "outputs": [
    {
     "name": "stdout",
     "output_type": "stream",
     "text": [
      "﻿target_id,up_ID,evalue\r",
      "\r\n",
      "TRINITY_DN1627_c0_g1_i1,sp|Q08ER8|ZN543_HUMAN,1.42E-28\r",
      "\r\n"
     ]
    }
   ],
   "source": [
    "!head -2 1111-uninfected-blastout-d12-d26.csv"
   ]
  },
  {
   "cell_type": "code",
   "execution_count": 16,
   "metadata": {
    "collapsed": true
   },
   "outputs": [],
   "source": [
    "#convert commas to tabs\n",
    "!tr ',' '\\t' < 1111-uninfected-blastout-d12-d26.csv \\\n",
    "> uninf-nocommas.csv"
   ]
  },
  {
   "cell_type": "code",
   "execution_count": 17,
   "metadata": {
    "collapsed": false
   },
   "outputs": [
    {
     "name": "stdout",
     "output_type": "stream",
     "text": [
      "﻿target_id\tup_ID\tevalue\r",
      "\r\n",
      "TRINITY_DN1627_c0_g1_i1\tsp|Q08ER8|ZN543_HUMAN\t1.42E-28\r",
      "\r\n"
     ]
    }
   ],
   "source": [
    "!head -2 uninf-nocommas.csv"
   ]
  },
  {
   "cell_type": "code",
   "execution_count": 18,
   "metadata": {
    "collapsed": true
   },
   "outputs": [],
   "source": [
    "#convert pipes to tabs\n",
    "!tr '|' '\\t' < uninf-nocommas.csv \\\n",
    "> uninfected-blast-sep.tab"
   ]
  },
  {
   "cell_type": "code",
   "execution_count": 19,
   "metadata": {
    "collapsed": false
   },
   "outputs": [
    {
     "name": "stdout",
     "output_type": "stream",
     "text": [
      "﻿target_id\tup_ID\tevalue\r",
      "\r\n",
      "TRINITY_DN1627_c0_g1_i1\tsp\tQ08ER8\tZN543_HUMAN\t1.42E-28\r",
      "\r\n"
     ]
    }
   ],
   "source": [
    "!head -2 uninfected-blast-sep.tab"
   ]
  },
  {
   "cell_type": "code",
   "execution_count": 20,
   "metadata": {
    "collapsed": true
   },
   "outputs": [],
   "source": [
    "#remove column names\n",
    "!awk NR\\>1 uninfected-blast-sep.tab > uninfected-blast-sep2.tab"
   ]
  },
  {
   "cell_type": "code",
   "execution_count": 21,
   "metadata": {
    "collapsed": false
   },
   "outputs": [
    {
     "name": "stdout",
     "output_type": "stream",
     "text": [
      "TRINITY_DN1627_c0_g1_i1\tsp\tQ08ER8\tZN543_HUMAN\t1.42E-28\r",
      "\r\n",
      "TRINITY_DN14986_c0_g1_i1\tsp\tG5E8P0\tGCP6_MOUSE\t7.94E-23\r",
      "\r\n"
     ]
    }
   ],
   "source": [
    "!head -2 uninfected-blast-sep2.tab"
   ]
  },
  {
   "cell_type": "code",
   "execution_count": 22,
   "metadata": {
    "collapsed": true
   },
   "outputs": [],
   "source": [
    "#reduce the number of columns, sort\n",
    "!awk -v OFS='\\t' '{print $3, $1, $5}' < uninfected-blast-sep2.tab | sort \\\n",
    "> uninfected-blast-sort.tab"
   ]
  },
  {
   "cell_type": "code",
   "execution_count": 23,
   "metadata": {
    "collapsed": false
   },
   "outputs": [
    {
     "name": "stdout",
     "output_type": "stream",
     "text": [
      "G5E8P0\tTRINITY_DN14986_c0_g1_i1\t7.94E-23\r",
      "\r\n",
      "P33527\tTRINITY_DN7707_c0_g1_i8\t0\r",
      "\r\n"
     ]
    }
   ],
   "source": [
    "!head -2 uninfected-blast-sort.tab"
   ]
  },
  {
   "cell_type": "code",
   "execution_count": 24,
   "metadata": {
    "collapsed": false
   },
   "outputs": [
    {
     "name": "stdout",
     "output_type": "stream",
     "text": [
      "      27      81    1063 uninfected-blast-sort.tab\n",
      "uninfected transcripts\n"
     ]
    }
   ],
   "source": [
    "!wc uninfected-blast-sort.tab\n",
    "!echo \"uninfected transcripts\""
   ]
  },
  {
   "cell_type": "markdown",
   "metadata": {},
   "source": [
    "## Step 2. Format Uniprot-Swissprot database"
   ]
  },
  {
   "cell_type": "markdown",
   "metadata": {},
   "source": [
    "#### The uniprot annotation file was downloaded from [this link](https://www.uniprot.org/uniprot/?query=reviewed:yes) on 2019-11-11. The following information was included as separate columns: \n",
    "- Entry (Uniprot Accession code)\n",
    "- Protein Names\n",
    "- Gene ontology (biological process)\n",
    "- Gene ontology (cellular component)\n",
    "- Gene ontology (molecular function)\n",
    "- Gene ontology IDs\n",
    "- Status (reviewed or note reviewed)\n",
    "- Organism "
   ]
  },
  {
   "cell_type": "code",
   "execution_count": 25,
   "metadata": {
    "collapsed": false
   },
   "outputs": [
    {
     "name": "stdout",
     "output_type": "stream",
     "text": [
      "091419-crab-blastx-output.csv        crab-GOslim-count.csv\r\n",
      "1111-infected-blastout-d12-d26.csv   crab-GOslim.csv\r\n",
      "1111-infected-d12-d26.csv            crab-blastx-sp-full.tab\r\n",
      "1111-uninfected-blastout-d12-d26.csv crab-blastx-sp.tab\r\n",
      "1111-uninfected-d12-d26.csv          crab-forRevigo.tab\r\n",
      "\u001b[34m304428_L1\u001b[m\u001b[m                            crab-stress-genes.tab\r\n",
      "\u001b[34m304428_L2\u001b[m\u001b[m                            crab-stress-uniprotID.tab\r\n",
      "\u001b[34m329774_L1\u001b[m\u001b[m                            hemat-Blastquery-GOslim.sorted\r\n",
      "\u001b[34m329774_L2\u001b[m\u001b[m                            hemat-GOslim-count.csv\r\n",
      "\u001b[34m329775_L1\u001b[m\u001b[m                            hemat-blastx-sp-full.tab\r\n",
      "\u001b[34m329775_L2\u001b[m\u001b[m                            hemat-blastx-sp.tab\r\n",
      "\u001b[34m329776_L1\u001b[m\u001b[m                            hemat-forRevigo.tab\r\n",
      "\u001b[34m329776_L2\u001b[m\u001b[m                            inf-nocommas.csv\r\n",
      "\u001b[34m329777_L1\u001b[m\u001b[m                            infected-Blastquery-GOslim.sorted\r\n",
      "\u001b[34m329777_L2\u001b[m\u001b[m                            infected-blast-sep.tab\r\n",
      "Blastquery-GOslim.tab                infected-blast-sep2.tab\r\n",
      "GO-GOslim.sorted                     infected-blast-sort.tab\r\n",
      "_blast-GO-unfolded-nos.sorted        master-qubit-sample.csv\r\n",
      "_blast-GO-unfolded.sorted            master-qubit.xlsx\r\n",
      "_blast-GO-unfolded.tab               qubit_results-for-libraries.csv\r\n",
      "_blast-annot-crab.tab                readme.md\r\n",
      "_blast-annot.tab                     sample_table.csv\r\n",
      "_blast-sep.tab                       uninf-nocommas.csv\r\n",
      "_blast-sep2-crab.tab                 uninfected-Blastquery-GOslim.sorted\r\n",
      "_blast-sep2-hemat.tab                uninfected-blast-sep.tab\r\n",
      "_blast-sep2.tab                      uninfected-blast-sep2.tab\r\n",
      "_blast-sep3.tab                      uninfected-blast-sort.tab\r\n",
      "_blast-sort-crab.tab                 uniprot-SP-GO.sorted\r\n",
      "_blast-sort.tab                      uniprot-reviewed-yes.tab\r\n",
      "_intermediate.file                   ~$master-qubit.xlsx\r\n",
      "crab-Blastquery-GOslim.sorted\r\n"
     ]
    }
   ],
   "source": [
    "!ls"
   ]
  },
  {
   "cell_type": "code",
   "execution_count": 51,
   "metadata": {
    "collapsed": false
   },
   "outputs": [
    {
     "name": "stdout",
     "output_type": "stream",
     "text": [
      "Entry name Protein names Gene ontology (biological process) Gene ontology (cellular component) Gene ontology (molecular function) Gene ontology IDs Status Organism\r\n",
      "B7NR61 Pantothenate kinase (EC 2.7.1.33) (Pantothenic acid kinase) coenzyme A biosynthetic process [GO:0015937] cytoplasm [GO:0005737] ATP binding [GO:0005524]; pantothenate kinase activity [GO:0004594] GO:0004594; GO:0005524; GO:0005737; GO:0015937 reviewed Escherichia coli O7:K1 (strain IAI39 / ExPEC)\r\n"
     ]
    }
   ],
   "source": [
    "!head -n2 uniprot-reviewed-yes.tab"
   ]
  },
  {
   "cell_type": "code",
   "execution_count": 39,
   "metadata": {
    "collapsed": false
   },
   "outputs": [],
   "source": [
    "#sort the file by the first column (-k 1) which is the Uniprot Entry (Uniprot Acession code)\n",
    "!sort uniprot-reviewed-yes-2.tab -k 1 > uniprot-SP-GO-sorted.tab"
   ]
  },
  {
   "cell_type": "code",
   "execution_count": 49,
   "metadata": {
    "collapsed": false
   },
   "outputs": [
    {
     "name": "stdout",
     "output_type": "stream",
     "text": [
      "001R_FRG3G Putative transcription factor 001R regulation of viral transcription [GO:0046782] GO:0046782 reviewed Frog virus 3 (isolate Goorha) (FV-3)\r\n",
      "002L_FRG3G Uncharacterized protein 002L host cell membrane [GO:0033644]; integral component of membrane [GO:0016021] GO:0016021; GO:0033644 reviewed Frog virus 3 (isolate Goorha) (FV-3)\r\n",
      "002R_IIV3 Uncharacterized protein 002R reviewed Invertebrate iridescent virus 3 (IIV-3) (Mosquito iridescent virus)\r\n",
      "003L_IIV3 Uncharacterized protein 003L reviewed Invertebrate iridescent virus 3 (IIV-3) (Mosquito iridescent virus)\r\n",
      "003R_FRG3G Uncharacterized protein 3R reviewed Frog virus 3 (isolate Goorha) (FV-3)\r\n",
      "004R_FRG3G Uncharacterized protein 004R host cell membrane [GO:0033644]; integral component of membrane [GO:0016021] GO:0016021; GO:0033644 reviewed Frog virus 3 (isolate Goorha) (FV-3)\r\n",
      "005L_IIV3 Uncharacterized protein 005L reviewed Invertebrate iridescent virus 3 (IIV-3) (Mosquito iridescent virus)\r\n",
      "005R_FRG3G Uncharacterized protein 005R reviewed Frog virus 3 (isolate Goorha) (FV-3)\r\n",
      "006L_IIV6 Putative KilA-N domain-containing protein 006L reviewed Invertebrate iridescent virus 6 (IIV-6) (Chilo iridescent virus)\r\n",
      "006R_FRG3G Uncharacterized protein 006R reviewed Frog virus 3 (isolate Goorha) (FV-3)\r\n"
     ]
    }
   ],
   "source": [
    "!head -10 uniprot-SP-GO-sorted.tab"
   ]
  },
  {
   "cell_type": "code",
   "execution_count": 41,
   "metadata": {
    "collapsed": false
   },
   "outputs": [
    {
     "name": "stdout",
     "output_type": "stream",
     "text": [
      "18\r\n"
     ]
    }
   ],
   "source": [
    "#count the number of columns for reference \n",
    "!awk '{print NF; exit}' uniprot-SP-GO-sorted.tab"
   ]
  },
  {
   "cell_type": "markdown",
   "metadata": {},
   "source": [
    "## Step 3. Join `blast` output with Uniprot annotation file"
   ]
  },
  {
   "cell_type": "markdown",
   "metadata": {},
   "source": [
    "### Step 3a. Infected"
   ]
  },
  {
   "cell_type": "code",
   "execution_count": 45,
   "metadata": {
    "collapsed": false
   },
   "outputs": [
    {
     "ename": "SyntaxError",
     "evalue": "invalid syntax (<ipython-input-45-a84c32ca200b>, line 4)",
     "output_type": "error",
     "traceback": [
      "\u001b[0;36m  File \u001b[0;32m\"<ipython-input-45-a84c32ca200b>\"\u001b[0;36m, line \u001b[0;32m4\u001b[0m\n\u001b[0;31m    infected-blast-sort.tab uniprot-SP-GO-sorted.tab > infected-blast-annot.tab\u001b[0m\n\u001b[0m                                  ^\u001b[0m\n\u001b[0;31mSyntaxError\u001b[0m\u001b[0;31m:\u001b[0m invalid syntax\n"
     ]
    }
   ],
   "source": [
    "#join the first column in the first file with the first column in the second file\n",
    "#the files are tab delimited, and the output should also be tab delimited (-t $'\\t')\n",
    "!join -1 1 -2 1 -t $'\\t' \\ \n",
    "infected-blast-sort.tab \\\n",
    "uniprot-SP-GO-sorted.tab \\\n",
    "> infected-blast-annot.tab"
   ]
  },
  {
   "cell_type": "code",
   "execution_count": null,
   "metadata": {
    "collapsed": true
   },
   "outputs": [],
   "source": []
  }
 ],
 "metadata": {
  "kernelspec": {
   "display_name": "Python [default]",
   "language": "python",
   "name": "python2"
  },
  "language_info": {
   "codemirror_mode": {
    "name": "ipython",
    "version": 2
   },
   "file_extension": ".py",
   "mimetype": "text/x-python",
   "name": "python",
   "nbconvert_exporter": "python",
   "pygments_lexer": "ipython2",
   "version": "2.7.12"
  }
 },
 "nbformat": 4,
 "nbformat_minor": 1
}
