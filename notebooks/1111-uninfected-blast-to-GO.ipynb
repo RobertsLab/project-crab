{
 "cells": [
  {
   "cell_type": "markdown",
   "metadata": {},
   "source": [
    "# Notebook to take list of uninfected DEGs blast output to GO slim terms. "
   ]
  },
  {
   "cell_type": "markdown",
   "metadata": {},
   "source": [
    "### Big list that SR made of DEGs (infected and uninfected, day 12 and day 26) with blast output: https://raw.githubusercontent.com/sr320/nb-2019/master/C_bairdi/analyses/bigtable.txt \n",
    "\n",
    "#### I made list of infected in excel --> filtered out the \"NA\" e-values; only showed the counts of \"0\" for columns ending in 777 and 775 (those are the uninfected libraries). Saved the list here: https://raw.githubusercontent.com/RobertsLab/project-crab/master/analyses/1111-uninfected-d12-d26.csv"
   ]
  },
  {
   "cell_type": "markdown",
   "metadata": {},
   "source": [
    "### from Steven's notebook: https://github.com/sr320/nb-2018/blob/master/C_virginica/83-blast-2-slim.ipynb"
   ]
  },
  {
   "cell_type": "markdown",
   "metadata": {},
   "source": [
    "### Need three files:\n",
    "1) blastout file (dinoflagellate db blastx joined with uniprot blastx) in format -6 (https://raw.githubusercontent.com/RobertsLab/project-crab/master/analyses/1111-uninfected-blastout-d12-d26.csv)       \n",
    "2) Uniprot GO annotation file (340M) from : http://owl.fish.washington.edu/halfshell/bu-alanine-wd/17-07-20/uniprot-SP-GO.sorted       \n",
    "3) GOslim file from : http://owl.fish.washington.edu/halfshell/bu-alanine-wd/17-07-20/Go-GOslim.sorted"
   ]
  },
  {
   "cell_type": "code",
   "execution_count": 1,
   "metadata": {
    "collapsed": false
   },
   "outputs": [
    {
     "data": {
      "text/plain": [
       "u'/Volumes/toaster/grace/gitrepos/project-crab/notebooks'"
      ]
     },
     "execution_count": 1,
     "metadata": {},
     "output_type": "execute_result"
    }
   ],
   "source": [
    "pwd"
   ]
  },
  {
   "cell_type": "code",
   "execution_count": 2,
   "metadata": {
    "collapsed": true
   },
   "outputs": [],
   "source": [
    "wd = \"/Volumes/toaster/grace/gitrepos/project-crab/analyses/\""
   ]
  },
  {
   "cell_type": "code",
   "execution_count": 3,
   "metadata": {
    "collapsed": false
   },
   "outputs": [
    {
     "name": "stdout",
     "output_type": "stream",
     "text": [
      "/Volumes/toaster/grace/gitrepos/project-crab/analyses\n"
     ]
    }
   ],
   "source": [
    "cd {wd}"
   ]
  },
  {
   "cell_type": "code",
   "execution_count": 4,
   "metadata": {
    "collapsed": false
   },
   "outputs": [
    {
     "name": "stdout",
     "output_type": "stream",
     "text": [
      "  % Total    % Received % Xferd  Average Speed   Time    Time     Time  Current\n",
      "                                 Dload  Upload   Total   Spent    Left  Speed\n",
      "100 2314k  100 2314k    0     0  3143k      0 --:--:-- --:--:-- --:--:-- 3144k\n"
     ]
    }
   ],
   "source": [
    "!curl -O http://owl.fish.washington.edu/halfshell/bu-alanine-wd/17-07-20/GO-GOslim.sorted"
   ]
  },
  {
   "cell_type": "code",
   "execution_count": 5,
   "metadata": {
    "collapsed": false
   },
   "outputs": [
    {
     "name": "stdout",
     "output_type": "stream",
     "text": [
      "  % Total    % Received % Xferd  Average Speed   Time    Time     Time  Current\n",
      "                                 Dload  Upload   Total   Spent    Left  Speed\n",
      "100  340M  100  340M    0     0  33.7M      0  0:00:10  0:00:10 --:--:-- 40.6M\n"
     ]
    }
   ],
   "source": [
    "!curl -O http://owl.fish.washington.edu/halfshell/bu-alanine-wd/17-07-20/uniprot-SP-GO.sorted"
   ]
  },
  {
   "cell_type": "code",
   "execution_count": 7,
   "metadata": {
    "collapsed": false
   },
   "outputs": [
    {
     "name": "stdout",
     "output_type": "stream",
     "text": [
      "091419-crab-blastx-output.csv        _blast-sep3.tab\r\n",
      "1111-infected-blastout-d12-d26.csv   _blast-sort-crab.tab\r\n",
      "1111-infected-d12-d26.csv            _blast-sort.tab\r\n",
      "1111-uninfected-blastout-d12-d26.csv _intermediate.file\r\n",
      "1111-uninfected-d12-d26.csv          crab-Blastquery-GOslim.sorted\r\n",
      "\u001b[34m304428_L1\u001b[m\u001b[m                            crab-GOslim-count.csv\r\n",
      "\u001b[34m304428_L2\u001b[m\u001b[m                            crab-GOslim.csv\r\n",
      "\u001b[34m329774_L1\u001b[m\u001b[m                            crab-blastx-sp-full.tab\r\n",
      "\u001b[34m329774_L2\u001b[m\u001b[m                            crab-blastx-sp.tab\r\n",
      "\u001b[34m329775_L1\u001b[m\u001b[m                            crab-forRevigo.tab\r\n",
      "\u001b[34m329775_L2\u001b[m\u001b[m                            crab-stress-genes.tab\r\n",
      "\u001b[34m329776_L1\u001b[m\u001b[m                            crab-stress-uniprotID.tab\r\n",
      "\u001b[34m329776_L2\u001b[m\u001b[m                            hemat-Blastquery-GOslim.sorted\r\n",
      "\u001b[34m329777_L1\u001b[m\u001b[m                            hemat-GOslim-count.csv\r\n",
      "\u001b[34m329777_L2\u001b[m\u001b[m                            hemat-blastx-sp-full.tab\r\n",
      "Blastquery-GOslim.tab                hemat-blastx-sp.tab\r\n",
      "GO-GOslim.sorted                     hemat-forRevigo.tab\r\n",
      "_blast-GO-unfolded-nos.sorted        infected-Blastquery-GOslim.sorted\r\n",
      "_blast-GO-unfolded.sorted            master-qubit-sample.csv\r\n",
      "_blast-GO-unfolded.tab               master-qubit.xlsx\r\n",
      "_blast-annot-crab.tab                qubit_results-for-libraries.csv\r\n",
      "_blast-annot.tab                     readme.md\r\n",
      "_blast-sep.tab                       sample_table.csv\r\n",
      "_blast-sep2-crab.tab                 uniprot-SP-GO.sorted\r\n",
      "_blast-sep2-hemat.tab                ~$master-qubit.xlsx\r\n",
      "_blast-sep2.tab\r\n"
     ]
    }
   ],
   "source": [
    "# check if files are in the directory\n",
    "!ls"
   ]
  },
  {
   "cell_type": "markdown",
   "metadata": {},
   "source": [
    "## Set blastout file as variable"
   ]
  },
  {
   "cell_type": "code",
   "execution_count": 8,
   "metadata": {
    "collapsed": true
   },
   "outputs": [],
   "source": [
    "blastout=\"1111-uninfected-blastout-d12-d26.csv\""
   ]
  },
  {
   "cell_type": "code",
   "execution_count": 9,
   "metadata": {
    "collapsed": false
   },
   "outputs": [
    {
     "name": "stdout",
     "output_type": "stream",
     "text": [
      "﻿target_id,up_ID,evalue\r",
      "\r\n",
      "TRINITY_DN1627_c0_g1_i1,sp|Q08ER8|ZN543_HUMAN,1.42E-28\r",
      "\r\n"
     ]
    }
   ],
   "source": [
    "!head -2 $blastout"
   ]
  },
  {
   "cell_type": "code",
   "execution_count": 10,
   "metadata": {
    "collapsed": false
   },
   "outputs": [
    {
     "name": "stdout",
     "output_type": "stream",
     "text": [
      "      27 1111-uninfected-blastout-d12-d26.csv\r\n"
     ]
    }
   ],
   "source": [
    "!wc -l $blastout"
   ]
  },
  {
   "cell_type": "code",
   "execution_count": 11,
   "metadata": {
    "collapsed": true
   },
   "outputs": [],
   "source": [
    "# convert commas to tab\n",
    "!tr ',' '\\t' < $blastout \\\n",
    "> _blast-sep.tab"
   ]
  },
  {
   "cell_type": "code",
   "execution_count": 12,
   "metadata": {
    "collapsed": false
   },
   "outputs": [
    {
     "name": "stdout",
     "output_type": "stream",
     "text": [
      "﻿target_id\tup_ID\tevalue\r",
      "\r\n",
      "TRINITY_DN1627_c0_g1_i1\tsp|Q08ER8|ZN543_HUMAN\t1.42E-28\r",
      "\r\n"
     ]
    }
   ],
   "source": [
    "!head -2 _blast-sep.tab"
   ]
  },
  {
   "cell_type": "code",
   "execution_count": 13,
   "metadata": {
    "collapsed": true
   },
   "outputs": [],
   "source": [
    "# convert pipes to tab\n",
    "!tr '|' '\\t' < _blast-sep.tab \\\n",
    "> _blast-sep2.tab"
   ]
  },
  {
   "cell_type": "code",
   "execution_count": 14,
   "metadata": {
    "collapsed": false
   },
   "outputs": [
    {
     "name": "stdout",
     "output_type": "stream",
     "text": [
      "﻿target_id\tup_ID\tevalue\r",
      "\r\n",
      "TRINITY_DN1627_c0_g1_i1\tsp\tQ08ER8\tZN543_HUMAN\t1.42E-28\r",
      "\r\n"
     ]
    }
   ],
   "source": [
    "!head -2 _blast-sep2.tab"
   ]
  },
  {
   "cell_type": "code",
   "execution_count": 15,
   "metadata": {
    "collapsed": true
   },
   "outputs": [],
   "source": [
    "!awk NR\\>1 _blast-sep2.tab > _blast-sep3.tab\n",
    "#remove column names"
   ]
  },
  {
   "cell_type": "code",
   "execution_count": 16,
   "metadata": {
    "collapsed": false
   },
   "outputs": [
    {
     "name": "stdout",
     "output_type": "stream",
     "text": [
      "TRINITY_DN1627_c0_g1_i1\tsp\tQ08ER8\tZN543_HUMAN\t1.42E-28\r",
      "\r\n",
      "TRINITY_DN14986_c0_g1_i1\tsp\tG5E8P0\tGCP6_MOUSE\t7.94E-23\r",
      "\r\n"
     ]
    }
   ],
   "source": [
    "!head -2 _blast-sep3.tab"
   ]
  },
  {
   "cell_type": "code",
   "execution_count": 17,
   "metadata": {
    "collapsed": true
   },
   "outputs": [],
   "source": [
    "#reducing number of columns and sorting \n",
    "!awk -v OFS='\\t' '{print $3, $1, $5}' <_blast-sep3.tab | sort \\\n",
    "> _blast-sort.tab"
   ]
  },
  {
   "cell_type": "code",
   "execution_count": 18,
   "metadata": {
    "collapsed": false
   },
   "outputs": [
    {
     "name": "stdout",
     "output_type": "stream",
     "text": [
      "G5E8P0\tTRINITY_DN14986_c0_g1_i1\t7.94E-23\r",
      "\r\n",
      "P33527\tTRINITY_DN7707_c0_g1_i8\t0\r",
      "\r\n"
     ]
    }
   ],
   "source": [
    "!head -2 _blast-sort.tab"
   ]
  },
  {
   "cell_type": "code",
   "execution_count": 19,
   "metadata": {
    "collapsed": true
   },
   "outputs": [],
   "source": [
    "#joining blast with uniprot annotation file and reducing to three columns UniprotID, Query, All GO terms\n",
    "!join -t $'\\t' \\\n",
    "_blast-sort.tab \\\n",
    "uniprot-SP-GO.sorted \\\n",
    "| cut -f1,2,14 \\\n",
    "> _blast-annot.tab\n",
    "#remove | cut -f1,2,14 \\ to save full blast annotation"
   ]
  },
  {
   "cell_type": "code",
   "execution_count": 20,
   "metadata": {
    "collapsed": false
   },
   "outputs": [
    {
     "name": "stdout",
     "output_type": "stream",
     "text": [
      "G5E8P0\tTRINITY_DN14986_c0_g1_i1\tGO:0000922; GO:0000923; GO:0005200; GO:0005813; GO:0005874; GO:0007020; GO:0008017; GO:0008274; GO:0016020; GO:0031122; GO:0043015; GO:0051298; GO:0051321; GO:0051415; GO:0070062; GO:0090307\r\n",
      "P33527\tTRINITY_DN7707_c0_g1_i8\tGO:0005215; GO:0005524; GO:0005886; GO:0005887; GO:0006691; GO:0006810; GO:0006855; GO:0008559; GO:0009235; GO:0015420; GO:0015431; GO:0016020; GO:0016323; GO:0016887; GO:0034634; GO:0034775; GO:0042493; GO:0042626; GO:0042908; GO:0043225; GO:0055085; GO:0070062\r\n",
      "P37276\tTRINITY_DN11002_c0_g1_i6\tGO:0000278; GO:0000776; GO:0003777; GO:0005524; GO:0005737; GO:0005794; GO:0005868; GO:0005874; GO:0005875; GO:0005938; GO:0006886; GO:0007018; GO:0007051; GO:0007052; GO:0007098; GO:0007279; GO:0007282; GO:0007294; GO:0007298; GO:0007312; GO:0007349; GO:0007405; GO:0008088; GO:0008090; GO:0008298; GO:0008569; GO:0016319; GO:0030071; GO:0030286; GO:0030529; GO:0030723; GO:0031122; GO:0034063; GO:0034501; GO:0035011; GO:0040001; GO:0040003; GO:0042623; GO:0045169; GO:0045197; GO:0045198; GO:0045478; GO:0045503; GO:0045505; GO:0046604; GO:0047497; GO:0048134; GO:0048311; GO:0048477; GO:0048813; GO:0050658; GO:0051237; GO:0051642; GO:0051683; GO:0051959; GO:0072382; GO:1904115; GO:1904801\r\n",
      "P40818\tTRINITY_DN14731_c0_g1_i5\tGO:0000281; GO:0004197; GO:0004843; GO:0005634; GO:0005737; GO:0005769; GO:0005829; GO:0006511; GO:0007032; GO:0008283; GO:0014069; GO:0016579; GO:0017124; GO:0019897; GO:0030496; GO:0031313; GO:0043197; GO:0045296; GO:0070536; GO:0071108\r\n",
      "Q08ER8\tTRINITY_DN1627_c0_g1_i1\tGO:0003677; GO:0003700; GO:0005634; GO:0006351; GO:0006355; GO:0046872\r\n",
      "Q0MQI4\tTRINITY_DN1250_c0_g1_i7\tGO:0005743; GO:0008137; GO:0010181; GO:0046872; GO:0051287; GO:0051539; GO:0070469\r\n",
      "Q176V0\tTRINITY_DN2000_c2_g1_i2\t\r\n",
      "Q29RZ4\tTRINITY_DN10619_c1_g2_i3\tGO:0003677; GO:0003700; GO:0005634; GO:0006351; GO:0006355; GO:0046872\r\n",
      "Q32NW2\tTRINITY_DN25973_c0_g1_i3\t\r\n",
      "Q3SZY9\tTRINITY_DN17165_c0_g1_i4\tGO:0001128; GO:0003677; GO:0006357; GO:0016592; GO:0019827; GO:0051123; GO:0070847\r\n"
     ]
    }
   ],
   "source": [
    "!head _blast-annot.tab"
   ]
  },
  {
   "cell_type": "markdown",
   "metadata": {},
   "source": [
    "## The following is a script modified by Sam White"
   ]
  },
  {
   "cell_type": "code",
   "execution_count": 21,
   "metadata": {
    "collapsed": true
   },
   "outputs": [],
   "source": [
    "%%bash \n",
    "\n",
    "# This script was originally written to address a specific problem that Rhonda was having\n",
    "\n",
    "\n",
    "\n",
    "# input_file is the initial, \"problem\" file\n",
    "# file is an intermediate file that most of the program works upon\n",
    "# output_file is the final file produced by the script\n",
    "input_file=\"_blast-annot.tab\"\n",
    "file=\"_intermediate.file\"\n",
    "output_file=\"_blast-GO-unfolded.tab\"\n",
    "\n",
    "# sed command substitutes the \"; \" sequence to a tab and writes the new format to a new file.\n",
    "# This character sequence is how the GO terms are delimited in their field.\n",
    "sed $'s/; /\\t/g' \"$input_file\" > \"$file\"\n",
    "\n",
    "# Identify first field containing a GO term.\n",
    "# Search file with grep for \"GO:\" and pipe to awk.\n",
    "# Awk sets tab as field delimiter (-F'\\t'), runs a for loop that looks for \"GO:\" (~/GO:/), and then prints the field number).\n",
    "# Awk results are piped to sort, which sorts unique by number (-ug).\n",
    "# Sort results are piped to head to retrieve the lowest value (i.e. the top of the list; \"-n1\").\n",
    "begin_goterms=$(grep \"GO:\" \"$file\" | awk -F'\\t' '{for (i=1;i<=NF;i++) if($i ~/GO:/) print i}' | sort -ug | head -n1)\n",
    "\n",
    "# While loop to process each line of the input file.\n",
    "while read -r line\n",
    "\tdo\n",
    "\t\n",
    "\t# Send contents of the current line to awk.\n",
    "\t# Set the field separator as a tab (-F'\\t') and print the number of fields in that line.\n",
    "\t# Save the results of the echo/awk pipe (i.e. number of fields) to the variable \"max_field\".\n",
    "\tmax_field=$(echo \"$line\" | awk -F'\\t' '{print NF}')\n",
    "\n",
    "\t# Send contents of current line to cut.\n",
    "\t# Cut fields (i.e. retain those fields) 1-12.\n",
    "\t# Save the results of the echo/cut pipe (i.e. fields 1-12) to the variable \"fixed_fields\"\n",
    "\tfixed_fields=$(echo \"$line\" | cut -f1-2)\n",
    "\n",
    "\t# Since not all the lines contain the same number of fields (e.g. may not have GO terms),\n",
    "\t# evaluate the number of fields in each line to determine how to handle current line.\n",
    "\n",
    "\t# If the value in max_field is less than the field number where the GO terms begin,\n",
    "\t# then just print the current line (%s) followed by a newline (\\n).\n",
    "\tif (( \"$max_field\" < \"$begin_goterms\" ))\n",
    "\t\tthen printf \"%s\\n\" \"$line\"\n",
    "\t\t\telse\n",
    "\n",
    "\t\t\t# Send contents of current line (which contains GO terms) to cut.\n",
    "\t\t\t# Cut fields (i.e. retain those fields) 13 to whatever the last field is in the curent line.\n",
    "\t\t\t# Save the results of the echo/cut pipe (i.e. all the GO terms fields) to the variable \"goterms\".\n",
    "\t\t\tgoterms=$(echo \"$line\" | cut -f\"$begin_goterms\"-\"$max_field\")\n",
    "\t\t\t\n",
    "\t\t\t# Assign values in the variable \"goterms\" to a new indexed array (called \"array\"), \n",
    "\t\t\t# with tab delimiter (IFS=$'\\t')\n",
    "\t\t\tIFS=$'\\t' read -r -a array <<<\"$goterms\"\n",
    "\t\t\t\n",
    "\t\t\t# Iterate through each element of the array.\n",
    "\t\t\t# Print the first 12 fields (i.e. the fields stored in \"fixed_fields\") followed by a tab (%s\\t).\n",
    "\t\t\t# Print the current element in the array (i.e. the current GO term) followed by a new line (%s\\n).\n",
    "\t\t\tfor element in \"${!array[@]}\"\t\n",
    "\t\t\t\tdo printf \"%s\\t%s\\n\" \"$fixed_fields\" \"${array[$element]}\"\n",
    "\t\t\tdone\n",
    "\tfi\n",
    "\n",
    "# Send the input file into the while loop and send the output to a file named \"rhonda_fixed.txt\".\n",
    "done < \"$file\" > \"$output_file\""
   ]
  },
  {
   "cell_type": "code",
   "execution_count": 22,
   "metadata": {
    "collapsed": false
   },
   "outputs": [
    {
     "name": "stdout",
     "output_type": "stream",
     "text": [
      "G5E8P0\tTRINITY_DN14986_c0_g1_i1\tGO:0000922\r\n",
      "G5E8P0\tTRINITY_DN14986_c0_g1_i1\tGO:0000923\r\n",
      "G5E8P0\tTRINITY_DN14986_c0_g1_i1\tGO:0005200\r\n",
      "G5E8P0\tTRINITY_DN14986_c0_g1_i1\tGO:0005813\r\n",
      "G5E8P0\tTRINITY_DN14986_c0_g1_i1\tGO:0005874\r\n",
      "G5E8P0\tTRINITY_DN14986_c0_g1_i1\tGO:0007020\r\n",
      "G5E8P0\tTRINITY_DN14986_c0_g1_i1\tGO:0008017\r\n",
      "G5E8P0\tTRINITY_DN14986_c0_g1_i1\tGO:0008274\r\n",
      "G5E8P0\tTRINITY_DN14986_c0_g1_i1\tGO:0016020\r\n",
      "G5E8P0\tTRINITY_DN14986_c0_g1_i1\tGO:0031122\r\n"
     ]
    }
   ],
   "source": [
    "!head _blast-GO-unfolded.tab"
   ]
  },
  {
   "cell_type": "code",
   "execution_count": 23,
   "metadata": {
    "collapsed": true
   },
   "outputs": [],
   "source": [
    "!awk '{print $3,\"\\t\" $2}' _blast-GO-unfolded.tab | gsort -V > _blast-GO-unfolded.sorted"
   ]
  },
  {
   "cell_type": "code",
   "execution_count": 24,
   "metadata": {
    "collapsed": false
   },
   "outputs": [
    {
     "name": "stdout",
     "output_type": "stream",
     "text": [
      "GO:0000145 \tTRINITY_DN10892_c0_g1_i6\r\n",
      "GO:0000278 \tTRINITY_DN598_c0_g1_i5\r\n",
      "GO:0000278 \tTRINITY_DN11002_c0_g1_i6\r\n",
      "GO:0000281 \tTRINITY_DN14731_c0_g1_i5\r\n",
      "GO:0000381 \tTRINITY_DN2764_c0_g1_i2\r\n",
      "GO:0000381 \tTRINITY_DN2764_c0_g1_i6\r\n",
      "GO:0000389 \tTRINITY_DN2764_c0_g1_i2\r\n",
      "GO:0000389 \tTRINITY_DN2764_c0_g1_i6\r\n",
      "GO:0000398 \tTRINITY_DN2764_c0_g1_i2\r\n",
      "GO:0000398 \tTRINITY_DN2764_c0_g1_i6\r\n"
     ]
    }
   ],
   "source": [
    "!head _blast-GO-unfolded.sorted"
   ]
  },
  {
   "cell_type": "code",
   "execution_count": 25,
   "metadata": {
    "collapsed": false
   },
   "outputs": [
    {
     "name": "stdout",
     "output_type": "stream",
     "text": [
      "GO:0000145*\tTRINITY_DN10892_c0_g1_i6\r\n",
      "GO:0000278*\tTRINITY_DN598_c0_g1_i5\r\n",
      "GO:0000278*\tTRINITY_DN11002_c0_g1_i6\r\n",
      "GO:0000281*\tTRINITY_DN14731_c0_g1_i5\r\n",
      "GO:0000381*\tTRINITY_DN2764_c0_g1_i2\r\n",
      "GO:0000381*\tTRINITY_DN2764_c0_g1_i6\r\n",
      "GO:0000389*\tTRINITY_DN2764_c0_g1_i2\r\n",
      "GO:0000389*\tTRINITY_DN2764_c0_g1_i6\r\n",
      "GO:0000398*\tTRINITY_DN2764_c0_g1_i2\r\n",
      "GO:0000398*\tTRINITY_DN2764_c0_g1_i6\r\n"
     ]
    }
   ],
   "source": [
    "!tr \" \" \"*\" < _blast-GO-unfolded.sorted | head"
   ]
  },
  {
   "cell_type": "code",
   "execution_count": 26,
   "metadata": {
    "collapsed": true
   },
   "outputs": [],
   "source": [
    "!sed 's/ //g' _blast-GO-unfolded.sorted > _blast-GO-unfolded-nos.sorted"
   ]
  },
  {
   "cell_type": "code",
   "execution_count": 27,
   "metadata": {
    "collapsed": false
   },
   "outputs": [
    {
     "name": "stdout",
     "output_type": "stream",
     "text": [
      "GO:0000145\tTRINITY_DN10892_c0_g1_i6\r\n",
      "GO:0000278\tTRINITY_DN598_c0_g1_i5\r\n",
      "GO:0000278\tTRINITY_DN11002_c0_g1_i6\r\n",
      "GO:0000281\tTRINITY_DN14731_c0_g1_i5\r\n",
      "GO:0000381\tTRINITY_DN2764_c0_g1_i2\r\n",
      "GO:0000381\tTRINITY_DN2764_c0_g1_i6\r\n",
      "GO:0000389\tTRINITY_DN2764_c0_g1_i2\r\n",
      "GO:0000389\tTRINITY_DN2764_c0_g1_i6\r\n",
      "GO:0000398\tTRINITY_DN2764_c0_g1_i2\r\n",
      "GO:0000398\tTRINITY_DN2764_c0_g1_i6\r\n"
     ]
    }
   ],
   "source": [
    "!head _blast-GO-unfolded-nos.sorted"
   ]
  },
  {
   "cell_type": "code",
   "execution_count": 28,
   "metadata": {
    "collapsed": false
   },
   "outputs": [
    {
     "name": "stdout",
     "output_type": "stream",
     "text": [
      "GO:0000145\tTRINITY_DN10892_c0_g1_i6\r\n",
      "GO:0000278\tTRINITY_DN598_c0_g1_i5\r\n",
      "GO:0000278\tTRINITY_DN11002_c0_g1_i6\r\n",
      "GO:0000281\tTRINITY_DN14731_c0_g1_i5\r\n",
      "GO:0000381\tTRINITY_DN2764_c0_g1_i2\r\n",
      "GO:0000381\tTRINITY_DN2764_c0_g1_i6\r\n",
      "GO:0000389\tTRINITY_DN2764_c0_g1_i2\r\n",
      "GO:0000389\tTRINITY_DN2764_c0_g1_i6\r\n",
      "GO:0000398\tTRINITY_DN2764_c0_g1_i2\r\n",
      "GO:0000398\tTRINITY_DN2764_c0_g1_i6\r\n"
     ]
    }
   ],
   "source": [
    "!tr \" \" \"*\" < _blast-GO-unfolded-nos.sorted | head"
   ]
  },
  {
   "cell_type": "code",
   "execution_count": 34,
   "metadata": {
    "collapsed": false
   },
   "outputs": [
    {
     "name": "stdout",
     "output_type": "stream",
     "text": [
      "GO:0000001\tmitochondrion inheritance\tcell organization and biogenesis\tP\r\n",
      "GO:0000002\tmitochondrial genome maintenance\tcell organization and biogenesis\tP\r\n",
      "GO:0000003\treproduction\tother biological processes\tP\r\n",
      "GO:0000006\thigh affinity zinc uptake transmembrane transporter activity\ttransporter activity\tF\r\n",
      "GO:0000007\tlow-affinity zinc ion transmembrane transporter activity\ttransporter activity\tF\r\n",
      "GO:0000009\t\"alpha-1,6-mannosyltransferase activity\"\tother molecular function\tF\r\n",
      "GO:0000010\ttrans-hexaprenyltranstransferase activity\tother molecular function\tF\r\n",
      "GO:0000011\tvacuole inheritance\tcell organization and biogenesis\tP\r\n",
      "GO:0000012\tsingle strand break repair\tDNA metabolism\tP\r\n",
      "GO:0000012\tsingle strand break repair\tstress response\tP\r\n"
     ]
    }
   ],
   "source": [
    "!head GO-GOslim.sorted"
   ]
  },
  {
   "cell_type": "code",
   "execution_count": 30,
   "metadata": {
    "collapsed": false
   },
   "outputs": [
    {
     "name": "stdout",
     "output_type": "stream",
     "text": [
      "GO:0000145\tTRINITY_DN10892_c0_g1_i6\texocyst\tother cellular component\tC\r\n",
      "GO:0000278\tTRINITY_DN598_c0_g1_i5\tmitotic cell cycle\tcell cycle and proliferation\tP\r\n",
      "GO:0000278\tTRINITY_DN11002_c0_g1_i6\tmitotic cell cycle\tcell cycle and proliferation\tP\r\n",
      "GO:0000281\tTRINITY_DN14731_c0_g1_i5\tcytokinesis after mitosis\tcell cycle and proliferation\tP\r\n",
      "GO:0000381\tTRINITY_DN2764_c0_g1_i2\t\"regulation of alternative nuclear mRNA splicing, via spliceosome\"\tRNA metabolism\tP\r\n",
      "GO:0000381\tTRINITY_DN2764_c0_g1_i6\t\"regulation of alternative nuclear mRNA splicing, via spliceosome\"\tRNA metabolism\tP\r\n",
      "GO:0000389\tTRINITY_DN2764_c0_g1_i2\tnuclear mRNA 3'-splice site recognition\tRNA metabolism\tP\r\n",
      "GO:0000389\tTRINITY_DN2764_c0_g1_i2\tnuclear mRNA 3'-splice site recognition\tcell organization and biogenesis\tP\r\n",
      "GO:0000389\tTRINITY_DN2764_c0_g1_i6\tnuclear mRNA 3'-splice site recognition\tRNA metabolism\tP\r\n",
      "GO:0000389\tTRINITY_DN2764_c0_g1_i6\tnuclear mRNA 3'-splice site recognition\tcell organization and biogenesis\tP\r\n"
     ]
    }
   ],
   "source": [
    "!join -1 1 -2 1 -t $'\\t' \\\n",
    "_blast-GO-unfolded-nos.sorted \\\n",
    "GO-GOslim.sorted | head "
   ]
  },
  {
   "cell_type": "code",
   "execution_count": 31,
   "metadata": {
    "collapsed": false
   },
   "outputs": [
    {
     "name": "stdout",
     "output_type": "stream",
     "text": [
      "     333 Blastquery-GOslim.tab\r\n"
     ]
    }
   ],
   "source": [
    "#joining files to get GOslim for each query (with duplicate GOslim / query removed)\n",
    "!join -1 1 -2 1 -t $'\\t' \\\n",
    "_blast-GO-unfolded-nos.sorted \\\n",
    "GO-GOslim.sorted \\\n",
    "| uniq | awk -F'\\t' -v OFS='\\t' '{print $2, $4, $5}' \\\n",
    "> Blastquery-GOslim.tab\n",
    "!wc -l Blastquery-GOslim.tab"
   ]
  },
  {
   "cell_type": "code",
   "execution_count": 32,
   "metadata": {
    "collapsed": false
   },
   "outputs": [
    {
     "name": "stdout",
     "output_type": "stream",
     "text": [
      "TRINITY_DN10892_c0_g1_i6\tother cellular component\tC\n",
      "TRINITY_DN598_c0_g1_i5\tcell cycle and proliferation\tP\n",
      "TRINITY_DN11002_c0_g1_i6\tcell cycle and proliferation\tP\n",
      "TRINITY_DN14731_c0_g1_i5\tcell cycle and proliferation\tP\n",
      "TRINITY_DN2764_c0_g1_i2\tRNA metabolism\tP\n",
      "TRINITY_DN2764_c0_g1_i6\tRNA metabolism\tP\n",
      "TRINITY_DN2764_c0_g1_i2\tRNA metabolism\tP\n",
      "TRINITY_DN2764_c0_g1_i2\tcell organization and biogenesis\tP\n",
      "TRINITY_DN2764_c0_g1_i6\tRNA metabolism\tP\n",
      "TRINITY_DN2764_c0_g1_i6\tcell organization and biogenesis\tP\n",
      "     333 Blastquery-GOslim.tab\n"
     ]
    }
   ],
   "source": [
    "!head Blastquery-GOslim.tab\n",
    "!wc -l Blastquery-GOslim.tab"
   ]
  },
  {
   "cell_type": "markdown",
   "metadata": {},
   "source": [
    "## Get P - query and slim"
   ]
  },
  {
   "cell_type": "code",
   "execution_count": 33,
   "metadata": {
    "collapsed": false
   },
   "outputs": [
    {
     "name": "stdout",
     "output_type": "stream",
     "text": [
      "TRINITY_DN10619_c1_g2_i3\tRNA metabolism\r\n",
      "TRINITY_DN10619_c1_g2_i3\tRNA metabolism\r\n",
      "TRINITY_DN10671_c0_g1_i1\tRNA metabolism\r\n",
      "TRINITY_DN10671_c0_g1_i1\tother biological processes\r\n",
      "TRINITY_DN10892_c0_g1_i6\tcell organization and biogenesis\r\n",
      "TRINITY_DN10892_c0_g1_i6\tcell-cell signaling\r\n",
      "TRINITY_DN10892_c0_g1_i6\tdevelopmental processes\r\n",
      "TRINITY_DN10892_c0_g1_i6\tother biological processes\r\n",
      "TRINITY_DN10892_c0_g1_i6\tsignal transduction\r\n",
      "TRINITY_DN10892_c0_g1_i6\ttransport\r\n"
     ]
    }
   ],
   "source": [
    "!awk -F\"\\t\" '$3 == \"P\" { print $1\"\\t\"$2 }' Blastquery-GOslim.tab | sort > uninfected-Blastquery-GOslim.sorted\n",
    "!head uninfected-Blastquery-GOslim.sorted"
   ]
  },
  {
   "cell_type": "code",
   "execution_count": null,
   "metadata": {
    "collapsed": true
   },
   "outputs": [],
   "source": []
  }
 ],
 "metadata": {
  "kernelspec": {
   "display_name": "Python [default]",
   "language": "python",
   "name": "python2"
  },
  "language_info": {
   "codemirror_mode": {
    "name": "ipython",
    "version": 2
   },
   "file_extension": ".py",
   "mimetype": "text/x-python",
   "name": "python",
   "nbconvert_exporter": "python",
   "pygments_lexer": "ipython2",
   "version": "2.7.12"
  }
 },
 "nbformat": 4,
 "nbformat_minor": 1
}
