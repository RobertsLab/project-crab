{
 "cells": [
  {
   "cell_type": "markdown",
   "metadata": {},
   "source": [
    "## Notebook for using trinity.pl script to get diff. exp. for bairdi transcriptomes, infected and uninfected (combing day 12 and day 26)"
   ]
  },
  {
   "cell_type": "markdown",
   "metadata": {},
   "source": [
    "From Steven's: https://github.com/sr320/course-fish546-2018/blob/master/jupyter-nbs/006-Trinity.ipynb"
   ]
  },
  {
   "cell_type": "code",
   "execution_count": 1,
   "metadata": {
    "collapsed": true
   },
   "outputs": [],
   "source": [
    "#Downloaded trinity into Applications/bioninfo"
   ]
  },
  {
   "cell_type": "code",
   "execution_count": 2,
   "metadata": {
    "collapsed": false
   },
   "outputs": [
    {
     "name": "stdout",
     "output_type": "stream",
     "text": [
      "\r\n",
      "#########################################################################\r\n",
      "#\r\n",
      "########################\r\n",
      "#  Essential parameters:\r\n",
      "########################\r\n",
      "#\r\n",
      "#  --transcripts <string>           transcript fasta file\r\n",
      "#\r\n",
      "#  --seqType <string>               fq|fa\r\n",
      "# \r\n",
      "#  If Paired-end:\r\n",
      "#\r\n",
      "#     --left <string>\r\n",
      "#     --right <string>\r\n",
      "#  \r\n",
      "#   or Single-end:\r\n",
      "#\r\n",
      "#      --single <string>\r\n",
      "#\r\n",
      "#   or (preferred):\r\n",
      "#\r\n",
      "#      --samples_file <string>    tab-delimited text file indicating biological replicate relationships.\r\n",
      "#                                   ex.\r\n",
      "#                                        cond_A    cond_A_rep1    A_rep1_left.fq    A_rep1_right.fq\r\n",
      "#                                        cond_A    cond_A_rep2    A_rep2_left.fq    A_rep2_right.fq\r\n",
      "#                                        cond_B    cond_B_rep1    B_rep1_left.fq    B_rep1_right.fq\r\n",
      "#                                        cond_B    cond_B_rep2    B_rep2_left.fq    B_rep2_right.fq\r\n",
      "#\r\n",
      "#                      # if single-end instead of paired-end, then leave the 4th column above empty.\r\n",
      "#\r\n",
      "#\r\n",
      "#\r\n",
      "#  --est_method <string>           abundance estimation method.\r\n",
      "#                                        alignment_based:  RSEM\r\n",
      "#                                        alignment_free: kallisto|salmon\r\n",
      "#  \r\n",
      "###################################\r\n",
      "#  Potentially optional parameters:\r\n",
      "###################################\r\n",
      "#\r\n",
      "# --output_dir <string>            write all files to output directory \r\n",
      "#                                  (note, if using --samples_file, output_dir will be set automatically according to replicate name))\r\n",
      "#  \r\n",
      "#\r\n",
      "#  if alignment_based est_method:\r\n",
      "#       --aln_method <string>            bowtie|bowtie2 alignment method.  (note: RSEM requires either bowtie or bowtie2)\r\n",
      "#                                       \r\n",
      "###########\r\n",
      "# Optional:\r\n",
      "# #########\r\n",
      "#\r\n",
      "# --SS_lib_type <string>           strand-specific library type:  paired('RF' or 'FR'), single('F' or 'R').\r\n",
      "#                                  \r\n",
      "# --samples_idx <int>               restricte processing to sample entry (index starts at one)\r\n",
      "#\r\n",
      "#\r\n",
      "# --thread_count                   number of threads to use (default = 4)\r\n",
      "#\r\n",
      "# --debug                          retain intermediate files\r\n",
      "#\r\n",
      "#  --gene_trans_map <string>        file containing 'gene(tab)transcript' identifiers per line.\r\n",
      "#     or  \r\n",
      "#  --trinity_mode                   Setting --trinity_mode will automatically generate the gene_trans_map and use it.\r\n",
      "#\r\n",
      "#\r\n",
      "#  --prep_reference                 prep reference (builds target index)\r\n",
      "#\r\n",
      "#\r\n",
      "########################################\r\n",
      "#\r\n",
      "#  Parameters for single-end reads:\r\n",
      "#\r\n",
      "#  --fragment_length <int>         specify RNA-Seq fragment length (default: 200) \r\n",
      "#  --fragment_std <int>            fragment length standard deviation (defalt: 80)\r\n",
      "#\r\n",
      "########################################\r\n",
      "#  \r\n",
      "#   bowtie-related parameters: (note, tool-specific settings are further below)\r\n",
      "#\r\n",
      "#  --max_ins_size <int>             maximum insert size (bowtie -X parameter, default: 800)\r\n",
      "#  --coordsort_bam                  provide coord-sorted bam in addition to the default (unsorted) bam.\r\n",
      "#\r\n",
      "########################################\r\n",
      "#  RSEM opts:\r\n",
      "#\r\n",
      "#  --bowtie_RSEM <string>          if using 'bowtie', default: \"--all --best --strata -m 300 --chunkmbs 512\"\r\n",
      "#  --bowtie2_RSEM <string>         if using 'bowtie2', default: \"--no-mixed --no-discordant --gbar 1000 --end-to-end -k 200 \"\r\n",
      "#                                ** if you change the defaults, specify the full set of parameters to use! **\r\n",
      "#\r\n",
      "#  --include_rsem_bam              provide the RSEM enhanced bam file including posterior probabilities of read assignments.\r\n",
      "#  --rsem_add_opts <string>        additional parameters to pass on to rsem-calculate-expression\r\n",
      "#\r\n",
      "##########################################################################\r\n",
      "#  kallisto opts:\r\n",
      "#\r\n",
      "#  --kallisto_add_opts <string>  default:   \r\n",
      "#\r\n",
      "##########################################################################\r\n",
      "#\r\n",
      "#  salmon opts:\r\n",
      "#\r\n",
      "#  --salmon_idx_type <string>    quasi|fmd (defalt: quasi)\r\n",
      "#  --salmon_add_opts <string>    default: \r\n",
      "#\r\n",
      "#\r\n",
      "#  Example usage\r\n",
      "#\r\n",
      "#   ## Just prepare the reference for alignment and abundance estimation\r\n",
      "#\r\n",
      "#    /Applications/bioinfo/trinityrnaseq-v2.8.6/util/align_and_estimate_abundance.pl --transcripts Trinity.fasta --est_method RSEM --aln_method bowtie --trinity_mode --prep_reference\r\n",
      "#\r\n",
      "#   ## Run the alignment and abundance estimation (assumes reference has already been prepped, errors-out if prepped reference not located.)\r\n",
      "#\r\n",
      "#    /Applications/bioinfo/trinityrnaseq-v2.8.6/util/align_and_estimate_abundance.pl --transcripts Trinity.fasta --seqType fq --left reads_1.fq --right reads_2.fq --est_method RSEM --aln_method bowtie --trinity_mode --output_dir rsem_outdir\r\n",
      "#\r\n",
      "##  ## prep the reference and run the alignment/estimation\r\n",
      "#\r\n",
      "#    /Applications/bioinfo/trinityrnaseq-v2.8.6/util/align_and_estimate_abundance.pl --transcripts Trinity.fasta --seqType fq --left reads_1.fq --right reads_2.fq --est_method RSEM --aln_method bowtie --trinity_mode --prep_reference --output_dir rsem_outdir\r\n",
      "#\r\n",
      "#   ## Use a samples.txt file:\r\n",
      "#\r\n",
      "#    /Applications/bioinfo/trinityrnaseq-v2.8.6/util/align_and_estimate_abundance.pl --transcripts Trinity.fasta --est_method RSEM --aln_method bowtie2 --prep_reference --trinity_mode --samples_file samples.txt --seqType fq  \r\n",
      "#\r\n",
      "#########################################################################\r\n",
      "\r\n",
      "\r\n"
     ]
    }
   ],
   "source": [
    "!/Applications/bioinfo/trinityrnaseq-v2.8.6/util/align_and_estimate_abundance.pl"
   ]
  },
  {
   "cell_type": "code",
   "execution_count": null,
   "metadata": {
    "collapsed": true
   },
   "outputs": [],
   "source": [
    "!/Applications/bioinfo/trinityrnaseq-v2.8.6/util/align_and_estimate_abundance.pl \\\n",
    "--transcript ../data/Cbairdi_transcriptome-1.fa \\\n",
    "--seqType fq \\\n",
    "--left \\\n",
    "--right \\\n",
    "--output_dir "
   ]
  },
  {
   "cell_type": "code",
   "execution_count": null,
   "metadata": {
    "collapsed": true
   },
   "outputs": [],
   "source": []
  }
 ],
 "metadata": {
  "anaconda-cloud": {},
  "kernelspec": {
   "display_name": "Python [default]",
   "language": "python",
   "name": "python2"
  },
  "language_info": {
   "codemirror_mode": {
    "name": "ipython",
    "version": 2
   },
   "file_extension": ".py",
   "mimetype": "text/x-python",
   "name": "python",
   "nbconvert_exporter": "python",
   "pygments_lexer": "ipython2",
   "version": "2.7.12"
  }
 },
 "nbformat": 4,
 "nbformat_minor": 1
}
