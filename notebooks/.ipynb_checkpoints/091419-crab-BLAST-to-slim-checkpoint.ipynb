{
 "cells": [
  {
   "cell_type": "markdown",
   "metadata": {},
   "source": [
    "# Jupyter notebook for taking the BLASTx output (crab BLAST output : `anti_join` of dinoflagellate BLAST output and uniprot BLAST output) to GOslim\n"
   ]
  },
  {
   "cell_type": "markdown",
   "metadata": {},
   "source": [
    "### from Steven's notebook: https://github.com/sr320/nb-2018/blob/master/C_virginica/83-blast-2-slim.ipynb"
   ]
  },
  {
   "cell_type": "markdown",
   "metadata": {},
   "source": [
    "### Need three files:\n",
    "1) blastout file in format -6 (https://raw.githubusercontent.com/RobertsLab/project-crab/master/analyses/crab-blastx.tab)       \n",
    "2) Uniprot GO annotation file (340M) from : http://owl.fish.washington.edu/halfshell/bu-alanine-wd/17-07-20/uniprot-SP-GO.sorted       \n",
    "3) GOslim file from : http://owl.fish.washington.edu/halfshell/bu-alanine-wd/17-07-20/Go-GOslim.sorted"
   ]
  },
  {
   "cell_type": "code",
   "execution_count": 1,
   "metadata": {},
   "outputs": [
    {
     "data": {
      "text/plain": [
       "'/Users/graciecrandall/Documents/GitHub/project-crab/notebooks'"
      ]
     },
     "execution_count": 1,
     "metadata": {},
     "output_type": "execute_result"
    }
   ],
   "source": [
    "pwd"
   ]
  },
  {
   "cell_type": "code",
   "execution_count": 2,
   "metadata": {
    "collapsed": true
   },
   "outputs": [],
   "source": [
    "wd = \"/Users/graciecrandall/Documents/GitHub/project-crab/analyses/\""
   ]
  },
  {
   "cell_type": "code",
   "execution_count": 3,
   "metadata": {},
   "outputs": [
    {
     "name": "stdout",
     "output_type": "stream",
     "text": [
      "/Users/graciecrandall/Documents/GitHub/project-crab/analyses\n"
     ]
    }
   ],
   "source": [
    "cd {wd}"
   ]
  },
  {
   "cell_type": "code",
   "execution_count": 4,
   "metadata": {},
   "outputs": [
    {
     "name": "stdout",
     "output_type": "stream",
     "text": [
      "  % Total    % Received % Xferd  Average Speed   Time    Time     Time  Current\n",
      "                                 Dload  Upload   Total   Spent    Left  Speed\n",
      "100 2314k  100 2314k    0     0  2840k      0 --:--:-- --:--:-- --:--:-- 3024k\n"
     ]
    }
   ],
   "source": [
    "!curl -O http://owl.fish.washington.edu/halfshell/bu-alanine-wd/17-07-20/GO-GOslim.sorted"
   ]
  },
  {
   "cell_type": "code",
   "execution_count": 5,
   "metadata": {},
   "outputs": [
    {
     "name": "stdout",
     "output_type": "stream",
     "text": [
      "  % Total    % Received % Xferd  Average Speed   Time    Time     Time  Current\n",
      "                                 Dload  Upload   Total   Spent    Left  Speed\n",
      "100  340M  100  340M    0     0  9931k      0  0:00:35  0:00:35 --:--:-- 18.9M\n"
     ]
    }
   ],
   "source": [
    "!curl -O http://owl.fish.washington.edu/halfshell/bu-alanine-wd/17-07-20/uniprot-SP-GO.sorted "
   ]
  },
  {
   "cell_type": "code",
   "execution_count": 7,
   "metadata": {},
   "outputs": [
    {
     "name": "stdout",
     "output_type": "stream",
     "text": [
      "1108-cbairdiblast-sprot.tab       crab-GOslim.csv\r\n",
      "Blastquery-GOslim.tab             crab-blastx.tab\r\n",
      "Cb_v1_blastx_uniprot2864_imac.tab dino-Blastquery-GOslim.sorted\r\n",
      "GO-GOslim.sorted                  hemat-Blastquery-GOslim.sorted\r\n",
      "_blast-GO-unfolded-nos.sorted     hemat-blastx-output.tab\r\n",
      "_blast-GO-unfolded.sorted         master-qubit-sample.csv\r\n",
      "_blast-GO-unfolded.tab            master-qubit.xlsx\r\n",
      "_blast-annot.tab                  qubit_results-for-libraries.csv\r\n",
      "_blast-sep.tab                    readme.md\r\n",
      "_blast-sort.tab                   sample_table.csv\r\n",
      "_intermediate.file                uniprot-SP-GO.sorted\r\n"
     ]
    }
   ],
   "source": [
    "# check if files are in the directory\n",
    "!ls"
   ]
  },
  {
   "cell_type": "markdown",
   "metadata": {},
   "source": [
    "### Set blastout as a variable"
   ]
  },
  {
   "cell_type": "code",
   "execution_count": 11,
   "metadata": {
    "collapsed": true
   },
   "outputs": [],
   "source": [
    "blastout=\"crab-blastx.tab\""
   ]
  },
  {
   "cell_type": "code",
   "execution_count": 12,
   "metadata": {},
   "outputs": [
    {
     "name": "stdout",
     "output_type": "stream",
     "text": [
      "\"\",\"Trinity_protein\",\"sseqid\",\"pident\",\"length\",\"mismatch\",\"gapopen\",\"qstart\",\"qend\",\"sstart\",\"send\",\"evalue\",\"bitscore\"\r\n",
      "\"1\",\"TRINITY_DN21442_c0_g1_i1\",\"sp|Q6PEI7|PYRG1_DANRE\",36,50,27,1,26,175,233,277,1.8,30.4\r\n"
     ]
    }
   ],
   "source": [
    "!head -2 $blastout"
   ]
  },
  {
   "cell_type": "code",
   "execution_count": 13,
   "metadata": {},
   "outputs": [
    {
     "name": "stdout",
     "output_type": "stream",
     "text": [
      "  114380 crab-blastx.tab\r\n"
     ]
    }
   ],
   "source": [
    "!wc -l $blastout"
   ]
  },
  {
   "cell_type": "code",
   "execution_count": 14,
   "metadata": {
    "collapsed": true
   },
   "outputs": [],
   "source": [
    "# convert pipes to tab\n",
    "!tr '|' '\\t' < $blastout \\\n",
    "> _blast-sep.tab"
   ]
  },
  {
   "cell_type": "code",
   "execution_count": 15,
   "metadata": {
    "collapsed": true
   },
   "outputs": [],
   "source": [
    "# convert commas to tab\n",
    "!tr ',' '\\t' < _blast-sep.tab \\\n",
    "> _blast-sep2.tab"
   ]
  },
  {
   "cell_type": "code",
   "execution_count": 16,
   "metadata": {},
   "outputs": [
    {
     "name": "stdout",
     "output_type": "stream",
     "text": [
      "\"Trinity_protein\" \"sseqid\" \"pident\" \"length\" \"mismatch\" \"gapopen\" \"qstart\" \"qend\" \"sstart\" \"send\" \"evalue\" \"bitscore\"\r\n",
      "\"1\" \"TRINITY_DN21442_c0_g1_i1\" \"sp\tQ6PEI7\tPYRG1_DANRE\" 36 50 27 1 26 175 233 277 1.8 30.4\r\n"
     ]
    }
   ],
   "source": [
    "!head -2 _blast-sep2.tab"
   ]
  },
  {
   "cell_type": "code",
   "execution_count": null,
   "metadata": {
    "collapsed": true
   },
   "outputs": [],
   "source": [
    "#remove quotation marks\n"
   ]
  },
  {
   "cell_type": "code",
   "execution_count": null,
   "metadata": {
    "collapsed": true
   },
   "outputs": [],
   "source": [
    "#remove header (first row)\n"
   ]
  }
 ],
 "metadata": {
  "kernelspec": {
   "display_name": "Python [default]",
   "language": "python",
   "name": "python3"
  },
  "language_info": {
   "codemirror_mode": {
    "name": "ipython",
    "version": 3
   },
   "file_extension": ".py",
   "mimetype": "text/x-python",
   "name": "python",
   "nbconvert_exporter": "python",
   "pygments_lexer": "ipython3",
   "version": "3.5.3"
  }
 },
 "nbformat": 4,
 "nbformat_minor": 2
}
