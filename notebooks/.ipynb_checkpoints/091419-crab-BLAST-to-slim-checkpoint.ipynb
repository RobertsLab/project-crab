{
 "cells": [
  {
   "cell_type": "markdown",
   "metadata": {},
   "source": [
    "# Jupyter notebook for taking the BLASTx output (crab BLAST output : `anti_join` of dinoflagellate BLAST output and uniprot BLAST output) to GOslim\n"
   ]
  },
  {
   "cell_type": "markdown",
   "metadata": {},
   "source": [
    "### from Steven's notebook: https://github.com/sr320/nb-2018/blob/master/C_virginica/83-blast-2-slim.ipynb"
   ]
  },
  {
   "cell_type": "markdown",
   "metadata": {},
   "source": [
    "### Need three files:\n",
    "1) blastout file (crab and uniprot) in format -6 (https://raw.githubusercontent.com/RobertsLab/project-crab/master/analyses/crab-blastx-sp.tab)       \n",
    "2) Uniprot GO annotation file (340M) from : http://owl.fish.washington.edu/halfshell/bu-alanine-wd/17-07-20/uniprot-SP-GO.sorted       \n",
    "3) GOslim file from : http://owl.fish.washington.edu/halfshell/bu-alanine-wd/17-07-20/Go-GOslim.sorted"
   ]
  },
  {
   "cell_type": "code",
   "execution_count": 1,
   "metadata": {},
   "outputs": [
    {
     "data": {
      "text/plain": [
       "'/Users/graciecrandall/Documents/GitHub/project-crab/notebooks'"
      ]
     },
     "execution_count": 1,
     "metadata": {},
     "output_type": "execute_result"
    }
   ],
   "source": [
    "pwd"
   ]
  },
  {
   "cell_type": "code",
   "execution_count": 2,
   "metadata": {
    "collapsed": true
   },
   "outputs": [],
   "source": [
    "wd = \"/Users/graciecrandall/Documents/GitHub/project-crab/analyses/\""
   ]
  },
  {
   "cell_type": "code",
   "execution_count": 3,
   "metadata": {},
   "outputs": [
    {
     "name": "stdout",
     "output_type": "stream",
     "text": [
      "/Users/graciecrandall/Documents/GitHub/project-crab/analyses\n"
     ]
    }
   ],
   "source": [
    "cd {wd}"
   ]
  },
  {
   "cell_type": "code",
   "execution_count": 4,
   "metadata": {},
   "outputs": [
    {
     "name": "stdout",
     "output_type": "stream",
     "text": [
      "  % Total    % Received % Xferd  Average Speed   Time    Time     Time  Current\n",
      "                                 Dload  Upload   Total   Spent    Left  Speed\n",
      "100 2314k  100 2314k    0     0  3591k      0 --:--:-- --:--:-- --:--:-- 4684k\n"
     ]
    }
   ],
   "source": [
    "!curl -O http://owl.fish.washington.edu/halfshell/bu-alanine-wd/17-07-20/GO-GOslim.sorted"
   ]
  },
  {
   "cell_type": "code",
   "execution_count": 5,
   "metadata": {},
   "outputs": [
    {
     "name": "stdout",
     "output_type": "stream",
     "text": [
      "  % Total    % Received % Xferd  Average Speed   Time    Time     Time  Current\n",
      "                                 Dload  Upload   Total   Spent    Left  Speed\n",
      "100  340M  100  340M    0     0  7052k      0  0:00:49  0:00:49 --:--:-- 6212k\n"
     ]
    }
   ],
   "source": [
    "!curl -O http://owl.fish.washington.edu/halfshell/bu-alanine-wd/17-07-20/uniprot-SP-GO.sorted "
   ]
  },
  {
   "cell_type": "code",
   "execution_count": 4,
   "metadata": {},
   "outputs": [
    {
     "name": "stdout",
     "output_type": "stream",
     "text": [
      "091419-crab-blastx-output.csv     _intermediate.file\r\n",
      "1108-cbairdiblast-sprot.tab       crab-Blastquery-GOslim.sorted\r\n",
      "Blastquery-GOslim.tab             crab-GOslim-count.csv\r\n",
      "Cb_v1_blastx_uniprot2864_imac.tab crab-GOslim.csv\r\n",
      "GO-GOslim.sorted                  crab-blastx-sp-full.tab\r\n",
      "_blast-GO-unfolded-nos.sorted     crab-blastx-sp.tab\r\n",
      "_blast-GO-unfolded.sorted         crab-forRevigo.tab\r\n",
      "_blast-GO-unfolded.tab            dino-Blastquery-GOslim.sorted\r\n",
      "_blast-annot-crab-sort.tab        hemat-Blastquery-GOslim.sorted\r\n",
      "_blast-annot-crab.tab             hemat-GOslim-count.csv\r\n",
      "_blast-annot.tab                  hemat-blastx-sp-full.tab\r\n",
      "_blast-sep-crab.tab               hemat-blastx-sp.tab\r\n",
      "_blast-sep-hemat.tab              hemat-forRevigo.tab\r\n",
      "_blast-sep.tab                    master-qubit-sample.csv\r\n",
      "_blast-sep2-crab.tab              master-qubit.xlsx\r\n",
      "_blast-sep2-hemat.tab             qubit_results-for-libraries.csv\r\n",
      "_blast-sep2.tab                   readme.md\r\n",
      "_blast-sep3.tab                   sample_table.csv\r\n",
      "_blast-sort-crab.tab              uniprot-SP-GO.sorted\r\n",
      "_blast-sort.tab\r\n"
     ]
    }
   ],
   "source": [
    "# check if files are in the directory\n",
    "!ls"
   ]
  },
  {
   "cell_type": "markdown",
   "metadata": {},
   "source": [
    "### Set blastout as a variable"
   ]
  },
  {
   "cell_type": "code",
   "execution_count": 5,
   "metadata": {
    "collapsed": true
   },
   "outputs": [],
   "source": [
    "blastout=\"crab-blastx-sp.tab\""
   ]
  },
  {
   "cell_type": "code",
   "execution_count": 6,
   "metadata": {},
   "outputs": [
    {
     "name": "stdout",
     "output_type": "stream",
     "text": [
      "Trinity_protein\tsseqid\tevalue\r\n",
      "TRINITY_DN21442_c0_g1_i1\tsp|Q6PEI7|PYRG1_DANRE\t1.8\r\n"
     ]
    }
   ],
   "source": [
    "!head -2 $blastout"
   ]
  },
  {
   "cell_type": "code",
   "execution_count": 7,
   "metadata": {},
   "outputs": [
    {
     "name": "stdout",
     "output_type": "stream",
     "text": [
      "  109780 crab-blastx-sp.tab\r\n"
     ]
    }
   ],
   "source": [
    "!wc -l $blastout"
   ]
  },
  {
   "cell_type": "code",
   "execution_count": 8,
   "metadata": {
    "collapsed": true
   },
   "outputs": [],
   "source": [
    "# convert pipes to tab\n",
    "!tr '|' '\\t' < $blastout \\\n",
    "> _blast-sep.tab"
   ]
  },
  {
   "cell_type": "code",
   "execution_count": 9,
   "metadata": {},
   "outputs": [
    {
     "name": "stdout",
     "output_type": "stream",
     "text": [
      "Trinity_protein\tsseqid\tevalue\r\n",
      "TRINITY_DN21442_c0_g1_i1\tsp\tQ6PEI7\tPYRG1_DANRE\t1.8\r\n"
     ]
    }
   ],
   "source": [
    "!head -2 _blast-sep.tab"
   ]
  },
  {
   "cell_type": "code",
   "execution_count": 10,
   "metadata": {
    "collapsed": true
   },
   "outputs": [],
   "source": [
    "!awk NR\\>1 _blast-sep.tab > _blast-sep2-crab.tab\n",
    "#remove column names"
   ]
  },
  {
   "cell_type": "code",
   "execution_count": 11,
   "metadata": {},
   "outputs": [
    {
     "name": "stdout",
     "output_type": "stream",
     "text": [
      "TRINITY_DN21442_c0_g1_i1\tsp\tQ6PEI7\tPYRG1_DANRE\t1.8\r\n",
      "TRINITY_DN21452_c0_g2_i1\tsp\tQ556N7\tFSLM_DICDI\t1.8\r\n"
     ]
    }
   ],
   "source": [
    "!head -2 _blast-sep2-crab.tab"
   ]
  },
  {
   "cell_type": "code",
   "execution_count": 12,
   "metadata": {
    "collapsed": true
   },
   "outputs": [],
   "source": [
    "#reducing number of columns and sorting \n",
    "!awk -v OFS='\\t' '{print $3, $1, $5}' <_blast-sep2-crab.tab | sort \\\n",
    "> _blast-sort-crab.tab"
   ]
  },
  {
   "cell_type": "code",
   "execution_count": 13,
   "metadata": {},
   "outputs": [
    {
     "name": "stdout",
     "output_type": "stream",
     "text": [
      "A0A023PXK7\tTRINITY_DN19072_c0_g3_i2\t4\r\n",
      "A0A023PXK7\tTRINITY_DN8794_c0_g2_i1\t2.3\r\n"
     ]
    }
   ],
   "source": [
    "!head -2 _blast-sort-crab.tab"
   ]
  },
  {
   "cell_type": "code",
   "execution_count": 14,
   "metadata": {
    "collapsed": true
   },
   "outputs": [],
   "source": [
    "#joining blast with uniprot annotation file and reducing to three columns UniprotID, Query, All GO terms\n",
    "!join -t $'\\t' \\\n",
    "_blast-sort-crab.tab \\\n",
    "uniprot-SP-GO.sorted \\\n",
    "| cut -f1,2,14 \\\n",
    "> _blast-annot.tab\n",
    "#remove | cut -f1,2,14 \\ to save full blast annotation"
   ]
  },
  {
   "cell_type": "code",
   "execution_count": 15,
   "metadata": {},
   "outputs": [
    {
     "name": "stdout",
     "output_type": "stream",
     "text": [
      "A0A023PXK7\tTRINITY_DN19072_c0_g3_i2\tGO:0016021\r\n",
      "A0A023PXK7\tTRINITY_DN8794_c0_g2_i1\tGO:0016021\r\n",
      "A0A023PYE4\tTRINITY_DN24825_c0_g1_i1\tGO:0016021\r\n",
      "A0A023PYH8\tTRINITY_DN40894_c0_g1_i1\t\r\n",
      "A0A023PYJ0\tTRINITY_DN14110_c0_g1_i2\tGO:0016021\r\n",
      "A0A023PYJ7\tTRINITY_DN6907_c0_g3_i2\tGO:0016021\r\n",
      "A0A023PYJ7\tTRINITY_DN6907_c0_g3_i3\tGO:0016021\r\n",
      "A0A023PYK2\tTRINITY_DN15377_c0_g2_i2\tGO:0016021\r\n",
      "A0A023PZ99\tTRINITY_DN25724_c0_g2_i1\tGO:0016021\r\n",
      "A0A023PZA4\tTRINITY_DN11962_c0_g1_i2\t\r\n"
     ]
    }
   ],
   "source": [
    "!head _blast-annot.tab"
   ]
  },
  {
   "cell_type": "markdown",
   "metadata": {},
   "source": [
    "### The following is a script modified by Sam White"
   ]
  },
  {
   "cell_type": "code",
   "execution_count": 18,
   "metadata": {},
   "outputs": [],
   "source": [
    "%%bash \n",
    "\n",
    "# This script was originally written to address a specific problem that Rhonda was having\n",
    "\n",
    "\n",
    "\n",
    "# input_file is the initial, \"problem\" file\n",
    "# file is an intermediate file that most of the program works upon\n",
    "# output_file is the final file produced by the script\n",
    "input_file=\"_blast-annot.tab\"\n",
    "file=\"_intermediate.file\"\n",
    "output_file=\"_blast-GO-unfolded.tab\"\n",
    "\n",
    "# sed command substitutes the \"; \" sequence to a tab and writes the new format to a new file.\n",
    "# This character sequence is how the GO terms are delimited in their field.\n",
    "sed $'s/; /\\t/g' \"$input_file\" > \"$file\"\n",
    "\n",
    "# Identify first field containing a GO term.\n",
    "# Search file with grep for \"GO:\" and pipe to awk.\n",
    "# Awk sets tab as field delimiter (-F'\\t'), runs a for loop that looks for \"GO:\" (~/GO:/), and then prints the field number).\n",
    "# Awk results are piped to sort, which sorts unique by number (-ug).\n",
    "# Sort results are piped to head to retrieve the lowest value (i.e. the top of the list; \"-n1\").\n",
    "begin_goterms=$(grep \"GO:\" \"$file\" | awk -F'\\t' '{for (i=1;i<=NF;i++) if($i ~/GO:/) print i}' | sort -ug | head -n1)\n",
    "\n",
    "# While loop to process each line of the input file.\n",
    "while read -r line\n",
    "\tdo\n",
    "\t\n",
    "\t# Send contents of the current line to awk.\n",
    "\t# Set the field separator as a tab (-F'\\t') and print the number of fields in that line.\n",
    "\t# Save the results of the echo/awk pipe (i.e. number of fields) to the variable \"max_field\".\n",
    "\tmax_field=$(echo \"$line\" | awk -F'\\t' '{print NF}')\n",
    "\n",
    "\t# Send contents of current line to cut.\n",
    "\t# Cut fields (i.e. retain those fields) 1-12.\n",
    "\t# Save the results of the echo/cut pipe (i.e. fields 1-12) to the variable \"fixed_fields\"\n",
    "\tfixed_fields=$(echo \"$line\" | cut -f1-2)\n",
    "\n",
    "\t# Since not all the lines contain the same number of fields (e.g. may not have GO terms),\n",
    "\t# evaluate the number of fields in each line to determine how to handle current line.\n",
    "\n",
    "\t# If the value in max_field is less than the field number where the GO terms begin,\n",
    "\t# then just print the current line (%s) followed by a newline (\\n).\n",
    "\tif (( \"$max_field\" < \"$begin_goterms\" ))\n",
    "\t\tthen printf \"%s\\n\" \"$line\"\n",
    "\t\t\telse\n",
    "\n",
    "\t\t\t# Send contents of current line (which contains GO terms) to cut.\n",
    "\t\t\t# Cut fields (i.e. retain those fields) 13 to whatever the last field is in the curent line.\n",
    "\t\t\t# Save the results of the echo/cut pipe (i.e. all the GO terms fields) to the variable \"goterms\".\n",
    "\t\t\tgoterms=$(echo \"$line\" | cut -f\"$begin_goterms\"-\"$max_field\")\n",
    "\t\t\t\n",
    "\t\t\t# Assign values in the variable \"goterms\" to a new indexed array (called \"array\"), \n",
    "\t\t\t# with tab delimiter (IFS=$'\\t')\n",
    "\t\t\tIFS=$'\\t' read -r -a array <<<\"$goterms\"\n",
    "\t\t\t\n",
    "\t\t\t# Iterate through each element of the array.\n",
    "\t\t\t# Print the first 12 fields (i.e. the fields stored in \"fixed_fields\") followed by a tab (%s\\t).\n",
    "\t\t\t# Print the current element in the array (i.e. the current GO term) followed by a new line (%s\\n).\n",
    "\t\t\tfor element in \"${!array[@]}\"\t\n",
    "\t\t\t\tdo printf \"%s\\t%s\\n\" \"$fixed_fields\" \"${array[$element]}\"\n",
    "\t\t\tdone\n",
    "\tfi\n",
    "\n",
    "# Send the input file into the while loop and send the output to a file named \"rhonda_fixed.txt\".\n",
    "done < \"$file\" > \"$output_file\""
   ]
  },
  {
   "cell_type": "code",
   "execution_count": 19,
   "metadata": {},
   "outputs": [
    {
     "name": "stdout",
     "output_type": "stream",
     "text": [
      "A0A023PXK7\tTRINITY_DN19072_c0_g3_i2\tGO:0016021\r\n",
      "A0A023PXK7\tTRINITY_DN8794_c0_g2_i1\tGO:0016021\r\n",
      "A0A023PYE4\tTRINITY_DN24825_c0_g1_i1\tGO:0016021\r\n",
      "A0A023PYH8\tTRINITY_DN40894_c0_g1_i1\r\n",
      "A0A023PYJ0\tTRINITY_DN14110_c0_g1_i2\tGO:0016021\r\n",
      "A0A023PYJ7\tTRINITY_DN6907_c0_g3_i2\tGO:0016021\r\n",
      "A0A023PYJ7\tTRINITY_DN6907_c0_g3_i3\tGO:0016021\r\n",
      "A0A023PYK2\tTRINITY_DN15377_c0_g2_i2\tGO:0016021\r\n",
      "A0A023PZ99\tTRINITY_DN25724_c0_g2_i1\tGO:0016021\r\n",
      "A0A023PZA4\tTRINITY_DN11962_c0_g1_i2\r\n"
     ]
    }
   ],
   "source": [
    "!head _blast-GO-unfolded.tab"
   ]
  },
  {
   "cell_type": "code",
   "execution_count": 20,
   "metadata": {
    "collapsed": true
   },
   "outputs": [],
   "source": [
    "!awk '{print $3,\"\\t\" $2}' _blast-GO-unfolded.tab | gsort -V > _blast-GO-unfolded.sorted"
   ]
  },
  {
   "cell_type": "code",
   "execution_count": 21,
   "metadata": {},
   "outputs": [
    {
     "name": "stdout",
     "output_type": "stream",
     "text": [
      "GO:0000001 \tTRINITY_DN2394_c1_g1_i4\r\n",
      "GO:0000001 \tTRINITY_DN3613_c0_g2_i2\r\n",
      "GO:0000001 \tTRINITY_DN5286_c0_g3_i1\r\n",
      "GO:0000001 \tTRINITY_DN5286_c0_g3_i2\r\n",
      "GO:0000001 \tTRINITY_DN10603_c1_g1_i2\r\n",
      "GO:0000001 \tTRINITY_DN10603_c1_g1_i5\r\n",
      "GO:0000001 \tTRINITY_DN11919_c2_g1_i1\r\n",
      "GO:0000001 \tTRINITY_DN11928_c1_g1_i1\r\n",
      "GO:0000001 \tTRINITY_DN12639_c0_g1_i14\r\n",
      "GO:0000001 \tTRINITY_DN13713_c0_g2_i3\r\n"
     ]
    }
   ],
   "source": [
    "!head _blast-GO-unfolded.sorted"
   ]
  },
  {
   "cell_type": "code",
   "execution_count": 27,
   "metadata": {},
   "outputs": [
    {
     "name": "stdout",
     "output_type": "stream",
     "text": [
      "GO:0000001*\tTRINITY_DN2394_c1_g1_i4\r\n",
      "GO:0000001*\tTRINITY_DN3613_c0_g2_i2\r\n",
      "GO:0000001*\tTRINITY_DN5286_c0_g3_i1\r\n",
      "GO:0000001*\tTRINITY_DN5286_c0_g3_i2\r\n",
      "GO:0000001*\tTRINITY_DN10603_c1_g1_i2\r\n",
      "GO:0000001*\tTRINITY_DN10603_c1_g1_i5\r\n",
      "GO:0000001*\tTRINITY_DN11919_c2_g1_i1\r\n",
      "GO:0000001*\tTRINITY_DN11928_c1_g1_i1\r\n",
      "GO:0000001*\tTRINITY_DN12639_c0_g1_i14\r\n",
      "GO:0000001*\tTRINITY_DN13713_c0_g2_i3\r\n"
     ]
    }
   ],
   "source": [
    "!tr \" \" \"*\" < _blast-GO-unfolded.sorted | head"
   ]
  },
  {
   "cell_type": "code",
   "execution_count": 28,
   "metadata": {
    "collapsed": true
   },
   "outputs": [],
   "source": [
    "!sed 's/ //g' _blast-GO-unfolded.sorted > _blast-GO-unfolded-nos.sorted"
   ]
  },
  {
   "cell_type": "code",
   "execution_count": 29,
   "metadata": {},
   "outputs": [
    {
     "name": "stdout",
     "output_type": "stream",
     "text": [
      "GO:0000001\tTRINITY_DN2394_c1_g1_i4\r\n",
      "GO:0000001\tTRINITY_DN3613_c0_g2_i2\r\n",
      "GO:0000001\tTRINITY_DN5286_c0_g3_i1\r\n",
      "GO:0000001\tTRINITY_DN5286_c0_g3_i2\r\n",
      "GO:0000001\tTRINITY_DN10603_c1_g1_i2\r\n",
      "GO:0000001\tTRINITY_DN10603_c1_g1_i5\r\n",
      "GO:0000001\tTRINITY_DN11919_c2_g1_i1\r\n",
      "GO:0000001\tTRINITY_DN11928_c1_g1_i1\r\n",
      "GO:0000001\tTRINITY_DN12639_c0_g1_i14\r\n",
      "GO:0000001\tTRINITY_DN13713_c0_g2_i3\r\n"
     ]
    }
   ],
   "source": [
    "!head _blast-GO-unfolded-nos.sorted"
   ]
  },
  {
   "cell_type": "code",
   "execution_count": 30,
   "metadata": {},
   "outputs": [
    {
     "name": "stdout",
     "output_type": "stream",
     "text": [
      "GO:0000001\tTRINITY_DN2394_c1_g1_i4\r\n",
      "GO:0000001\tTRINITY_DN3613_c0_g2_i2\r\n",
      "GO:0000001\tTRINITY_DN5286_c0_g3_i1\r\n",
      "GO:0000001\tTRINITY_DN5286_c0_g3_i2\r\n",
      "GO:0000001\tTRINITY_DN10603_c1_g1_i2\r\n",
      "GO:0000001\tTRINITY_DN10603_c1_g1_i5\r\n",
      "GO:0000001\tTRINITY_DN11919_c2_g1_i1\r\n",
      "GO:0000001\tTRINITY_DN11928_c1_g1_i1\r\n",
      "GO:0000001\tTRINITY_DN12639_c0_g1_i14\r\n",
      "GO:0000001\tTRINITY_DN13713_c0_g2_i3\r\n"
     ]
    }
   ],
   "source": [
    "!tr \" \" \"*\" < _blast-GO-unfolded-nos.sorted | head"
   ]
  },
  {
   "cell_type": "code",
   "execution_count": 31,
   "metadata": {},
   "outputs": [
    {
     "name": "stdout",
     "output_type": "stream",
     "text": [
      "GO:0000001\tmitochondrion inheritance\tcell organization and biogenesis\tP\r\n",
      "GO:0000002\tmitochondrial genome maintenance\tcell organization and biogenesis\tP\r\n",
      "GO:0000003\treproduction\tother biological processes\tP\r\n",
      "GO:0000006\thigh affinity zinc uptake transmembrane transporter activity\ttransporter activity\tF\r\n",
      "GO:0000007\tlow-affinity zinc ion transmembrane transporter activity\ttransporter activity\tF\r\n",
      "GO:0000009\t\"alpha-1,6-mannosyltransferase activity\"\tother molecular function\tF\r\n",
      "GO:0000010\ttrans-hexaprenyltranstransferase activity\tother molecular function\tF\r\n",
      "GO:0000011\tvacuole inheritance\tcell organization and biogenesis\tP\r\n",
      "GO:0000012\tsingle strand break repair\tDNA metabolism\tP\r\n",
      "GO:0000012\tsingle strand break repair\tstress response\tP\r\n"
     ]
    }
   ],
   "source": [
    "!head GO-GOslim.sorted"
   ]
  },
  {
   "cell_type": "code",
   "execution_count": 32,
   "metadata": {},
   "outputs": [
    {
     "name": "stdout",
     "output_type": "stream",
     "text": [
      "GO:0000001\tTRINITY_DN2394_c1_g1_i4\tmitochondrion inheritance\tcell organization and biogenesis\tP\r\n",
      "GO:0000001\tTRINITY_DN3613_c0_g2_i2\tmitochondrion inheritance\tcell organization and biogenesis\tP\r\n",
      "GO:0000001\tTRINITY_DN5286_c0_g3_i1\tmitochondrion inheritance\tcell organization and biogenesis\tP\r\n",
      "GO:0000001\tTRINITY_DN5286_c0_g3_i2\tmitochondrion inheritance\tcell organization and biogenesis\tP\r\n",
      "GO:0000001\tTRINITY_DN10603_c1_g1_i2\tmitochondrion inheritance\tcell organization and biogenesis\tP\r\n",
      "GO:0000001\tTRINITY_DN10603_c1_g1_i5\tmitochondrion inheritance\tcell organization and biogenesis\tP\r\n",
      "GO:0000001\tTRINITY_DN11919_c2_g1_i1\tmitochondrion inheritance\tcell organization and biogenesis\tP\r\n",
      "GO:0000001\tTRINITY_DN11928_c1_g1_i1\tmitochondrion inheritance\tcell organization and biogenesis\tP\r\n",
      "GO:0000001\tTRINITY_DN12639_c0_g1_i14\tmitochondrion inheritance\tcell organization and biogenesis\tP\r\n",
      "GO:0000001\tTRINITY_DN13713_c0_g2_i3\tmitochondrion inheritance\tcell organization and biogenesis\tP\r\n",
      "join: stdout: Broken pipe\r\n"
     ]
    }
   ],
   "source": [
    "!join -1 1 -2 1 -t $'\\t' \\\n",
    "_blast-GO-unfolded-nos.sorted \\\n",
    "GO-GOslim.sorted | head "
   ]
  },
  {
   "cell_type": "code",
   "execution_count": 33,
   "metadata": {},
   "outputs": [
    {
     "name": "stdout",
     "output_type": "stream",
     "text": [
      "  690633 Blastquery-GOslim.tab\r\n"
     ]
    }
   ],
   "source": [
    "#joining files to get GOslim for each query (with duplicate GOslim / query removed)\n",
    "!join -1 1 -2 1 -t $'\\t' \\\n",
    "_blast-GO-unfolded-nos.sorted \\\n",
    "GO-GOslim.sorted \\\n",
    "| uniq | awk -F'\\t' -v OFS='\\t' '{print $2, $4, $5}' \\\n",
    "> Blastquery-GOslim.tab\n",
    "!wc -l Blastquery-GOslim.tab"
   ]
  },
  {
   "cell_type": "code",
   "execution_count": 34,
   "metadata": {},
   "outputs": [
    {
     "name": "stdout",
     "output_type": "stream",
     "text": [
      "TRINITY_DN2394_c1_g1_i4\tcell organization and biogenesis\tP\n",
      "TRINITY_DN3613_c0_g2_i2\tcell organization and biogenesis\tP\n",
      "TRINITY_DN5286_c0_g3_i1\tcell organization and biogenesis\tP\n",
      "TRINITY_DN5286_c0_g3_i2\tcell organization and biogenesis\tP\n",
      "TRINITY_DN10603_c1_g1_i2\tcell organization and biogenesis\tP\n",
      "TRINITY_DN10603_c1_g1_i5\tcell organization and biogenesis\tP\n",
      "TRINITY_DN11919_c2_g1_i1\tcell organization and biogenesis\tP\n",
      "TRINITY_DN11928_c1_g1_i1\tcell organization and biogenesis\tP\n",
      "TRINITY_DN12639_c0_g1_i14\tcell organization and biogenesis\tP\n",
      "TRINITY_DN13713_c0_g2_i3\tcell organization and biogenesis\tP\n",
      "  690633 Blastquery-GOslim.tab\n"
     ]
    }
   ],
   "source": [
    "!head Blastquery-GOslim.tab\n",
    "!wc -l Blastquery-GOslim.tab"
   ]
  },
  {
   "cell_type": "markdown",
   "metadata": {},
   "source": [
    "### Get P - query slim"
   ]
  },
  {
   "cell_type": "code",
   "execution_count": 35,
   "metadata": {},
   "outputs": [
    {
     "name": "stdout",
     "output_type": "stream",
     "text": [
      "TRINITY_DN0_c0_g1_i1\tother metabolic processes\r\n",
      "TRINITY_DN0_c0_g1_i1\tprotein metabolism\r\n",
      "TRINITY_DN0_c0_g1_i2\tprotein metabolism\r\n",
      "TRINITY_DN0_c0_g1_i3\tprotein metabolism\r\n",
      "TRINITY_DN0_c0_g1_i4\tother metabolic processes\r\n",
      "TRINITY_DN0_c0_g1_i4\tprotein metabolism\r\n",
      "TRINITY_DN10000_c0_g1_i1\tcell cycle and proliferation\r\n",
      "TRINITY_DN10000_c0_g1_i1\tcell organization and biogenesis\r\n",
      "TRINITY_DN10000_c0_g1_i1\tcell organization and biogenesis\r\n",
      "TRINITY_DN10000_c0_g1_i1\tdeath\r\n"
     ]
    }
   ],
   "source": [
    "!awk -F\"\\t\" '$3 == \"P\" { print $1\"\\t\"$2 }' Blastquery-GOslim.tab | sort > crab-Blastquery-GOslim.sorted\n",
    "!head crab-Blastquery-GOslim.sorted"
   ]
  },
  {
   "cell_type": "code",
   "execution_count": null,
   "metadata": {
    "collapsed": true
   },
   "outputs": [],
   "source": []
  }
 ],
 "metadata": {
  "kernelspec": {
   "display_name": "Python [default]",
   "language": "python",
   "name": "python3"
  },
  "language_info": {
   "codemirror_mode": {
    "name": "ipython",
    "version": 3
   },
   "file_extension": ".py",
   "mimetype": "text/x-python",
   "name": "python",
   "nbconvert_exporter": "python",
   "pygments_lexer": "ipython3",
   "version": "3.5.3"
  }
 },
 "nbformat": 4,
 "nbformat_minor": 2
}
