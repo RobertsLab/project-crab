{
 "cells": [
  {
   "cell_type": "markdown",
   "metadata": {},
   "source": [
    "### Notebook to change '|' to '\\t' in crab-uniprot blastoutput and hemat-uniprot blastoutput so that the uniprot IDs can be joined with uniprot/sprot + GO database - then GO IDs and e-values will be used in Revigo"
   ]
  },
  {
   "cell_type": "code",
   "execution_count": 1,
   "metadata": {},
   "outputs": [
    {
     "data": {
      "text/plain": [
       "'/Users/graciecrandall/Documents/GitHub/project-crab/notebooks'"
      ]
     },
     "execution_count": 1,
     "metadata": {},
     "output_type": "execute_result"
    }
   ],
   "source": [
    "pwd"
   ]
  },
  {
   "cell_type": "code",
   "execution_count": 2,
   "metadata": {
    "collapsed": true
   },
   "outputs": [],
   "source": [
    "wd = \"/Users/graciecrandall/Documents/GitHub/project-crab/analyses/\""
   ]
  },
  {
   "cell_type": "code",
   "execution_count": 3,
   "metadata": {},
   "outputs": [
    {
     "name": "stdout",
     "output_type": "stream",
     "text": [
      "/Users/graciecrandall/Documents/GitHub/project-crab/analyses\n"
     ]
    }
   ],
   "source": [
    "cd {wd}"
   ]
  },
  {
   "cell_type": "code",
   "execution_count": 4,
   "metadata": {},
   "outputs": [
    {
     "name": "stdout",
     "output_type": "stream",
     "text": [
      "091419-crab-blastx-output.csv     crab-Blastquery-GOslim.sorted\r\n",
      "1108-cbairdiblast-sprot.tab       crab-GOslim-count.csv\r\n",
      "Blastquery-GOslim.tab             crab-GOslim.csv\r\n",
      "Cb_v1_blastx_uniprot2864_imac.tab crab-blastx-sp-full.tab\r\n",
      "GO-GOslim.sorted                  crab-blastx-sp.tab\r\n",
      "_blast-GO-unfolded-nos.sorted     dino-Blastquery-GOslim.sorted\r\n",
      "_blast-GO-unfolded.sorted         hemat-Blastquery-GOslim.sorted\r\n",
      "_blast-GO-unfolded.tab            hemat-GOslim-count.csv\r\n",
      "_blast-annot-crab-sort.tab        hemat-blastx-sp-full.tab\r\n",
      "_blast-annot-crab.tab             hemat-blastx-sp.tab\r\n",
      "_blast-sep.tab                    master-qubit-sample.csv\r\n",
      "_blast-sep2-crab.tab              master-qubit.xlsx\r\n",
      "_blast-sep2.tab                   qubit_results-for-libraries.csv\r\n",
      "_blast-sep3.tab                   readme.md\r\n",
      "_blast-sort-crab.tab              sample_table.csv\r\n",
      "_blast-sort.tab                   uniprot-SP-GO.sorted\r\n",
      "_intermediate.file\r\n"
     ]
    }
   ],
   "source": [
    "!ls"
   ]
  },
  {
   "cell_type": "code",
   "execution_count": 5,
   "metadata": {
    "collapsed": true
   },
   "outputs": [],
   "source": [
    "blastoutcrab=\"crab-blastx-sp-full.tab\""
   ]
  },
  {
   "cell_type": "code",
   "execution_count": 6,
   "metadata": {},
   "outputs": [
    {
     "name": "stdout",
     "output_type": "stream",
     "text": [
      "Trinity_protein\tsseqid\tpident\tlength\tmismatch\tgapopen\tqstart\tqend\tsstart\tsend\tevalue\tbitscore\r\n",
      "TRINITY_DN21442_c0_g1_i1\tsp|Q6PEI7|PYRG1_DANRE\t36\t50\t27\t1\t26\t175\t233\t277\t1.8\t30.4\r\n"
     ]
    }
   ],
   "source": [
    "!head -2 $blastoutcrab"
   ]
  },
  {
   "cell_type": "code",
   "execution_count": 7,
   "metadata": {},
   "outputs": [
    {
     "name": "stdout",
     "output_type": "stream",
     "text": [
      "  114380 crab-blastx-sp-full.tab\r\n"
     ]
    }
   ],
   "source": [
    "!wc -l $blastoutcrab"
   ]
  },
  {
   "cell_type": "code",
   "execution_count": 8,
   "metadata": {
    "collapsed": true
   },
   "outputs": [],
   "source": [
    "# convert pipes to tab\n",
    "!tr '|' '\\t' < $blastoutcrab \\\n",
    "> _blast-sep-crab.tab"
   ]
  },
  {
   "cell_type": "code",
   "execution_count": 9,
   "metadata": {},
   "outputs": [
    {
     "name": "stdout",
     "output_type": "stream",
     "text": [
      "Trinity_protein\tsseqid\tpident\tlength\tmismatch\tgapopen\tqstart\tqend\tsstart\tsend\tevalue\tbitscore\r\n",
      "TRINITY_DN21442_c0_g1_i1\tsp\tQ6PEI7\tPYRG1_DANRE\t36\t50\t27\t1\t26\t175\t233\t277\t1.8\t30.4\r\n"
     ]
    }
   ],
   "source": [
    "!head -2 _blast-sep-crab.tab"
   ]
  },
  {
   "cell_type": "code",
   "execution_count": 10,
   "metadata": {
    "collapsed": true
   },
   "outputs": [],
   "source": [
    "!awk NR\\>1 _blast-sep-crab.tab > _blast-sep2-crab.tab\n",
    "#remove column names"
   ]
  },
  {
   "cell_type": "code",
   "execution_count": 11,
   "metadata": {},
   "outputs": [
    {
     "name": "stdout",
     "output_type": "stream",
     "text": [
      "TRINITY_DN21442_c0_g1_i1\tsp\tQ6PEI7\tPYRG1_DANRE\t36\t50\t27\t1\t26\t175\t233\t277\t1.8\t30.4\r\n",
      "TRINITY_DN21452_c0_g2_i1\tsp\tQ556N7\tFSLM_DICDI\t33.846\t65\t39\t1\t1124\t942\t230\t294\t1.8\t35.8\r\n",
      "TRINITY_DN21477_c1_g1_i2\tsp\tA7NH85\tG6PI_ROSCS\t51.852\t27\t13\t0\t116\t196\t22\t48\t9.7\t27.7\r\n",
      "TRINITY_DN21477_c0_g1_i3\tsp\tQ59KC4\tS2538_CANAL\t37.931\t29\t18\t0\t76\t162\t107\t135\t4.1\t28.9\r\n",
      "TRINITY_DN21432_c0_g1_i1\tsp\tQ43814\tOTC_PEA\t42.308\t26\t15\t0\t278\t355\t221\t246\t5.5\t30\r\n",
      "TRINITY_DN21432_c0_g2_i1\tsp\tQ99IB8\tPOLG_HCVJF\t32.558\t43\t29\t0\t208\t336\t2831\t2873\t2.5\t30.8\r\n",
      "TRINITY_DN21482_c0_g1_i1\tsp\tA2SBW1\tPYRE_METPP\t39.583\t48\t28\t1\t38\t181\t158\t204\t0.23\t33.9\r\n",
      "TRINITY_DN21438_c0_g2_i1\tsp\tQ4WUT7\tTRM61_ASPFU\t27.273\t99\t65\t4\t314\t595\t224\t320\t9.9\t30.8\r\n",
      "TRINITY_DN21473_c0_g2_i1\tsp\tQ18297\tTRPA1_CAEEL\t29.167\t48\t31\t1\t71\t205\t949\t996\t1.4\t31.6\r\n",
      "TRINITY_DN21473_c0_g1_i1\tsp\tQ86VS3\tIQCH_HUMAN\t25.856\t526\t331\t17\t2574\t1123\t325\t833\t4.71e-38\t157\r\n"
     ]
    }
   ],
   "source": [
    "!head _blast-sep2-crab.tab"
   ]
  },
  {
   "cell_type": "code",
   "execution_count": 12,
   "metadata": {
    "collapsed": true
   },
   "outputs": [],
   "source": [
    "blastouthemat=\"hemat-blastx-sp-full.tab\""
   ]
  },
  {
   "cell_type": "code",
   "execution_count": 13,
   "metadata": {},
   "outputs": [
    {
     "name": "stdout",
     "output_type": "stream",
     "text": [
      "Trinity_protein\tsseqid.x\tpident.x\tlength.x\tmismatch.x\tgapopen.x\tqstart.x\tqend.x\tsstart.x\tsend.x\tevalue.x\tbitscore.x\tsseqid.y\tpident.y\tlength.y\tmismatch.y\tgapopen.y\tqstart.y\tqend.y\tsstart.y\tsend.y\tevalue.y\tbitscore.y\r\n",
      "TRINITY_DN21464_c0_g1_i1\tsp|Q08D64|ABCB6_XENTR\t54.172\t827\t364\t6\t93\t2570\t1\t813\t0\t788\ttr|A0A1Q9E613|A0A1Q9E613_SYMMI\t38.298\t611\t346\t10\t801\t2570\t567\t1167\t6.69e-116\t382\r\n"
     ]
    }
   ],
   "source": [
    "!head -2 $blastouthemat"
   ]
  },
  {
   "cell_type": "code",
   "execution_count": 14,
   "metadata": {},
   "outputs": [
    {
     "name": "stdout",
     "output_type": "stream",
     "text": [
      "  100066 hemat-blastx-sp-full.tab\r\n"
     ]
    }
   ],
   "source": [
    "!wc -l $blastouthemat"
   ]
  },
  {
   "cell_type": "code",
   "execution_count": 15,
   "metadata": {
    "collapsed": true
   },
   "outputs": [],
   "source": [
    "# convert pipes to tab\n",
    "!tr '|' '\\t' < $blastouthemat \\\n",
    "> _blast-sep-hemat.tab"
   ]
  },
  {
   "cell_type": "code",
   "execution_count": 16,
   "metadata": {},
   "outputs": [
    {
     "name": "stdout",
     "output_type": "stream",
     "text": [
      "Trinity_protein\tsseqid.x\tpident.x\tlength.x\tmismatch.x\tgapopen.x\tqstart.x\tqend.x\tsstart.x\tsend.x\tevalue.x\tbitscore.x\tsseqid.y\tpident.y\tlength.y\tmismatch.y\tgapopen.y\tqstart.y\tqend.y\tsstart.y\tsend.y\tevalue.y\tbitscore.y\r\n",
      "TRINITY_DN21464_c0_g1_i1\tsp\tQ08D64\tABCB6_XENTR\t54.172\t827\t364\t6\t93\t2570\t1\t813\t0\t788\ttr\tA0A1Q9E613\tA0A1Q9E613_SYMMI\t38.298\t611\t346\t10\t801\t2570\t567\t1167\t6.69e-116\t382\r\n"
     ]
    }
   ],
   "source": [
    "!head -2 _blast-sep-hemat.tab"
   ]
  },
  {
   "cell_type": "code",
   "execution_count": 17,
   "metadata": {
    "collapsed": true
   },
   "outputs": [],
   "source": [
    "!awk NR\\>1 _blast-sep-hemat.tab > _blast-sep2-hemat.tab\n",
    "#remove column names"
   ]
  },
  {
   "cell_type": "code",
   "execution_count": 18,
   "metadata": {},
   "outputs": [
    {
     "name": "stdout",
     "output_type": "stream",
     "text": [
      "TRINITY_DN21464_c0_g1_i1\tsp\tQ08D64\tABCB6_XENTR\t54.172\t827\t364\t6\t93\t2570\t1\t813\t0\t788\ttr\tA0A1Q9E613\tA0A1Q9E613_SYMMI\t38.298\t611\t346\t10\t801\t2570\t567\t1167\t6.69e-116\t382\r\n",
      "TRINITY_DN21426_c0_g2_i1\tsp\tQ0JL73\tRH26_ORYSJ\t38.133\t375\t222\t7\t195\t1307\t76\t444\t7.26e-75\t253\ttr\tA0A1Q9DMD0\tA0A1Q9DMD0_SYMMI\t46.383\t470\t235\t3\t126\t1484\t34\t503\t2.34e-134\t406\r\n",
      "TRINITY_DN21474_c0_g1_i1\tsp\tQ32HN5\tGHRA_SHIDS\t34.874\t238\t147\t3\t875\t162\t83\t312\t8.76e-41\t149\ttr\tA0A1Q9E557\tA0A1Q9E557_SYMMI\t27.5\t240\t165\t4\t938\t231\t75\t309\t2.73e-28\t114\r\n",
      "TRINITY_DN21474_c1_g1_i1\tsp\tQ9D4F8\tGCP4_MOUSE\t37.269\t432\t239\t10\t1412\t174\t244\t662\t1.57e-74\t250\ttr\tA0A1Q9CMH1\tA0A1Q9CMH1_SYMMI\t26.442\t208\t139\t3\t797\t192\t1706\t1905\t5.86e-15\t79.3\r\n",
      "TRINITY_DN21493_c0_g2_i4\tsp\tQ03278\tPO21_NASVI\t38.333\t60\t37\t0\t381\t560\t440\t499\t5.87e-05\t47\ttr\tA0A1Q9BY78\tA0A1Q9BY78_SYMMI\t37.963\t108\t63\t2\t276\t596\t610\t714\t1.97e-12\t66.6\r\n",
      "TRINITY_DN21493_c0_g2_i5\tsp\tQ03278\tPO21_NASVI\t38.333\t60\t37\t0\t185\t364\t440\t499\t5.57e-05\t45.1\ttr\tA0A1Q9BY78\tA0A1Q9BY78_SYMMI\t40.206\t97\t54\t2\t113\t400\t621\t714\t9.52e-13\t65.1\r\n",
      "TRINITY_DN21493_c0_g2_i3\tsp\tQ03278\tPO21_NASVI\t40.385\t52\t31\t0\t375\t530\t448\t499\t0.000259\t44.7\ttr\tA0A1Q9BY78\tA0A1Q9BY78_SYMMI\t42.268\t97\t52\t2\t279\t566\t621\t714\t1.04e-13\t70.1\r\n",
      "TRINITY_DN21403_c0_g1_i1\tsp\tQ500Z2\tZDH20_ARATH\t33.79\t219\t128\t5\t1708\t1082\t40\t251\t2.51e-27\t114\ttr\tA0A1Q9DSI9\tA0A1Q9DSI9_SYMMI\t42.149\t242\t127\t4\t1750\t1052\t93\t330\t3.82e-50\t180\r\n",
      "TRINITY_DN21403_c0_g1_i2\tsp\tQ500Z2\tZDH20_ARATH\t33.79\t219\t128\t5\t1392\t766\t40\t251\t1.7e-27\t114\ttr\tA0A1Q9DSI9\tA0A1Q9DSI9_SYMMI\t42.149\t242\t127\t4\t1434\t736\t93\t330\t8.44e-51\t180\r\n",
      "TRINITY_DN21471_c0_g2_i1\tsp\tQ588V7\tTEB_ARATH\t43.75\t112\t61\t1\t659\t330\t858\t969\t9.55e-21\t93.6\ttr\tA0A1Q9DWW8\tA0A1Q9DWW8_SYMMI\t54.545\t110\t49\t1\t659\t333\t345\t454\t3.31e-30\t118\r\n"
     ]
    }
   ],
   "source": [
    "!head _blast-sep2-hemat.tab"
   ]
  },
  {
   "cell_type": "code",
   "execution_count": null,
   "metadata": {
    "collapsed": true
   },
   "outputs": [],
   "source": []
  }
 ],
 "metadata": {
  "kernelspec": {
   "display_name": "Python [default]",
   "language": "python",
   "name": "python3"
  },
  "language_info": {
   "codemirror_mode": {
    "name": "ipython",
    "version": 3
   },
   "file_extension": ".py",
   "mimetype": "text/x-python",
   "name": "python",
   "nbconvert_exporter": "python",
   "pygments_lexer": "ipython3",
   "version": "3.5.3"
  }
 },
 "nbformat": 4,
 "nbformat_minor": 2
}
