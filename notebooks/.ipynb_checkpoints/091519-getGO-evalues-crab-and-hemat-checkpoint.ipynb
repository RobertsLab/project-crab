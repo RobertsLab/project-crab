{
 "cells": [
  {
   "cell_type": "markdown",
   "metadata": {},
   "source": [
    "## Notebook to save files for crab-uniprot and hematodinium-uniprot GO IDs and e-values for use in Revigo"
   ]
  },
  {
   "cell_type": "markdown",
   "metadata": {},
   "source": [
    "## Get Crab file"
   ]
  },
  {
   "cell_type": "markdown",
   "metadata": {},
   "source": [
    "#### Files needed:\n",
    "1) blastout file (crab and uniprot) in format -6 (https://raw.githubusercontent.com/RobertsLab/project-crab/master/analyses/crab-blastx-sp.tab)       \n",
    "2) Uniprot GO annotation file (340M) from : http://owl.fish.washington.edu/halfshell/bu-alanine-wd/17-07-20/uniprot-SP-GO.sorted       \n",
    "3) GOslim file from : http://owl.fish.washington.edu/halfshell/bu-alanine-wd/17-07-20/Go-GOslim.sorted"
   ]
  },
  {
   "cell_type": "code",
   "execution_count": 1,
   "metadata": {},
   "outputs": [
    {
     "data": {
      "text/plain": [
       "'/Users/graciecrandall/Documents/GitHub/project-crab/notebooks'"
      ]
     },
     "execution_count": 1,
     "metadata": {},
     "output_type": "execute_result"
    }
   ],
   "source": [
    "pwd"
   ]
  },
  {
   "cell_type": "code",
   "execution_count": 2,
   "metadata": {
    "collapsed": true
   },
   "outputs": [],
   "source": [
    "wd = \"/Users/graciecrandall/Documents/GitHub/project-crab/analyses/\""
   ]
  },
  {
   "cell_type": "code",
   "execution_count": 3,
   "metadata": {},
   "outputs": [
    {
     "name": "stdout",
     "output_type": "stream",
     "text": [
      "/Users/graciecrandall/Documents/GitHub/project-crab/analyses\n"
     ]
    }
   ],
   "source": [
    "cd {wd}"
   ]
  },
  {
   "cell_type": "code",
   "execution_count": 4,
   "metadata": {},
   "outputs": [
    {
     "name": "stdout",
     "output_type": "stream",
     "text": [
      "  % Total    % Received % Xferd  Average Speed   Time    Time     Time  Current\n",
      "                                 Dload  Upload   Total   Spent    Left  Speed\n",
      "100 2314k  100 2314k    0     0  3707k      0 --:--:-- --:--:-- --:--:-- 5008k\n"
     ]
    }
   ],
   "source": [
    "!curl -O http://owl.fish.washington.edu/halfshell/bu-alanine-wd/17-07-20/GO-GOslim.sorted"
   ]
  },
  {
   "cell_type": "code",
   "execution_count": 5,
   "metadata": {},
   "outputs": [
    {
     "name": "stdout",
     "output_type": "stream",
     "text": [
      "  % Total    % Received % Xferd  Average Speed   Time    Time     Time  Current\n",
      "                                 Dload  Upload   Total   Spent    Left  Speed\n",
      "100  340M  100  340M    0     0  9927k      0  0:00:35  0:00:35 --:--:-- 17.6M  0  0:00:38  0:00:31  0:00:07 18.7M\n"
     ]
    }
   ],
   "source": [
    "!curl -O http://owl.fish.washington.edu/halfshell/bu-alanine-wd/17-07-20/uniprot-SP-GO.sorted "
   ]
  },
  {
   "cell_type": "code",
   "execution_count": 6,
   "metadata": {},
   "outputs": [
    {
     "name": "stdout",
     "output_type": "stream",
     "text": [
      "091419-crab-blastx-output.csv     crab-Blastquery-GOslim.sorted\r\n",
      "1108-cbairdiblast-sprot.tab       crab-GOslim-count.csv\r\n",
      "Blastquery-GOslim.tab             crab-GOslim.csv\r\n",
      "Cb_v1_blastx_uniprot2864_imac.tab crab-blastx-sp.tab\r\n",
      "GO-GOslim.sorted                  dino-Blastquery-GOslim.sorted\r\n",
      "_blast-GO-unfolded-nos.sorted     hemat-Blastquery-GOslim.sorted\r\n",
      "_blast-GO-unfolded.sorted         hemat-GOslim-count.csv\r\n",
      "_blast-GO-unfolded.tab            hemat-blastx-sp.tab\r\n",
      "_blast-annot-hemat.tab            master-qubit-sample.csv\r\n",
      "_blast-annot.tab                  master-qubit.xlsx\r\n",
      "_blast-sep.tab                    qubit_results-for-libraries.csv\r\n",
      "_blast-sep2.tab                   readme.md\r\n",
      "_blast-sep3.tab                   sample_table.csv\r\n",
      "_blast-sort.tab                   uniprot-SP-GO.sorted\r\n",
      "_intermediate.file\r\n"
     ]
    }
   ],
   "source": [
    "# check if files are in the directory\n",
    "!ls"
   ]
  },
  {
   "cell_type": "markdown",
   "metadata": {},
   "source": [
    "### Set blastout as a variable"
   ]
  },
  {
   "cell_type": "code",
   "execution_count": 7,
   "metadata": {
    "collapsed": true
   },
   "outputs": [],
   "source": [
    "blastout=\"crab-blastx-sp.tab\""
   ]
  },
  {
   "cell_type": "code",
   "execution_count": 8,
   "metadata": {},
   "outputs": [
    {
     "name": "stdout",
     "output_type": "stream",
     "text": [
      "Trinity_protein\tsseqid\tevalue\r\n",
      "TRINITY_DN21442_c0_g1_i1\tsp|Q6PEI7|PYRG1_DANRE\t1.8\r\n"
     ]
    }
   ],
   "source": [
    "!head -2 $blastout"
   ]
  },
  {
   "cell_type": "code",
   "execution_count": 9,
   "metadata": {},
   "outputs": [
    {
     "name": "stdout",
     "output_type": "stream",
     "text": [
      "  109780 crab-blastx-sp.tab\r\n"
     ]
    }
   ],
   "source": [
    "!wc -l $blastout"
   ]
  },
  {
   "cell_type": "code",
   "execution_count": 10,
   "metadata": {
    "collapsed": true
   },
   "outputs": [],
   "source": [
    "# convert pipes to tab\n",
    "!tr '|' '\\t' < $blastout \\\n",
    "> _blast-sep.tab"
   ]
  },
  {
   "cell_type": "code",
   "execution_count": 11,
   "metadata": {},
   "outputs": [
    {
     "name": "stdout",
     "output_type": "stream",
     "text": [
      "Trinity_protein\tsseqid\tevalue\r\n",
      "TRINITY_DN21442_c0_g1_i1\tsp\tQ6PEI7\tPYRG1_DANRE\t1.8\r\n"
     ]
    }
   ],
   "source": [
    "!head -2 _blast-sep.tab"
   ]
  },
  {
   "cell_type": "code",
   "execution_count": 12,
   "metadata": {
    "collapsed": true
   },
   "outputs": [],
   "source": [
    "!awk NR\\>1 _blast-sep.tab > _blast-sep2.tab\n",
    "#remove column names"
   ]
  },
  {
   "cell_type": "code",
   "execution_count": 13,
   "metadata": {},
   "outputs": [
    {
     "name": "stdout",
     "output_type": "stream",
     "text": [
      "TRINITY_DN21442_c0_g1_i1\tsp\tQ6PEI7\tPYRG1_DANRE\t1.8\r\n",
      "TRINITY_DN21452_c0_g2_i1\tsp\tQ556N7\tFSLM_DICDI\t1.8\r\n"
     ]
    }
   ],
   "source": [
    "!head -2 _blast-sep2.tab"
   ]
  },
  {
   "cell_type": "code",
   "execution_count": 14,
   "metadata": {
    "collapsed": true
   },
   "outputs": [],
   "source": [
    "#reducing number of columns and sorting \n",
    "!awk -v OFS='\\t' '{print $3, $1, $5}' <_blast-sep2.tab | sort \\\n",
    "> _blast-sort.tab"
   ]
  },
  {
   "cell_type": "code",
   "execution_count": 15,
   "metadata": {},
   "outputs": [
    {
     "name": "stdout",
     "output_type": "stream",
     "text": [
      "A0A023PXK7\tTRINITY_DN19072_c0_g3_i2\t4\r\n",
      "A0A023PXK7\tTRINITY_DN8794_c0_g2_i1\t2.3\r\n"
     ]
    }
   ],
   "source": [
    "!head -2 _blast-sort.tab"
   ]
  },
  {
   "cell_type": "code",
   "execution_count": 36,
   "metadata": {
    "collapsed": true
   },
   "outputs": [],
   "source": [
    "#joining blast with uniprot annotation file and reducing to three columns UniprotID, Query, All GO terms\n",
    "!join -t $'\\t' \\\n",
    "_blast-sort.tab \\\n",
    "uniprot-SP-GO.sorted \\\n",
    "| cut -f2,3,14 \\\n",
    "> _blast-annot-crab.tab"
   ]
  },
  {
   "cell_type": "code",
   "execution_count": 37,
   "metadata": {},
   "outputs": [
    {
     "name": "stdout",
     "output_type": "stream",
     "text": [
      "TRINITY_DN19072_c0_g3_i2\t4\tGO:0016021\r\n",
      "TRINITY_DN8794_c0_g2_i1\t2.3\tGO:0016021\r\n",
      "TRINITY_DN24825_c0_g1_i1\t4.2\tGO:0016021\r\n",
      "TRINITY_DN40894_c0_g1_i1\t2.3\t\r\n",
      "TRINITY_DN14110_c0_g1_i2\t9.5\tGO:0016021\r\n",
      "TRINITY_DN6907_c0_g3_i2\t2.1\tGO:0016021\r\n",
      "TRINITY_DN6907_c0_g3_i3\t2.3\tGO:0016021\r\n",
      "TRINITY_DN15377_c0_g2_i2\t0.87\tGO:0016021\r\n",
      "TRINITY_DN25724_c0_g2_i1\t2.2\tGO:0016021\r\n",
      "TRINITY_DN11962_c0_g1_i2\t0.1\t\r\n"
     ]
    }
   ],
   "source": [
    "!head _blast-annot-crab.tab"
   ]
  },
  {
   "cell_type": "code",
   "execution_count": 18,
   "metadata": {
    "collapsed": true
   },
   "outputs": [],
   "source": []
  },
  {
   "cell_type": "code",
   "execution_count": 26,
   "metadata": {
    "collapsed": true
   },
   "outputs": [],
   "source": []
  },
  {
   "cell_type": "code",
   "execution_count": null,
   "metadata": {
    "collapsed": true
   },
   "outputs": [],
   "source": []
  }
 ],
 "metadata": {
  "kernelspec": {
   "display_name": "Python [default]",
   "language": "python",
   "name": "python3"
  },
  "language_info": {
   "codemirror_mode": {
    "name": "ipython",
    "version": 3
   },
   "file_extension": ".py",
   "mimetype": "text/x-python",
   "name": "python",
   "nbconvert_exporter": "python",
   "pygments_lexer": "ipython3",
   "version": "3.5.3"
  }
 },
 "nbformat": 4,
 "nbformat_minor": 2
}
