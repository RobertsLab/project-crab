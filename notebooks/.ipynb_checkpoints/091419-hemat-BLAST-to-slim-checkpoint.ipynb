{
 "cells": [
  {
   "cell_type": "markdown",
   "metadata": {},
   "source": [
    "# Jupyter notebook for taking the BLASTx output (transcriptome from library01 against a blastdb of dinoflagellate) to GOslim"
   ]
  },
  {
   "cell_type": "markdown",
   "metadata": {},
   "source": [
    "### from Steven's notebook: https://github.com/sr320/nb-2018/blob/master/C_virginica/83-blast-2-slim.ipynb"
   ]
  },
  {
   "cell_type": "markdown",
   "metadata": {},
   "source": [
    "### Need three files:\n",
    "1) blastout file (dinoflagellate db blastx joined with uniprot blastx) in format -6 (https://raw.githubusercontent.com/RobertsLab/project-crab/master/analyses/hemat-blastx-sp.tab)       \n",
    "2) Uniprot GO annotation file (340M) from : http://owl.fish.washington.edu/halfshell/bu-alanine-wd/17-07-20/uniprot-SP-GO.sorted       \n",
    "3) GOslim file from : http://owl.fish.washington.edu/halfshell/bu-alanine-wd/17-07-20/Go-GOslim.sorted"
   ]
  },
  {
   "cell_type": "code",
   "execution_count": 1,
   "metadata": {},
   "outputs": [
    {
     "data": {
      "text/plain": [
       "'/Users/graciecrandall/Documents/GitHub/project-crab/notebooks'"
      ]
     },
     "execution_count": 1,
     "metadata": {},
     "output_type": "execute_result"
    }
   ],
   "source": [
    "pwd"
   ]
  },
  {
   "cell_type": "code",
   "execution_count": 3,
   "metadata": {
    "collapsed": true
   },
   "outputs": [],
   "source": [
    "wd = \"/Users/graciecrandall/Documents/GitHub/project-crab/analyses/\""
   ]
  },
  {
   "cell_type": "code",
   "execution_count": 4,
   "metadata": {},
   "outputs": [
    {
     "name": "stdout",
     "output_type": "stream",
     "text": [
      "/Users/graciecrandall/Documents/GitHub/project-crab/analyses\n"
     ]
    }
   ],
   "source": [
    "cd {wd}"
   ]
  },
  {
   "cell_type": "code",
   "execution_count": 4,
   "metadata": {},
   "outputs": [
    {
     "name": "stdout",
     "output_type": "stream",
     "text": [
      "  % Total    % Received % Xferd  Average Speed   Time    Time     Time  Current\n",
      "                                 Dload  Upload   Total   Spent    Left  Speed\n",
      "100 2314k  100 2314k    0     0  1965k      0  0:00:01  0:00:01 --:--:-- 2349k\n"
     ]
    }
   ],
   "source": [
    "!curl -O http://owl.fish.washington.edu/halfshell/bu-alanine-wd/17-07-20/GO-GOslim.sorted"
   ]
  },
  {
   "cell_type": "code",
   "execution_count": 5,
   "metadata": {
    "scrolled": true
   },
   "outputs": [
    {
     "name": "stdout",
     "output_type": "stream",
     "text": [
      "  % Total    % Received % Xferd  Average Speed   Time    Time     Time  Current\n",
      "                                 Dload  Upload   Total   Spent    Left  Speed\n",
      "100  340M  100  340M    0     0  14.2M      0  0:00:23  0:00:23 --:--:-- 21.2M 0     0  13.8M      0  0:00:24  0:00:22  0:00:02 19.5M\n"
     ]
    }
   ],
   "source": [
    "!curl -O http://owl.fish.washington.edu/halfshell/bu-alanine-wd/17-07-20/uniprot-SP-GO.sorted"
   ]
  },
  {
   "cell_type": "code",
   "execution_count": 4,
   "metadata": {
    "scrolled": true
   },
   "outputs": [
    {
     "name": "stdout",
     "output_type": "stream",
     "text": [
      "091419-crab-blastx-output.csv     crab-Blastquery-GOslim.sorted\r\n",
      "1108-cbairdiblast-sprot.tab       crab-GOslim.csv\r\n",
      "Blastquery-GOslim.tab             crab-blastx-sp-test.tab\r\n",
      "Cb_v1_blastx_uniprot2864_imac.tab crab-blastx-sp.tab\r\n",
      "GO-GOslim.sorted                  dino-Blastquery-GOslim.sorted\r\n",
      "_blast-GO-unfolded-nos.sorted     hemat-Blastquery-GOslim.sorted\r\n",
      "_blast-GO-unfolded.sorted         hemat-blastx-sp.tab\r\n",
      "_blast-GO-unfolded.tab            master-qubit-sample.csv\r\n",
      "_blast-annot.tab                  master-qubit.xlsx\r\n",
      "_blast-sep.tab                    qubit_results-for-libraries.csv\r\n",
      "_blast-sep2.tab                   readme.md\r\n",
      "_blast-sep3.tab                   sample_table.csv\r\n",
      "_blast-sort.tab                   uniprot-SP-GO.sorted\r\n",
      "_intermediate.file\r\n"
     ]
    }
   ],
   "source": [
    "# check if files are in the directory\n",
    "!ls"
   ]
  },
  {
   "cell_type": "markdown",
   "metadata": {},
   "source": [
    "## Set blastout file as variable"
   ]
  },
  {
   "cell_type": "code",
   "execution_count": 5,
   "metadata": {
    "collapsed": true
   },
   "outputs": [],
   "source": [
    "blastout=\"hemat-blastx-sp.tab\""
   ]
  },
  {
   "cell_type": "code",
   "execution_count": 6,
   "metadata": {},
   "outputs": [
    {
     "name": "stdout",
     "output_type": "stream",
     "text": [
      "Trinity_protein\tsseqid.x\tevalue.x\r\n",
      "TRINITY_DN21464_c0_g1_i1\tsp|Q08D64|ABCB6_XENTR\t0\r\n"
     ]
    }
   ],
   "source": [
    "!head -2 $blastout"
   ]
  },
  {
   "cell_type": "code",
   "execution_count": 7,
   "metadata": {},
   "outputs": [
    {
     "name": "stdout",
     "output_type": "stream",
     "text": [
      "   39134 hemat-blastx-sp.tab\r\n"
     ]
    }
   ],
   "source": [
    "!wc -l $blastout"
   ]
  },
  {
   "cell_type": "code",
   "execution_count": 8,
   "metadata": {
    "collapsed": true
   },
   "outputs": [],
   "source": [
    "# convert pipes to tab\n",
    "!tr '|' '\\t' < $blastout \\\n",
    "> _blast-sep.tab"
   ]
  },
  {
   "cell_type": "code",
   "execution_count": 9,
   "metadata": {
    "scrolled": true
   },
   "outputs": [
    {
     "name": "stdout",
     "output_type": "stream",
     "text": [
      "Trinity_protein\tsseqid.x\tevalue.x\r\n",
      "TRINITY_DN21464_c0_g1_i1\tsp\tQ08D64\tABCB6_XENTR\t0\r\n"
     ]
    }
   ],
   "source": [
    "!head -2 _blast-sep.tab"
   ]
  },
  {
   "cell_type": "code",
   "execution_count": 10,
   "metadata": {
    "collapsed": true
   },
   "outputs": [],
   "source": [
    "!awk NR\\>1 _blast-sep.tab > _blast-sep2.tab\n",
    "#remove column names"
   ]
  },
  {
   "cell_type": "code",
   "execution_count": 11,
   "metadata": {},
   "outputs": [
    {
     "name": "stdout",
     "output_type": "stream",
     "text": [
      "TRINITY_DN21464_c0_g1_i1\tsp\tQ08D64\tABCB6_XENTR\t0\r\n",
      "TRINITY_DN21426_c0_g2_i1\tsp\tQ0JL73\tRH26_ORYSJ\t7.26e-75\r\n"
     ]
    }
   ],
   "source": [
    "!head -2 _blast-sep2.tab"
   ]
  },
  {
   "cell_type": "code",
   "execution_count": 13,
   "metadata": {
    "collapsed": true
   },
   "outputs": [],
   "source": [
    "#reducing number of columns and sorting \n",
    "!awk -v OFS='\\t' '{print $3, $1, $5}' <_blast-sep.tab | sort \\\n",
    "> _blast-sort.tab"
   ]
  },
  {
   "cell_type": "code",
   "execution_count": 14,
   "metadata": {},
   "outputs": [
    {
     "name": "stdout",
     "output_type": "stream",
     "text": [
      "A0A023PYK2\tTRINITY_DN15377_c0_g2_i3\t3.6\r\n",
      "A0A023PYK2\tTRINITY_DN15377_c0_g2_i4\t3.4\r\n"
     ]
    }
   ],
   "source": [
    "!head -2 _blast-sort.tab"
   ]
  },
  {
   "cell_type": "code",
   "execution_count": 15,
   "metadata": {
    "collapsed": true
   },
   "outputs": [],
   "source": [
    "#joining blast with uniprot annotation file and reducing to three columns UniprotID, Query, All GO terms\n",
    "!join -t $'\\t' \\\n",
    "_blast-sort.tab \\\n",
    "uniprot-SP-GO.sorted \\\n",
    "| cut -f1,2,14 \\\n",
    "> _blast-annot.tab"
   ]
  },
  {
   "cell_type": "code",
   "execution_count": 16,
   "metadata": {},
   "outputs": [
    {
     "name": "stdout",
     "output_type": "stream",
     "text": [
      "A0A023PYK2\tTRINITY_DN15377_c0_g2_i3\tGO:0016021\r\n",
      "A0A023PYK2\tTRINITY_DN15377_c0_g2_i4\tGO:0016021\r\n",
      "A0A096P2H6\tTRINITY_DN43628_c0_g1_i1\tGO:0034361\r\n",
      "A0A0G2JZ79\tTRINITY_DN27511_c0_g1_i1\tGO:0005634; GO:0005829; GO:0006351; GO:0006355; GO:0006364; GO:0006476; GO:0006915; GO:0007517; GO:0007569; GO:0010046; GO:0010460; GO:0010667; GO:0010976; GO:0014858; GO:0016605; GO:0017136; GO:0019899; GO:0030424; GO:0030426; GO:0031667; GO:0032720; GO:0035774; GO:0043392; GO:0043422; GO:0043524; GO:0045471; GO:0045722; GO:0046872; GO:0048511; GO:0060125; GO:0060548; GO:0070301; GO:0070403; GO:0070932; GO:0071236; GO:0071303; GO:0071407; GO:0090312; GO:0097755; GO:1900181; GO:1901984; GO:1902617; GO:1903427; GO:1904373; GO:1904638; GO:1904644; GO:1904646; GO:1904648; GO:2000270; GO:2000505; GO:2000614\r\n",
      "A0A0G2JZ79\tTRINITY_DN9448_c0_g3_i1\tGO:0005634; GO:0005829; GO:0006351; GO:0006355; GO:0006364; GO:0006476; GO:0006915; GO:0007517; GO:0007569; GO:0010046; GO:0010460; GO:0010667; GO:0010976; GO:0014858; GO:0016605; GO:0017136; GO:0019899; GO:0030424; GO:0030426; GO:0031667; GO:0032720; GO:0035774; GO:0043392; GO:0043422; GO:0043524; GO:0045471; GO:0045722; GO:0046872; GO:0048511; GO:0060125; GO:0060548; GO:0070301; GO:0070403; GO:0070932; GO:0071236; GO:0071303; GO:0071407; GO:0090312; GO:0097755; GO:1900181; GO:1901984; GO:1902617; GO:1903427; GO:1904373; GO:1904638; GO:1904644; GO:1904646; GO:1904648; GO:2000270; GO:2000505; GO:2000614\r\n",
      "A0A0G2JZ79\tTRINITY_DN9448_c0_g3_i1\tGO:0005634; GO:0005829; GO:0006351; GO:0006355; GO:0006364; GO:0006476; GO:0006915; GO:0007517; GO:0007569; GO:0010046; GO:0010460; GO:0010667; GO:0010976; GO:0014858; GO:0016605; GO:0017136; GO:0019899; GO:0030424; GO:0030426; GO:0031667; GO:0032720; GO:0035774; GO:0043392; GO:0043422; GO:0043524; GO:0045471; GO:0045722; GO:0046872; GO:0048511; GO:0060125; GO:0060548; GO:0070301; GO:0070403; GO:0070932; GO:0071236; GO:0071303; GO:0071407; GO:0090312; GO:0097755; GO:1900181; GO:1901984; GO:1902617; GO:1903427; GO:1904373; GO:1904638; GO:1904644; GO:1904646; GO:1904648; GO:2000270; GO:2000505; GO:2000614\r\n",
      "A0A0G2JZ79\tTRINITY_DN9448_c0_g3_i2\tGO:0005634; GO:0005829; GO:0006351; GO:0006355; GO:0006364; GO:0006476; GO:0006915; GO:0007517; GO:0007569; GO:0010046; GO:0010460; GO:0010667; GO:0010976; GO:0014858; GO:0016605; GO:0017136; GO:0019899; GO:0030424; GO:0030426; GO:0031667; GO:0032720; GO:0035774; GO:0043392; GO:0043422; GO:0043524; GO:0045471; GO:0045722; GO:0046872; GO:0048511; GO:0060125; GO:0060548; GO:0070301; GO:0070403; GO:0070932; GO:0071236; GO:0071303; GO:0071407; GO:0090312; GO:0097755; GO:1900181; GO:1901984; GO:1902617; GO:1903427; GO:1904373; GO:1904638; GO:1904644; GO:1904646; GO:1904648; GO:2000270; GO:2000505; GO:2000614\r\n",
      "A0A0G2JZ79\tTRINITY_DN9448_c0_g3_i2\tGO:0005634; GO:0005829; GO:0006351; GO:0006355; GO:0006364; GO:0006476; GO:0006915; GO:0007517; GO:0007569; GO:0010046; GO:0010460; GO:0010667; GO:0010976; GO:0014858; GO:0016605; GO:0017136; GO:0019899; GO:0030424; GO:0030426; GO:0031667; GO:0032720; GO:0035774; GO:0043392; GO:0043422; GO:0043524; GO:0045471; GO:0045722; GO:0046872; GO:0048511; GO:0060125; GO:0060548; GO:0070301; GO:0070403; GO:0070932; GO:0071236; GO:0071303; GO:0071407; GO:0090312; GO:0097755; GO:1900181; GO:1901984; GO:1902617; GO:1903427; GO:1904373; GO:1904638; GO:1904644; GO:1904646; GO:1904648; GO:2000270; GO:2000505; GO:2000614\r\n",
      "A0A0G2JZ79\tTRINITY_DN9448_c0_g3_i3\tGO:0005634; GO:0005829; GO:0006351; GO:0006355; GO:0006364; GO:0006476; GO:0006915; GO:0007517; GO:0007569; GO:0010046; GO:0010460; GO:0010667; GO:0010976; GO:0014858; GO:0016605; GO:0017136; GO:0019899; GO:0030424; GO:0030426; GO:0031667; GO:0032720; GO:0035774; GO:0043392; GO:0043422; GO:0043524; GO:0045471; GO:0045722; GO:0046872; GO:0048511; GO:0060125; GO:0060548; GO:0070301; GO:0070403; GO:0070932; GO:0071236; GO:0071303; GO:0071407; GO:0090312; GO:0097755; GO:1900181; GO:1901984; GO:1902617; GO:1903427; GO:1904373; GO:1904638; GO:1904644; GO:1904646; GO:1904648; GO:2000270; GO:2000505; GO:2000614\r\n",
      "A0A0G2JZ79\tTRINITY_DN9448_c0_g3_i3\tGO:0005634; GO:0005829; GO:0006351; GO:0006355; GO:0006364; GO:0006476; GO:0006915; GO:0007517; GO:0007569; GO:0010046; GO:0010460; GO:0010667; GO:0010976; GO:0014858; GO:0016605; GO:0017136; GO:0019899; GO:0030424; GO:0030426; GO:0031667; GO:0032720; GO:0035774; GO:0043392; GO:0043422; GO:0043524; GO:0045471; GO:0045722; GO:0046872; GO:0048511; GO:0060125; GO:0060548; GO:0070301; GO:0070403; GO:0070932; GO:0071236; GO:0071303; GO:0071407; GO:0090312; GO:0097755; GO:1900181; GO:1901984; GO:1902617; GO:1903427; GO:1904373; GO:1904638; GO:1904644; GO:1904646; GO:1904648; GO:2000270; GO:2000505; GO:2000614\r\n"
     ]
    }
   ],
   "source": [
    "!head _blast-annot.tab"
   ]
  },
  {
   "cell_type": "markdown",
   "metadata": {},
   "source": [
    "## The following is a script modified by Sam White"
   ]
  },
  {
   "cell_type": "code",
   "execution_count": 18,
   "metadata": {
    "collapsed": true
   },
   "outputs": [],
   "source": [
    "%%bash \n",
    "\n",
    "# This script was originally written to address a specific problem that Rhonda was having\n",
    "\n",
    "\n",
    "\n",
    "# input_file is the initial, \"problem\" file\n",
    "# file is an intermediate file that most of the program works upon\n",
    "# output_file is the final file produced by the script\n",
    "input_file=\"_blast-annot.tab\"\n",
    "file=\"_intermediate.file\"\n",
    "output_file=\"_blast-GO-unfolded.tab\"\n",
    "\n",
    "# sed command substitutes the \"; \" sequence to a tab and writes the new format to a new file.\n",
    "# This character sequence is how the GO terms are delimited in their field.\n",
    "sed $'s/; /\\t/g' \"$input_file\" > \"$file\"\n",
    "\n",
    "# Identify first field containing a GO term.\n",
    "# Search file with grep for \"GO:\" and pipe to awk.\n",
    "# Awk sets tab as field delimiter (-F'\\t'), runs a for loop that looks for \"GO:\" (~/GO:/), and then prints the field number).\n",
    "# Awk results are piped to sort, which sorts unique by number (-ug).\n",
    "# Sort results are piped to head to retrieve the lowest value (i.e. the top of the list; \"-n1\").\n",
    "begin_goterms=$(grep \"GO:\" \"$file\" | awk -F'\\t' '{for (i=1;i<=NF;i++) if($i ~/GO:/) print i}' | sort -ug | head -n1)\n",
    "\n",
    "# While loop to process each line of the input file.\n",
    "while read -r line\n",
    "\tdo\n",
    "\t\n",
    "\t# Send contents of the current line to awk.\n",
    "\t# Set the field separator as a tab (-F'\\t') and print the number of fields in that line.\n",
    "\t# Save the results of the echo/awk pipe (i.e. number of fields) to the variable \"max_field\".\n",
    "\tmax_field=$(echo \"$line\" | awk -F'\\t' '{print NF}')\n",
    "\n",
    "\t# Send contents of current line to cut.\n",
    "\t# Cut fields (i.e. retain those fields) 1-12.\n",
    "\t# Save the results of the echo/cut pipe (i.e. fields 1-12) to the variable \"fixed_fields\"\n",
    "\tfixed_fields=$(echo \"$line\" | cut -f1-2)\n",
    "\n",
    "\t# Since not all the lines contain the same number of fields (e.g. may not have GO terms),\n",
    "\t# evaluate the number of fields in each line to determine how to handle current line.\n",
    "\n",
    "\t# If the value in max_field is less than the field number where the GO terms begin,\n",
    "\t# then just print the current line (%s) followed by a newline (\\n).\n",
    "\tif (( \"$max_field\" < \"$begin_goterms\" ))\n",
    "\t\tthen printf \"%s\\n\" \"$line\"\n",
    "\t\t\telse\n",
    "\n",
    "\t\t\t# Send contents of current line (which contains GO terms) to cut.\n",
    "\t\t\t# Cut fields (i.e. retain those fields) 13 to whatever the last field is in the curent line.\n",
    "\t\t\t# Save the results of the echo/cut pipe (i.e. all the GO terms fields) to the variable \"goterms\".\n",
    "\t\t\tgoterms=$(echo \"$line\" | cut -f\"$begin_goterms\"-\"$max_field\")\n",
    "\t\t\t\n",
    "\t\t\t# Assign values in the variable \"goterms\" to a new indexed array (called \"array\"), \n",
    "\t\t\t# with tab delimiter (IFS=$'\\t')\n",
    "\t\t\tIFS=$'\\t' read -r -a array <<<\"$goterms\"\n",
    "\t\t\t\n",
    "\t\t\t# Iterate through each element of the array.\n",
    "\t\t\t# Print the first 12 fields (i.e. the fields stored in \"fixed_fields\") followed by a tab (%s\\t).\n",
    "\t\t\t# Print the current element in the array (i.e. the current GO term) followed by a new line (%s\\n).\n",
    "\t\t\tfor element in \"${!array[@]}\"\t\n",
    "\t\t\t\tdo printf \"%s\\t%s\\n\" \"$fixed_fields\" \"${array[$element]}\"\n",
    "\t\t\tdone\n",
    "\tfi\n",
    "\n",
    "# Send the input file into the while loop and send the output to a file named \"rhonda_fixed.txt\".\n",
    "done < \"$file\" > \"$output_file\""
   ]
  },
  {
   "cell_type": "code",
   "execution_count": 19,
   "metadata": {},
   "outputs": [
    {
     "name": "stdout",
     "output_type": "stream",
     "text": [
      "A0A023PYK2\tTRINITY_DN15377_c0_g2_i3\tGO:0016021\r\n",
      "A0A023PYK2\tTRINITY_DN15377_c0_g2_i4\tGO:0016021\r\n",
      "A0A096P2H6\tTRINITY_DN43628_c0_g1_i1\tGO:0034361\r\n",
      "A0A0G2JZ79\tTRINITY_DN27511_c0_g1_i1\tGO:0005634\r\n",
      "A0A0G2JZ79\tTRINITY_DN27511_c0_g1_i1\tGO:0005829\r\n",
      "A0A0G2JZ79\tTRINITY_DN27511_c0_g1_i1\tGO:0006351\r\n",
      "A0A0G2JZ79\tTRINITY_DN27511_c0_g1_i1\tGO:0006355\r\n",
      "A0A0G2JZ79\tTRINITY_DN27511_c0_g1_i1\tGO:0006364\r\n",
      "A0A0G2JZ79\tTRINITY_DN27511_c0_g1_i1\tGO:0006476\r\n",
      "A0A0G2JZ79\tTRINITY_DN27511_c0_g1_i1\tGO:0006915\r\n"
     ]
    }
   ],
   "source": [
    "!head _blast-GO-unfolded.tab"
   ]
  },
  {
   "cell_type": "code",
   "execution_count": 20,
   "metadata": {
    "collapsed": true
   },
   "outputs": [],
   "source": [
    "!awk '{print $3,\"\\t\" $2}' _blast-GO-unfolded.tab | gsort -V > _blast-GO-unfolded.sorted"
   ]
  },
  {
   "cell_type": "code",
   "execution_count": 21,
   "metadata": {},
   "outputs": [
    {
     "name": "stdout",
     "output_type": "stream",
     "text": [
      "GO:0000001 \tTRINITY_DN6278_c0_g1_i1\r\n",
      "GO:0000001 \tTRINITY_DN6278_c0_g1_i3\r\n",
      "GO:0000001 \tTRINITY_DN7944_c0_g1_i6\r\n",
      "GO:0000001 \tTRINITY_DN7944_c0_g1_i8\r\n",
      "GO:0000001 \tTRINITY_DN7944_c0_g1_i9\r\n",
      "GO:0000001 \tTRINITY_DN7944_c0_g1_i10\r\n",
      "GO:0000001 \tTRINITY_DN9526_c0_g2_i2\r\n",
      "GO:0000001 \tTRINITY_DN9526_c0_g2_i3\r\n",
      "GO:0000001 \tTRINITY_DN9526_c0_g2_i4\r\n",
      "GO:0000001 \tTRINITY_DN9526_c0_g2_i5\r\n"
     ]
    }
   ],
   "source": [
    "!head _blast-GO-unfolded.sorted"
   ]
  },
  {
   "cell_type": "code",
   "execution_count": 22,
   "metadata": {},
   "outputs": [
    {
     "name": "stdout",
     "output_type": "stream",
     "text": [
      "GO:0000001*\tTRINITY_DN6278_c0_g1_i1\r\n",
      "GO:0000001*\tTRINITY_DN6278_c0_g1_i3\r\n",
      "GO:0000001*\tTRINITY_DN7944_c0_g1_i6\r\n",
      "GO:0000001*\tTRINITY_DN7944_c0_g1_i8\r\n",
      "GO:0000001*\tTRINITY_DN7944_c0_g1_i9\r\n",
      "GO:0000001*\tTRINITY_DN7944_c0_g1_i10\r\n",
      "GO:0000001*\tTRINITY_DN9526_c0_g2_i2\r\n",
      "GO:0000001*\tTRINITY_DN9526_c0_g2_i3\r\n",
      "GO:0000001*\tTRINITY_DN9526_c0_g2_i4\r\n",
      "GO:0000001*\tTRINITY_DN9526_c0_g2_i5\r\n"
     ]
    }
   ],
   "source": [
    "!tr \" \" \"*\" < _blast-GO-unfolded.sorted | head"
   ]
  },
  {
   "cell_type": "code",
   "execution_count": 23,
   "metadata": {
    "collapsed": true
   },
   "outputs": [],
   "source": [
    "!sed 's/ //g' _blast-GO-unfolded.sorted > _blast-GO-unfolded-nos.sorted"
   ]
  },
  {
   "cell_type": "code",
   "execution_count": 24,
   "metadata": {},
   "outputs": [
    {
     "name": "stdout",
     "output_type": "stream",
     "text": [
      "GO:0000001\tTRINITY_DN6278_c0_g1_i1\r\n",
      "GO:0000001\tTRINITY_DN6278_c0_g1_i3\r\n",
      "GO:0000001\tTRINITY_DN7944_c0_g1_i6\r\n",
      "GO:0000001\tTRINITY_DN7944_c0_g1_i8\r\n",
      "GO:0000001\tTRINITY_DN7944_c0_g1_i9\r\n",
      "GO:0000001\tTRINITY_DN7944_c0_g1_i10\r\n",
      "GO:0000001\tTRINITY_DN9526_c0_g2_i2\r\n",
      "GO:0000001\tTRINITY_DN9526_c0_g2_i3\r\n",
      "GO:0000001\tTRINITY_DN9526_c0_g2_i4\r\n",
      "GO:0000001\tTRINITY_DN9526_c0_g2_i5\r\n"
     ]
    }
   ],
   "source": [
    "!head _blast-GO-unfolded-nos.sorted"
   ]
  },
  {
   "cell_type": "code",
   "execution_count": 25,
   "metadata": {},
   "outputs": [
    {
     "name": "stdout",
     "output_type": "stream",
     "text": [
      "GO:0000001\tTRINITY_DN6278_c0_g1_i1\r\n",
      "GO:0000001\tTRINITY_DN6278_c0_g1_i3\r\n",
      "GO:0000001\tTRINITY_DN7944_c0_g1_i6\r\n",
      "GO:0000001\tTRINITY_DN7944_c0_g1_i8\r\n",
      "GO:0000001\tTRINITY_DN7944_c0_g1_i9\r\n",
      "GO:0000001\tTRINITY_DN7944_c0_g1_i10\r\n",
      "GO:0000001\tTRINITY_DN9526_c0_g2_i2\r\n",
      "GO:0000001\tTRINITY_DN9526_c0_g2_i3\r\n",
      "GO:0000001\tTRINITY_DN9526_c0_g2_i4\r\n",
      "GO:0000001\tTRINITY_DN9526_c0_g2_i5\r\n"
     ]
    }
   ],
   "source": [
    "!tr \" \" \"*\" < _blast-GO-unfolded-nos.sorted | head"
   ]
  },
  {
   "cell_type": "code",
   "execution_count": 26,
   "metadata": {},
   "outputs": [
    {
     "name": "stdout",
     "output_type": "stream",
     "text": [
      "GO:0000001\tmitochondrion inheritance\tcell organization and biogenesis\tP\r\n",
      "GO:0000002\tmitochondrial genome maintenance\tcell organization and biogenesis\tP\r\n",
      "GO:0000003\treproduction\tother biological processes\tP\r\n",
      "GO:0000006\thigh affinity zinc uptake transmembrane transporter activity\ttransporter activity\tF\r\n",
      "GO:0000007\tlow-affinity zinc ion transmembrane transporter activity\ttransporter activity\tF\r\n",
      "GO:0000009\t\"alpha-1,6-mannosyltransferase activity\"\tother molecular function\tF\r\n",
      "GO:0000010\ttrans-hexaprenyltranstransferase activity\tother molecular function\tF\r\n",
      "GO:0000011\tvacuole inheritance\tcell organization and biogenesis\tP\r\n",
      "GO:0000012\tsingle strand break repair\tDNA metabolism\tP\r\n",
      "GO:0000012\tsingle strand break repair\tstress response\tP\r\n"
     ]
    }
   ],
   "source": [
    "!head GO-GOslim.sorted"
   ]
  },
  {
   "cell_type": "code",
   "execution_count": 27,
   "metadata": {},
   "outputs": [
    {
     "name": "stdout",
     "output_type": "stream",
     "text": [
      "GO:0000001\tTRINITY_DN6278_c0_g1_i1\tmitochondrion inheritance\tcell organization and biogenesis\tP\r\n",
      "GO:0000001\tTRINITY_DN6278_c0_g1_i3\tmitochondrion inheritance\tcell organization and biogenesis\tP\r\n",
      "GO:0000001\tTRINITY_DN7944_c0_g1_i6\tmitochondrion inheritance\tcell organization and biogenesis\tP\r\n",
      "GO:0000001\tTRINITY_DN7944_c0_g1_i8\tmitochondrion inheritance\tcell organization and biogenesis\tP\r\n",
      "GO:0000001\tTRINITY_DN7944_c0_g1_i9\tmitochondrion inheritance\tcell organization and biogenesis\tP\r\n",
      "GO:0000001\tTRINITY_DN7944_c0_g1_i10\tmitochondrion inheritance\tcell organization and biogenesis\tP\r\n",
      "GO:0000001\tTRINITY_DN9526_c0_g2_i2\tmitochondrion inheritance\tcell organization and biogenesis\tP\r\n",
      "GO:0000001\tTRINITY_DN9526_c0_g2_i3\tmitochondrion inheritance\tcell organization and biogenesis\tP\r\n",
      "GO:0000001\tTRINITY_DN9526_c0_g2_i4\tmitochondrion inheritance\tcell organization and biogenesis\tP\r\n",
      "GO:0000001\tTRINITY_DN9526_c0_g2_i5\tmitochondrion inheritance\tcell organization and biogenesis\tP\r\n",
      "join: stdout: Broken pipe\r\n"
     ]
    }
   ],
   "source": [
    "!join -1 1 -2 1 -t $'\\t' \\\n",
    "_blast-GO-unfolded-nos.sorted \\\n",
    "GO-GOslim.sorted | head "
   ]
  },
  {
   "cell_type": "code",
   "execution_count": 28,
   "metadata": {},
   "outputs": [
    {
     "name": "stdout",
     "output_type": "stream",
     "text": [
      "  237971 Blastquery-GOslim.tab\r\n"
     ]
    }
   ],
   "source": [
    "#joining files to get GOslim for each query (with duplicate GOslim / query removed)\n",
    "!join -1 1 -2 1 -t $'\\t' \\\n",
    "_blast-GO-unfolded-nos.sorted \\\n",
    "GO-GOslim.sorted \\\n",
    "| uniq | awk -F'\\t' -v OFS='\\t' '{print $2, $4, $5}' \\\n",
    "> Blastquery-GOslim.tab\n",
    "!wc -l Blastquery-GOslim.tab"
   ]
  },
  {
   "cell_type": "code",
   "execution_count": 29,
   "metadata": {},
   "outputs": [
    {
     "name": "stdout",
     "output_type": "stream",
     "text": [
      "TRINITY_DN6278_c0_g1_i1\tcell organization and biogenesis\tP\n",
      "TRINITY_DN6278_c0_g1_i3\tcell organization and biogenesis\tP\n",
      "TRINITY_DN7944_c0_g1_i6\tcell organization and biogenesis\tP\n",
      "TRINITY_DN7944_c0_g1_i8\tcell organization and biogenesis\tP\n",
      "TRINITY_DN7944_c0_g1_i9\tcell organization and biogenesis\tP\n",
      "TRINITY_DN7944_c0_g1_i10\tcell organization and biogenesis\tP\n",
      "TRINITY_DN9526_c0_g2_i2\tcell organization and biogenesis\tP\n",
      "TRINITY_DN9526_c0_g2_i3\tcell organization and biogenesis\tP\n",
      "TRINITY_DN9526_c0_g2_i4\tcell organization and biogenesis\tP\n",
      "TRINITY_DN9526_c0_g2_i5\tcell organization and biogenesis\tP\n",
      "  237971 Blastquery-GOslim.tab\n"
     ]
    }
   ],
   "source": [
    "!head Blastquery-GOslim.tab\n",
    "!wc -l Blastquery-GOslim.tab"
   ]
  },
  {
   "cell_type": "markdown",
   "metadata": {},
   "source": [
    "## Get P - query and slim"
   ]
  },
  {
   "cell_type": "code",
   "execution_count": 30,
   "metadata": {},
   "outputs": [
    {
     "name": "stdout",
     "output_type": "stream",
     "text": [
      "TRINITY_DN10004_c0_g1_i1\tnucleic acid binding activity\r\n",
      "TRINITY_DN10004_c0_g1_i1\tother molecular function\r\n",
      "TRINITY_DN10004_c0_g1_i1\tother molecular function\r\n",
      "TRINITY_DN10004_c0_g1_i3\tnucleic acid binding activity\r\n",
      "TRINITY_DN10004_c0_g1_i3\tother molecular function\r\n",
      "TRINITY_DN10004_c0_g1_i3\tother molecular function\r\n",
      "TRINITY_DN10004_c0_g1_i4\tnucleic acid binding activity\r\n",
      "TRINITY_DN10004_c0_g1_i4\tother molecular function\r\n",
      "TRINITY_DN10004_c0_g1_i4\tother molecular function\r\n",
      "TRINITY_DN10005_c0_g1_i1\tother molecular function\r\n"
     ]
    }
   ],
   "source": [
    "!awk -F\"\\t\" '$3 == \"F\" { print $1\"\\t\"$2 }' Blastquery-GOslim.tab | sort > hemat-Blastquery-GOslim.sorted\n",
    "!head hemat-Blastquery-GOslim.sorted"
   ]
  },
  {
   "cell_type": "code",
   "execution_count": null,
   "metadata": {
    "collapsed": true
   },
   "outputs": [],
   "source": []
  }
 ],
 "metadata": {
  "kernelspec": {
   "display_name": "Python [default]",
   "language": "python",
   "name": "python3"
  },
  "language_info": {
   "codemirror_mode": {
    "name": "ipython",
    "version": 3
   },
   "file_extension": ".py",
   "mimetype": "text/x-python",
   "name": "python",
   "nbconvert_exporter": "python",
   "pygments_lexer": "ipython3",
   "version": "3.5.3"
  }
 },
 "nbformat": 4,
 "nbformat_minor": 2
}
