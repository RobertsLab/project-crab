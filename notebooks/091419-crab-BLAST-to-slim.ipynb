{
 "cells": [
  {
   "cell_type": "markdown",
   "metadata": {},
   "source": [
    "# Jupyter notebook for taking the BLASTx output (crab BLAST output : `anti_join` of dinoflagellate BLAST output and uniprot BLAST output) to GOslim\n"
   ]
  },
  {
   "cell_type": "markdown",
   "metadata": {},
   "source": [
    "### from Steven's notebook: https://github.com/sr320/nb-2018/blob/master/C_virginica/83-blast-2-slim.ipynb"
   ]
  },
  {
   "cell_type": "markdown",
   "metadata": {},
   "source": [
    "### Need three files:\n",
    "1) blastout file in format -6 (https://raw.githubusercontent.com/RobertsLab/project-crab/master/analyses/091419-crab-blastx-output.csv)       \n",
    "2) Uniprot GO annotation file (340M) from : http://owl.fish.washington.edu/halfshell/bu-alanine-wd/17-07-20/uniprot-SP-GO.sorted       \n",
    "3) GOslim file from : http://owl.fish.washington.edu/halfshell/bu-alanine-wd/17-07-20/Go-GOslim.sorted"
   ]
  },
  {
   "cell_type": "code",
   "execution_count": 1,
   "metadata": {},
   "outputs": [
    {
     "data": {
      "text/plain": [
       "'/Users/graciecrandall/Documents/GitHub/project-crab/notebooks'"
      ]
     },
     "execution_count": 1,
     "metadata": {},
     "output_type": "execute_result"
    }
   ],
   "source": [
    "pwd"
   ]
  },
  {
   "cell_type": "code",
   "execution_count": 2,
   "metadata": {
    "collapsed": true
   },
   "outputs": [],
   "source": [
    "wd = \"/Users/graciecrandall/Documents/GitHub/project-crab/analyses/\""
   ]
  },
  {
   "cell_type": "code",
   "execution_count": 3,
   "metadata": {},
   "outputs": [
    {
     "name": "stdout",
     "output_type": "stream",
     "text": [
      "/Users/graciecrandall/Documents/GitHub/project-crab/analyses\n"
     ]
    }
   ],
   "source": [
    "cd {wd}"
   ]
  },
  {
   "cell_type": "code",
   "execution_count": 4,
   "metadata": {},
   "outputs": [
    {
     "name": "stdout",
     "output_type": "stream",
     "text": [
      "  % Total    % Received % Xferd  Average Speed   Time    Time     Time  Current\n",
      "                                 Dload  Upload   Total   Spent    Left  Speed\n",
      "100 2314k  100 2314k    0     0  2840k      0 --:--:-- --:--:-- --:--:-- 3024k\n"
     ]
    }
   ],
   "source": [
    "!curl -O http://owl.fish.washington.edu/halfshell/bu-alanine-wd/17-07-20/GO-GOslim.sorted"
   ]
  },
  {
   "cell_type": "code",
   "execution_count": 5,
   "metadata": {},
   "outputs": [
    {
     "name": "stdout",
     "output_type": "stream",
     "text": [
      "  % Total    % Received % Xferd  Average Speed   Time    Time     Time  Current\n",
      "                                 Dload  Upload   Total   Spent    Left  Speed\n",
      "100  340M  100  340M    0     0  9931k      0  0:00:35  0:00:35 --:--:-- 18.9M\n"
     ]
    }
   ],
   "source": [
    "!curl -O http://owl.fish.washington.edu/halfshell/bu-alanine-wd/17-07-20/uniprot-SP-GO.sorted "
   ]
  },
  {
   "cell_type": "code",
   "execution_count": 22,
   "metadata": {},
   "outputs": [
    {
     "name": "stdout",
     "output_type": "stream",
     "text": [
      "091419-crab-blastx-output.csv     _intermediate.file\r\n",
      "1108-cbairdiblast-sprot.tab       crab-GOslim.csv\r\n",
      "Blastquery-GOslim.tab             crab-blastx.tab\r\n",
      "Cb_v1_blastx_uniprot2864_imac.tab dino-Blastquery-GOslim.sorted\r\n",
      "GO-GOslim.sorted                  hemat-Blastquery-GOslim.sorted\r\n",
      "_blast-GO-unfolded-nos.sorted     hemat-blastx-output.tab\r\n",
      "_blast-GO-unfolded.sorted         master-qubit-sample.csv\r\n",
      "_blast-GO-unfolded.tab            master-qubit.xlsx\r\n",
      "_blast-annot.tab                  qubit_results-for-libraries.csv\r\n",
      "_blast-sep.tab                    readme.md\r\n",
      "_blast-sep2.tab                   sample_table.csv\r\n",
      "_blast-sep3.tab                   uniprot-SP-GO.sorted\r\n",
      "_blast-sort.tab\r\n"
     ]
    }
   ],
   "source": [
    "# check if files are in the directory\n",
    "!ls"
   ]
  },
  {
   "cell_type": "markdown",
   "metadata": {},
   "source": [
    "### Set blastout as a variable"
   ]
  },
  {
   "cell_type": "code",
   "execution_count": 23,
   "metadata": {
    "collapsed": true
   },
   "outputs": [],
   "source": [
    "blastout=\"091419-crab-blastx-output.csv\""
   ]
  },
  {
   "cell_type": "code",
   "execution_count": 24,
   "metadata": {},
   "outputs": [
    {
     "name": "stdout",
     "output_type": "stream",
     "text": [
      "﻿TRINITY_DN21442_c0_g1_i1,sp|Q6PEI7|PYRG1_DANRE,36,50,27,1,26,175,233,277,1.8,30.4\r",
      "\r\n",
      "TRINITY_DN21452_c0_g2_i1,sp|Q556N7|FSLM_DICDI,33.846,65,39,1,1124,942,230,294,1.8,35.8\r",
      "\r\n"
     ]
    }
   ],
   "source": [
    "!head -2 $blastout"
   ]
  },
  {
   "cell_type": "code",
   "execution_count": 25,
   "metadata": {},
   "outputs": [
    {
     "name": "stdout",
     "output_type": "stream",
     "text": [
      "  114378 091419-crab-blastx-output.csv\r\n"
     ]
    }
   ],
   "source": [
    "!wc -l $blastout"
   ]
  },
  {
   "cell_type": "code",
   "execution_count": 26,
   "metadata": {
    "collapsed": true
   },
   "outputs": [],
   "source": [
    "# convert pipes to tab\n",
    "!tr '|' '\\t' < $blastout \\\n",
    "> _blast-sep.tab"
   ]
  },
  {
   "cell_type": "code",
   "execution_count": 27,
   "metadata": {},
   "outputs": [
    {
     "name": "stdout",
     "output_type": "stream",
     "text": [
      "﻿TRINITY_DN21442_c0_g1_i1,sp\tQ6PEI7\tPYRG1_DANRE,36,50,27,1,26,175,233,277,1.8,30.4\r",
      "\r\n",
      "TRINITY_DN21452_c0_g2_i1,sp\tQ556N7\tFSLM_DICDI,33.846,65,39,1,1124,942,230,294,1.8,35.8\r",
      "\r\n"
     ]
    }
   ],
   "source": [
    "!head -2 _blast-sep.tab"
   ]
  },
  {
   "cell_type": "code",
   "execution_count": 28,
   "metadata": {},
   "outputs": [],
   "source": [
    "#convert commas to tab\n",
    "!tr ',' '\\t' < _blast-sep.tab \\\n",
    "> _blast-sep2.tab"
   ]
  },
  {
   "cell_type": "code",
   "execution_count": 29,
   "metadata": {},
   "outputs": [
    {
     "name": "stdout",
     "output_type": "stream",
     "text": [
      "﻿TRINITY_DN21442_c0_g1_i1\tsp\tQ6PEI7\tPYRG1_DANRE\t36\t50\t27\t1\t26\t175\t233\t277\t1.8\t30.4\r",
      "\r\n",
      "TRINITY_DN21452_c0_g2_i1\tsp\tQ556N7\tFSLM_DICDI\t33.846\t65\t39\t1\t1124\t942\t230\t294\t1.8\t35.8\r",
      "\r\n"
     ]
    }
   ],
   "source": [
    "!head -2 _blast-sep2.tab"
   ]
  },
  {
   "cell_type": "code",
   "execution_count": 31,
   "metadata": {},
   "outputs": [],
   "source": [
    "#reducing number of columns and sorting \n",
    "!awk -v OFS='\\t' '{print $3, $1, $13}' <_blast-sep2.tab | sort \\\n",
    "> _blast-sort.tab"
   ]
  },
  {
   "cell_type": "code",
   "execution_count": 32,
   "metadata": {},
   "outputs": [
    {
     "name": "stdout",
     "output_type": "stream",
     "text": [
      "A0A023PXK7\tTRINITY_DN19072_c0_g3_i2\t4\r\n",
      "A0A023PXK7\tTRINITY_DN8794_c0_g2_i1\t2.3\r\n"
     ]
    }
   ],
   "source": [
    "!head -2 _blast-sort.tab"
   ]
  },
  {
   "cell_type": "code",
   "execution_count": 33,
   "metadata": {
    "collapsed": true
   },
   "outputs": [],
   "source": [
    "#joining blast with uniprot annotation file and reducing to three columns UniprotID, Query, All GO terms\n",
    "!join -t $'\\t' \\\n",
    "_blast-sort.tab \\\n",
    "uniprot-SP-GO.sorted \\\n",
    "| cut -f1,2,14 \\\n",
    "> _blast-annot.tab"
   ]
  },
  {
   "cell_type": "code",
   "execution_count": 34,
   "metadata": {},
   "outputs": [
    {
     "name": "stdout",
     "output_type": "stream",
     "text": [
      "A0A023PXK7\tTRINITY_DN19072_c0_g3_i2\tGO:0016021\r\n",
      "A0A023PXK7\tTRINITY_DN8794_c0_g2_i1\tGO:0016021\r\n",
      "A0A023PYE4\tTRINITY_DN24825_c0_g1_i1\tGO:0016021\r\n",
      "A0A023PYH8\tTRINITY_DN40894_c0_g1_i1\t\r\n",
      "A0A023PYJ0\tTRINITY_DN14110_c0_g1_i2\tGO:0016021\r\n",
      "A0A023PYJ7\tTRINITY_DN6907_c0_g3_i2\tGO:0016021\r\n",
      "A0A023PYJ7\tTRINITY_DN6907_c0_g3_i3\tGO:0016021\r\n",
      "A0A023PYK2\tTRINITY_DN15377_c0_g2_i2\tGO:0016021\r\n",
      "A0A023PZ99\tTRINITY_DN25724_c0_g2_i1\tGO:0016021\r\n",
      "A0A023PZA4\tTRINITY_DN11962_c0_g1_i2\t\r\n"
     ]
    }
   ],
   "source": [
    "!head _blast-annot.tab"
   ]
  },
  {
   "cell_type": "markdown",
   "metadata": {},
   "source": [
    "### The following is a script modified by Sam White"
   ]
  },
  {
   "cell_type": "code",
   "execution_count": 35,
   "metadata": {},
   "outputs": [
    {
     "name": "stdout",
     "output_type": "stream",
     "text": [
      "Process is interrupted.\n"
     ]
    }
   ],
   "source": [
    "%%bash \n",
    "\n",
    "# This script was originally written to address a specific problem that Rhonda was having\n",
    "\n",
    "\n",
    "\n",
    "# input_file is the initial, \"problem\" file\n",
    "# file is an intermediate file that most of the program works upon\n",
    "# output_file is the final file produced by the script\n",
    "input_file=\"_blast-annot.tab\"\n",
    "file=\"_intermediate.file\"\n",
    "output_file=\"_blast-GO-unfolded.tab\"\n",
    "\n",
    "# sed command substitutes the \"; \" sequence to a tab and writes the new format to a new file.\n",
    "# This character sequence is how the GO terms are delimited in their field.\n",
    "sed $'s/; /\\t/g' \"$input_file\" > \"$file\"\n",
    "\n",
    "# Identify first field containing a GO term.\n",
    "# Search file with grep for \"GO:\" and pipe to awk.\n",
    "# Awk sets tab as field delimiter (-F'\\t'), runs a for loop that looks for \"GO:\" (~/GO:/), and then prints the field number).\n",
    "# Awk results are piped to sort, which sorts unique by number (-ug).\n",
    "# Sort results are piped to head to retrieve the lowest value (i.e. the top of the list; \"-n1\").\n",
    "begin_goterms=$(grep \"GO:\" \"$file\" | awk -F'\\t' '{for (i=1;i<=NF;i++) if($i ~/GO:/) print i}' | sort -ug | head -n1)\n",
    "\n",
    "# While loop to process each line of the input file.\n",
    "while read -r line\n",
    "\tdo\n",
    "\t\n",
    "\t# Send contents of the current line to awk.\n",
    "\t# Set the field separator as a tab (-F'\\t') and print the number of fields in that line.\n",
    "\t# Save the results of the echo/awk pipe (i.e. number of fields) to the variable \"max_field\".\n",
    "\tmax_field=$(echo \"$line\" | awk -F'\\t' '{print NF}')\n",
    "\n",
    "\t# Send contents of current line to cut.\n",
    "\t# Cut fields (i.e. retain those fields) 1-12.\n",
    "\t# Save the results of the echo/cut pipe (i.e. fields 1-12) to the variable \"fixed_fields\"\n",
    "\tfixed_fields=$(echo \"$line\" | cut -f1-2)\n",
    "\n",
    "\t# Since not all the lines contain the same number of fields (e.g. may not have GO terms),\n",
    "\t# evaluate the number of fields in each line to determine how to handle current line.\n",
    "\n",
    "\t# If the value in max_field is less than the field number where the GO terms begin,\n",
    "\t# then just print the current line (%s) followed by a newline (\\n).\n",
    "\tif (( \"$max_field\" < \"$begin_goterms\" ))\n",
    "\t\tthen printf \"%s\\n\" \"$line\"\n",
    "\t\t\telse\n",
    "\n",
    "\t\t\t# Send contents of current line (which contains GO terms) to cut.\n",
    "\t\t\t# Cut fields (i.e. retain those fields) 13 to whatever the last field is in the curent line.\n",
    "\t\t\t# Save the results of the echo/cut pipe (i.e. all the GO terms fields) to the variable \"goterms\".\n",
    "\t\t\tgoterms=$(echo \"$line\" | cut -f\"$begin_goterms\"-\"$max_field\")\n",
    "\t\t\t\n",
    "\t\t\t# Assign values in the variable \"goterms\" to a new indexed array (called \"array\"), \n",
    "\t\t\t# with tab delimiter (IFS=$'\\t')\n",
    "\t\t\tIFS=$'\\t' read -r -a array <<<\"$goterms\"\n",
    "\t\t\t\n",
    "\t\t\t# Iterate through each element of the array.\n",
    "\t\t\t# Print the first 12 fields (i.e. the fields stored in \"fixed_fields\") followed by a tab (%s\\t).\n",
    "\t\t\t# Print the current element in the array (i.e. the current GO term) followed by a new line (%s\\n).\n",
    "\t\t\tfor element in \"${!array[@]}\"\t\n",
    "\t\t\t\tdo printf \"%s\\t%s\\n\" \"$fixed_fields\" \"${array[$element]}\"\n",
    "\t\t\tdone\n",
    "\tfi\n",
    "\n",
    "# Send the input file into the while loop and send the output to a file named \"rhonda_fixed.txt\".\n",
    "done < \"$file\" > \"$output_file\""
   ]
  },
  {
   "cell_type": "code",
   "execution_count": 36,
   "metadata": {},
   "outputs": [
    {
     "name": "stdout",
     "output_type": "stream",
     "text": [
      "A0A023PXK7\tTRINITY_DN19072_c0_g3_i2\tGO:0016021\r\n",
      "A0A023PXK7\tTRINITY_DN8794_c0_g2_i1\tGO:0016021\r\n",
      "A0A023PYE4\tTRINITY_DN24825_c0_g1_i1\tGO:0016021\r\n",
      "A0A023PYH8\tTRINITY_DN40894_c0_g1_i1\r\n",
      "A0A023PYJ0\tTRINITY_DN14110_c0_g1_i2\tGO:0016021\r\n",
      "A0A023PYJ7\tTRINITY_DN6907_c0_g3_i2\tGO:0016021\r\n",
      "A0A023PYJ7\tTRINITY_DN6907_c0_g3_i3\tGO:0016021\r\n",
      "A0A023PYK2\tTRINITY_DN15377_c0_g2_i2\tGO:0016021\r\n",
      "A0A023PZ99\tTRINITY_DN25724_c0_g2_i1\tGO:0016021\r\n",
      "A0A023PZA4\tTRINITY_DN11962_c0_g1_i2\r\n"
     ]
    }
   ],
   "source": [
    "!head _blast-GO-unfolded.tab"
   ]
  },
  {
   "cell_type": "code",
   "execution_count": 37,
   "metadata": {
    "collapsed": true
   },
   "outputs": [],
   "source": [
    "!awk '{print $3,\"\\t\" $2}' _blast-GO-unfolded.tab | gsort -V > _blast-GO-unfolded.sorted"
   ]
  },
  {
   "cell_type": "code",
   "execution_count": 38,
   "metadata": {},
   "outputs": [
    {
     "name": "stdout",
     "output_type": "stream",
     "text": [
      "GO:0000001 \tTRINITY_DN24641_c0_g1_i1\r\n",
      "GO:0000001 \tTRINITY_DN44029_c0_g1_i1\r\n",
      "GO:0000002 \tTRINITY_DN654_c0_g1_i3\r\n",
      "GO:0000002 \tTRINITY_DN7877_c0_g2_i2\r\n",
      "GO:0000002 \tTRINITY_DN10626_c0_g3_i1\r\n",
      "GO:0000002 \tTRINITY_DN10677_c0_g1_i4\r\n",
      "GO:0000002 \tTRINITY_DN14406_c0_g3_i1\r\n",
      "GO:0000002 \tTRINITY_DN15295_c0_g2_i1\r\n",
      "GO:0000002 \tTRINITY_DN15295_c0_g2_i10\r\n",
      "GO:0000002 \tTRINITY_DN15473_c1_g2_i1\r\n"
     ]
    }
   ],
   "source": [
    "!head _blast-GO-unfolded.sorted"
   ]
  },
  {
   "cell_type": "code",
   "execution_count": 39,
   "metadata": {},
   "outputs": [
    {
     "name": "stdout",
     "output_type": "stream",
     "text": [
      "GO:0000001*\tTRINITY_DN24641_c0_g1_i1\r\n",
      "GO:0000001*\tTRINITY_DN44029_c0_g1_i1\r\n",
      "GO:0000002*\tTRINITY_DN654_c0_g1_i3\r\n",
      "GO:0000002*\tTRINITY_DN7877_c0_g2_i2\r\n",
      "GO:0000002*\tTRINITY_DN10626_c0_g3_i1\r\n",
      "GO:0000002*\tTRINITY_DN10677_c0_g1_i4\r\n",
      "GO:0000002*\tTRINITY_DN14406_c0_g3_i1\r\n",
      "GO:0000002*\tTRINITY_DN15295_c0_g2_i1\r\n",
      "GO:0000002*\tTRINITY_DN15295_c0_g2_i10\r\n",
      "GO:0000002*\tTRINITY_DN15473_c1_g2_i1\r\n"
     ]
    }
   ],
   "source": [
    "!tr \" \" \"*\" < _blast-GO-unfolded.sorted | head"
   ]
  },
  {
   "cell_type": "code",
   "execution_count": 40,
   "metadata": {
    "collapsed": true
   },
   "outputs": [],
   "source": [
    "!sed 's/ //g' _blast-GO-unfolded.sorted > _blast-GO-unfolded-nos.sorted"
   ]
  },
  {
   "cell_type": "code",
   "execution_count": 41,
   "metadata": {},
   "outputs": [
    {
     "name": "stdout",
     "output_type": "stream",
     "text": [
      "GO:0000001\tTRINITY_DN24641_c0_g1_i1\r\n",
      "GO:0000001\tTRINITY_DN44029_c0_g1_i1\r\n",
      "GO:0000002\tTRINITY_DN654_c0_g1_i3\r\n",
      "GO:0000002\tTRINITY_DN7877_c0_g2_i2\r\n",
      "GO:0000002\tTRINITY_DN10626_c0_g3_i1\r\n",
      "GO:0000002\tTRINITY_DN10677_c0_g1_i4\r\n",
      "GO:0000002\tTRINITY_DN14406_c0_g3_i1\r\n",
      "GO:0000002\tTRINITY_DN15295_c0_g2_i1\r\n",
      "GO:0000002\tTRINITY_DN15295_c0_g2_i10\r\n",
      "GO:0000002\tTRINITY_DN15473_c1_g2_i1\r\n"
     ]
    }
   ],
   "source": [
    "!head _blast-GO-unfolded-nos.sorted"
   ]
  },
  {
   "cell_type": "code",
   "execution_count": 42,
   "metadata": {},
   "outputs": [
    {
     "name": "stdout",
     "output_type": "stream",
     "text": [
      "GO:0000001\tTRINITY_DN24641_c0_g1_i1\r\n",
      "GO:0000001\tTRINITY_DN44029_c0_g1_i1\r\n",
      "GO:0000002\tTRINITY_DN654_c0_g1_i3\r\n",
      "GO:0000002\tTRINITY_DN7877_c0_g2_i2\r\n",
      "GO:0000002\tTRINITY_DN10626_c0_g3_i1\r\n",
      "GO:0000002\tTRINITY_DN10677_c0_g1_i4\r\n",
      "GO:0000002\tTRINITY_DN14406_c0_g3_i1\r\n",
      "GO:0000002\tTRINITY_DN15295_c0_g2_i1\r\n",
      "GO:0000002\tTRINITY_DN15295_c0_g2_i10\r\n",
      "GO:0000002\tTRINITY_DN15473_c1_g2_i1\r\n"
     ]
    }
   ],
   "source": [
    "!tr \" \" \"*\" < _blast-GO-unfolded-nos.sorted | head"
   ]
  },
  {
   "cell_type": "code",
   "execution_count": 43,
   "metadata": {},
   "outputs": [
    {
     "name": "stdout",
     "output_type": "stream",
     "text": [
      "GO:0000001\tmitochondrion inheritance\tcell organization and biogenesis\tP\r\n",
      "GO:0000002\tmitochondrial genome maintenance\tcell organization and biogenesis\tP\r\n",
      "GO:0000003\treproduction\tother biological processes\tP\r\n",
      "GO:0000006\thigh affinity zinc uptake transmembrane transporter activity\ttransporter activity\tF\r\n",
      "GO:0000007\tlow-affinity zinc ion transmembrane transporter activity\ttransporter activity\tF\r\n",
      "GO:0000009\t\"alpha-1,6-mannosyltransferase activity\"\tother molecular function\tF\r\n",
      "GO:0000010\ttrans-hexaprenyltranstransferase activity\tother molecular function\tF\r\n",
      "GO:0000011\tvacuole inheritance\tcell organization and biogenesis\tP\r\n",
      "GO:0000012\tsingle strand break repair\tDNA metabolism\tP\r\n",
      "GO:0000012\tsingle strand break repair\tstress response\tP\r\n"
     ]
    }
   ],
   "source": [
    "!head GO-GOslim.sorted"
   ]
  },
  {
   "cell_type": "code",
   "execution_count": 44,
   "metadata": {},
   "outputs": [
    {
     "name": "stdout",
     "output_type": "stream",
     "text": [
      "GO:0000001\tTRINITY_DN24641_c0_g1_i1\tmitochondrion inheritance\tcell organization and biogenesis\tP\r\n",
      "GO:0000001\tTRINITY_DN44029_c0_g1_i1\tmitochondrion inheritance\tcell organization and biogenesis\tP\r\n",
      "GO:0000002\tTRINITY_DN654_c0_g1_i3\tmitochondrial genome maintenance\tcell organization and biogenesis\tP\r\n",
      "GO:0000002\tTRINITY_DN7877_c0_g2_i2\tmitochondrial genome maintenance\tcell organization and biogenesis\tP\r\n",
      "GO:0000002\tTRINITY_DN10626_c0_g3_i1\tmitochondrial genome maintenance\tcell organization and biogenesis\tP\r\n",
      "GO:0000002\tTRINITY_DN10677_c0_g1_i4\tmitochondrial genome maintenance\tcell organization and biogenesis\tP\r\n",
      "GO:0000002\tTRINITY_DN14406_c0_g3_i1\tmitochondrial genome maintenance\tcell organization and biogenesis\tP\r\n",
      "GO:0000002\tTRINITY_DN15295_c0_g2_i1\tmitochondrial genome maintenance\tcell organization and biogenesis\tP\r\n",
      "GO:0000002\tTRINITY_DN15295_c0_g2_i10\tmitochondrial genome maintenance\tcell organization and biogenesis\tP\r\n",
      "GO:0000002\tTRINITY_DN15473_c1_g2_i1\tmitochondrial genome maintenance\tcell organization and biogenesis\tP\r\n",
      "join: stdout: Broken pipe\r\n"
     ]
    }
   ],
   "source": [
    "!join -1 1 -2 1 -t $'\\t' \\\n",
    "_blast-GO-unfolded-nos.sorted \\\n",
    "GO-GOslim.sorted | head "
   ]
  },
  {
   "cell_type": "code",
   "execution_count": 45,
   "metadata": {},
   "outputs": [
    {
     "name": "stdout",
     "output_type": "stream",
     "text": [
      "   82623 Blastquery-GOslim.tab\r\n"
     ]
    }
   ],
   "source": [
    "#joining files to get GOslim for each query (with duplicate GOslim / query removed)\n",
    "!join -1 1 -2 1 -t $'\\t' \\\n",
    "_blast-GO-unfolded-nos.sorted \\\n",
    "GO-GOslim.sorted \\\n",
    "| uniq | awk -F'\\t' -v OFS='\\t' '{print $2, $4, $5}' \\\n",
    "> Blastquery-GOslim.tab\n",
    "!wc -l Blastquery-GOslim.tab"
   ]
  },
  {
   "cell_type": "code",
   "execution_count": 46,
   "metadata": {},
   "outputs": [
    {
     "name": "stdout",
     "output_type": "stream",
     "text": [
      "TRINITY_DN24641_c0_g1_i1\tcell organization and biogenesis\tP\n",
      "TRINITY_DN44029_c0_g1_i1\tcell organization and biogenesis\tP\n",
      "TRINITY_DN654_c0_g1_i3\tcell organization and biogenesis\tP\n",
      "TRINITY_DN7877_c0_g2_i2\tcell organization and biogenesis\tP\n",
      "TRINITY_DN10626_c0_g3_i1\tcell organization and biogenesis\tP\n",
      "TRINITY_DN10677_c0_g1_i4\tcell organization and biogenesis\tP\n",
      "TRINITY_DN14406_c0_g3_i1\tcell organization and biogenesis\tP\n",
      "TRINITY_DN15295_c0_g2_i1\tcell organization and biogenesis\tP\n",
      "TRINITY_DN15295_c0_g2_i10\tcell organization and biogenesis\tP\n",
      "TRINITY_DN15473_c1_g2_i1\tcell organization and biogenesis\tP\n",
      "   82623 Blastquery-GOslim.tab\n"
     ]
    }
   ],
   "source": [
    "!head Blastquery-GOslim.tab\n",
    "!wc -l Blastquery-GOslim.tab"
   ]
  },
  {
   "cell_type": "markdown",
   "metadata": {},
   "source": [
    "### Get -P query slim"
   ]
  },
  {
   "cell_type": "code",
   "execution_count": 48,
   "metadata": {},
   "outputs": [
    {
     "name": "stdout",
     "output_type": "stream",
     "text": [
      "TRINITY_DN1000_c0_g1_i4\tother molecular function\r\n",
      "TRINITY_DN10014_c0_g1_i1\tother molecular function\r\n",
      "TRINITY_DN10014_c0_g1_i1\tother molecular function\r\n",
      "TRINITY_DN10015_c0_g1_i1\tnucleic acid binding activity\r\n",
      "TRINITY_DN10027_c1_g1_i1\tother molecular function\r\n",
      "TRINITY_DN10027_c1_g1_i1\tother molecular function\r\n",
      "TRINITY_DN10027_c1_g1_i1\tother molecular function\r\n",
      "TRINITY_DN10031_c0_g2_i1\tother molecular function\r\n",
      "TRINITY_DN10035_c0_g1_i2\tkinase activity\r\n",
      "TRINITY_DN10035_c0_g1_i2\tother molecular function\r\n"
     ]
    }
   ],
   "source": [
    "!awk -F\"\\t\" '$3 == \"F\" { print $1\"\\t\"$2 }' Blastquery-GOslim.tab | sort > crab-Blastquery-GOslim.sorted\n",
    "!head crab-Blastquery-GOslim.sorted"
   ]
  },
  {
   "cell_type": "code",
   "execution_count": null,
   "metadata": {
    "collapsed": true
   },
   "outputs": [],
   "source": []
  }
 ],
 "metadata": {
  "kernelspec": {
   "display_name": "Python [default]",
   "language": "python",
   "name": "python3"
  },
  "language_info": {
   "codemirror_mode": {
    "name": "ipython",
    "version": 3
   },
   "file_extension": ".py",
   "mimetype": "text/x-python",
   "name": "python",
   "nbconvert_exporter": "python",
   "pygments_lexer": "ipython3",
   "version": "3.5.3"
  }
 },
 "nbformat": 4,
 "nbformat_minor": 2
}
