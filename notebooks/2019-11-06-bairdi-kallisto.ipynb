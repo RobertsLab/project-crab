{
 "cells": [
  {
   "cell_type": "markdown",
   "metadata": {},
   "source": [
    "# Differential Gene Expression -- _C. bairdi_ "
   ]
  },
  {
   "cell_type": "markdown",
   "metadata": {},
   "source": [
    "### kallisto : https://pachterlab.github.io/kallisto/about\n",
    "#### from: https://github.com/sr320/course-fish546-2018/blob/master/jupyter-nbs/005-RNA-seq.ipynb"
   ]
  },
  {
   "cell_type": "code",
   "execution_count": 1,
   "metadata": {
    "collapsed": false
   },
   "outputs": [
    {
     "name": "stdout",
     "output_type": "stream",
     "text": [
      "kallisto 0.46.1\r\n",
      "\r\n",
      "Usage: kallisto <CMD> [arguments] ..\r\n",
      "\r\n",
      "Where <CMD> can be one of:\r\n",
      "\r\n",
      "    index         Builds a kallisto index \r\n",
      "    quant         Runs the quantification algorithm \r\n",
      "    bus           Generate BUS files for single-cell data \r\n",
      "    pseudo        Runs the pseudoalignment step \r\n",
      "    merge         Merges several batch runs \r\n",
      "    h5dump        Converts HDF5-formatted results to plaintext\r\n",
      "    inspect       Inspects and gives information about an index\r\n",
      "    version       Prints version information\r\n",
      "    cite          Prints citation information\r\n",
      "\r\n",
      "Running kallisto <CMD> without arguments prints usage information for <CMD>\r\n",
      "\r\n"
     ]
    }
   ],
   "source": [
    "!/Applications/bioinfo/kallisto/kallisto"
   ]
  },
  {
   "cell_type": "code",
   "execution_count": 3,
   "metadata": {
    "collapsed": false
   },
   "outputs": [
    {
     "name": "stdout",
     "output_type": "stream",
     "text": [
      "091519-prep-for-revigo.Rmd  \u001b[34mnotebooks\u001b[m\u001b[m/\r\n",
      "README.md                   project-crab.Rproj\r\n",
      "\u001b[34manalyses\u001b[m\u001b[m/                   \u001b[34mprotocols\u001b[m\u001b[m/\r\n",
      "\u001b[34mdata\u001b[m\u001b[m/                       \u001b[34mscripts\u001b[m\u001b[m/\r\n"
     ]
    }
   ],
   "source": [
    "ls ../"
   ]
  },
  {
   "cell_type": "code",
   "execution_count": 12,
   "metadata": {
    "collapsed": false,
    "scrolled": true
   },
   "outputs": [
    {
     "name": "stdout",
     "output_type": "stream",
     "text": [
      "  % Total    % Received % Xferd  Average Speed   Time    Time     Time  Current\n",
      "                                 Dload  Upload   Total   Spent    Left  Speed\n",
      "100  148M  100  148M    0     0  24.9M      0  0:00:05  0:00:05 --:--:-- 31.8M\n"
     ]
    }
   ],
   "source": [
    "# curl first bairdi transcriptome into data\n",
    "!curl http://owl.fish.washington.edu/scaphapoda/grace/Crab-project/fasta_files/Trinity.fasta \\\n",
    "    -o ../data/Cbairdi_transcriptome-1.fa"
   ]
  },
  {
   "cell_type": "code",
   "execution_count": 11,
   "metadata": {
    "collapsed": false
   },
   "outputs": [
    {
     "name": "stdout",
     "output_type": "stream",
     "text": [
      "20180522-all-crabs-hemo.csv\n",
      "20180522-qPCR-all-runs.csv\n",
      "20180817-Qubit-results.csv\n",
      "304428_S1_L001_R1_001.fastq.gz\n",
      "304428_S1_L001_R2_001.fastq.gz\n",
      "304428_S1_L002_R1_001.fastq.gz\n",
      "304428_S1_L002_R2_001.fastq.gz\n",
      "329774_S1_L001_R1_001.fastq.gz\n",
      "329774_S1_L001_R2_001.fastq.gz\n",
      "329774_S1_L002_R1_001.fastq.gz\n",
      "329774_S1_L002_R2_001.fastq.gz\n",
      "329775_S2_L001_R1_001.fastq.gz\n",
      "329775_S2_L001_R2_001.fastq.gz\n",
      "329775_S2_L002_R1_001.fastq.gz\n",
      "329775_S2_L002_R2_001.fastq.gz\n",
      "329776_S3_L001_R1_001.fastq.gz\n",
      "329776_S3_L001_R2_001.fastq.gz\n",
      "329776_S3_L002_R1_001.fastq.gz\n",
      "329776_S3_L002_R2_001.fastq.gz\n",
      "329777_S4_L001_R1_001.fastq.gz\n",
      "329777_S4_L001_R2_001.fastq.gz\n",
      "329777_S4_L002_R1_001.fastq.gz\n",
      "329777_S4_L002_R2_001.fastq.gz\n",
      "Excel-data-from-Pam\n",
      "Qubit_data\n",
      "Temperature\n",
      "index.html.tmp\n",
      "index.html.tmp.1\n",
      "index.html.tmp.2\n",
      "index.html.tmp.3\n",
      "index.html.tmp.4\n",
      "readme.md\n"
     ]
    }
   ],
   "source": [
    "%%bash\n",
    "cd ../data/\n",
    "wget --quiet --recursive --no-parent --no-directories --accept \"*.gz\" \"http://owl.fish.washington.edu/nightingales/C_bairdi/\"\n",
    "ls"
   ]
  },
  {
   "cell_type": "code",
   "execution_count": 13,
   "metadata": {
    "collapsed": false
   },
   "outputs": [
    {
     "name": "stdout",
     "output_type": "stream",
     "text": [
      "20180522-all-crabs-hemo.csv     329776_S3_L002_R1_001.fastq.gz\r\n",
      "20180522-qPCR-all-runs.csv      329776_S3_L002_R2_001.fastq.gz\r\n",
      "20180817-Qubit-results.csv      329777_S4_L001_R1_001.fastq.gz\r\n",
      "304428_S1_L001_R1_001.fastq.gz  329777_S4_L001_R2_001.fastq.gz\r\n",
      "304428_S1_L001_R2_001.fastq.gz  329777_S4_L002_R1_001.fastq.gz\r\n",
      "304428_S1_L002_R1_001.fastq.gz  329777_S4_L002_R2_001.fastq.gz\r\n",
      "304428_S1_L002_R2_001.fastq.gz  Cbairdi_transcriptome-1.fa\r\n",
      "329774_S1_L001_R1_001.fastq.gz  \u001b[34mExcel-data-from-Pam\u001b[m\u001b[m/\r\n",
      "329774_S1_L001_R2_001.fastq.gz  \u001b[34mQubit_data\u001b[m\u001b[m/\r\n",
      "329774_S1_L002_R1_001.fastq.gz  \u001b[34mTemperature\u001b[m\u001b[m/\r\n",
      "329774_S1_L002_R2_001.fastq.gz  index.html.tmp\r\n",
      "329775_S2_L001_R1_001.fastq.gz  index.html.tmp.1\r\n",
      "329775_S2_L001_R2_001.fastq.gz  index.html.tmp.2\r\n",
      "329775_S2_L002_R1_001.fastq.gz  index.html.tmp.3\r\n",
      "329775_S2_L002_R2_001.fastq.gz  index.html.tmp.4\r\n",
      "329776_S3_L001_R1_001.fastq.gz  readme.md\r\n",
      "329776_S3_L001_R2_001.fastq.gz\r\n"
     ]
    }
   ],
   "source": [
    "ls ../data/"
   ]
  },
  {
   "cell_type": "code",
   "execution_count": 14,
   "metadata": {
    "collapsed": false,
    "scrolled": true
   },
   "outputs": [
    {
     "name": "stdout",
     "output_type": "stream",
     "text": [
      "\n",
      "[build] loading fasta file ../data/Cbairdi_transcriptome-1.fa\n",
      "[build] k-mer length: 31\n",
      "[build] warning: clipped off poly-A tail (longer than 10)\n",
      "        from 3503 target sequences\n",
      "[build] counting k-mers ... done.\n",
      "[build] building target de Bruijn graph ...  done \n",
      "[build] creating equivalence classes ...  done\n",
      "[build] target de Bruijn graph has 450300 contigs and contains 72264160 k-mers \n",
      "\n"
     ]
    }
   ],
   "source": [
    "!/Applications/bioinfo/kallisto/kallisto \\\n",
    "index -i ../data/Cbairdi_transcriptome-1.fai \\\n",
    "../data/Cbairdi_transcriptome-1.fa"
   ]
  },
  {
   "cell_type": "code",
   "execution_count": 15,
   "metadata": {
    "collapsed": false,
    "scrolled": true
   },
   "outputs": [
    {
     "name": "stdout",
     "output_type": "stream",
     "text": [
      "\r\n",
      "\u0000\u0000\u0000\u0000\u0000\u0000\u0000\u001f\u0000\u0000\u0000D/\u0002\u0000�\u0000\u0000\u0000\u001d",
      "\u0001\u0000\u0000�\u0001\u0000\u0000�\u0007\u0000\u0000/\u0003\u0000\u0000�\u0000\u0000\u0000�\u0000\u0000\u0000�\u0002\u0000\u0000\u0010\u0001\u0000\u0000�\u0000\u0000\u0000^\u0002\u0000\u0000�\u0001\u0000\u0000Q\u0001\u0000\u0000f\u0001\u0000\u0000X\u0002\u0000\u0000F\u0001\u0000\u0000C\u0001\u0000\u0000$\r\n",
      "\u0000\u0000�\u0001\u0000\u0000;\u0002\u0000\u0000�\u0000\u0000\u0000�\u0000\u0000\u0000�\u0000\u0000\u0000�\u0000\u0000\u0000n\u0001\u0000\u0000\u0017\u0001\u0000\u0000�\u0000\u0000\u0000�\u0001\u0000\u0000p\u0001\u0000\u0000\u0013\u0003\u0000\u00005\u0004\u0000\u0000�\u0000\u0000\u0000\u0001\u0001\u0000\u0000\u0014\u0001\u0000\u0000�\u0000\u0000\u0000�\u0000\u0000\u0000F\u0001\u0000\u0000\u0005\u0002\u0000\u0000�\u0001\u0000\u0000\b\u0002\u0000\u0000N\u0001\u0000\u0000j\u0001\u0000\u0000�\u0000\u0000\u0000�\u0001\u0000\u0000\u0016\u0001\u0000\u0000�\u0000\u0000\u0000\u000e\u0002\u0000\u0000y\u0002\u0000\u0000\u0014\u0001\u0000\u0000\"\u0001\u0000\u0000\u0001\u0002\u0000\u0000�\u0002\u0000\u00001\u0002\u0000\u00008\u0001\u0000\u0000�\u0001\u0000\u0000N\u0001\u0000\u0000B\r\n",
      "\u0000\u0000g\u0001\u0000\u0000G\u0007\u0000\u0000(\u0002\u0000\u0000\u0012\u0003\u0000\u0000\u0001\u0001\u0000\u0000\u0006\u0004\u0000\u0000=\u0002\u0000\u0000�\u000e\u0000\u00006\u000f\u0000\u0000y\u0003\u0000\u0000[\u0003\u0000\u0000W\u0003\u0000\u0000�\u000b",
      "\u0000\u0000I\r\n",
      "\u0000\u0000\u001e",
      "\u0001\u0000\u0000�\u000b",
      "\u0000\u0000�\u0004\u0000\u0000�\b\u0000\u0000\u0015\u0001\u0000\u0000!\u0002\u0000\u0000�\u0000\u0000\u0000�\u0000\u0000\u0000�\u0000\u0000\u0000�\u0001\u0000\u0000 \u0007\u0000\u0000�\b\u0000\u0000�\u0003\u0000\u0000\f",
      "\r\n",
      "\u0000\u0000�\u0000\u0000\u0000�\u0000\u0000\u0000\u0001\b\u0000\u0000�\u0001\u0000\u0000�\u0000\u0000\u0000R\u0001\u0000\u0000�\u0001\u0000\u0000t\u000e\u0000\u0000�\r",
      "\u0000\u0000�\r",
      "\u0000\u0000�\r",
      "\u0000\u0000�\r",
      "\u0000\u0000�\u0000\u0000\u0000�\u0000\u0000\u0000�\u0001\u0000\u0000\u0000\u0001\u0000\u0000�\u0001\u0000\u0000J\u0005\u0000\u0000�\u0001\u0000\u0000[\u0002\u0000\u0000�\u0002\u0000\u0000\u001d",
      "\u0001\u0000\u0000�\u0004\u0000\u0000}\u0001\u0000\u0000�\u0005\u0000\u0000�\u0000\u0000\u0000�\u0001\u0000\u0000>\u0004\u0000\u0000\\\u0001\u0000\u00007\u0002\u0000\u0000�\u0000\u0000\u0000\b\u0003\u0000\u0000r\u0004\u0000\u0000\u0018\u0001\u0000\u0000�\u0001\u0000\u0000h\u0002\u0000\u0000�\u0001\u0000\u0000\u0010\u0001\u0000\u0000J\u0002\u0000\u0000�\u0000\u0000\u0000T\u0001\u0000\u0000�\u0001\u0000\u0000�\u0002\u0000\u0000I\u0002\u0000\u0000\u0002\u0000\u0000�\u0002\u0000\u0000�\u0001\u0000\u0000\f",
      "\u0003\u0000\u0000C\u0004\u0000\u0000�\u0002\u0000\u0000Y\u0001\u0000\u0000\u001d",
      "\b\u0000\u0000�\u0006\u0000\u0000�\u0000\u0000\u0000�\u0004\u0000\u0000\f",
      "\u0005\u0000\u0000�\u0002\u0000\u0000�\u0004\u0000\u0000�\u0000\u0000\u0000/\u0001\u0000\u0000�\u0000\u0000\u0000�\u0000\u0000\u0000�\u0000\u0000\u0000F\u0001\u0000\u0000[\u0001\u0000\u0000�\u0000\u0000\u0000�\b\u0000\u0000=\u0001\u0000\u0000�\b\u0000\u0000Z\u0003\u0000\u0000g\u0001\u0000\u0000d\u0001\u0000\u0000�\u0000\u0000\u0000�\u0001\u0000\u0000&\u0001\u0000\u0000\u0018\u0001\u0000\u0000N\u0002\u0000\u0000�\u0001\u0000\u0000X\u0001\u0000\u0000p\u0003\u0000\u0000E\u0001\u0000\u0000�\u0002\u0000\u0000�\u0000\u0000\u0000�\u0000\u0000\u0000\u000f\u0003\u0000\u0000�\u0002\u0000\u0000�\u0001\u0000\u0000m\u0001\u0000\u0000�\u0002\u0000\u0000&\u0001\u0000\u0000v\u0001\u0000\u0000�\u0002\u0000\u0000i\u0001\u0000\u0000�\u0000\u0000\u0000*\u0002\u0000\u0000�\u0002\u0000\u0000M\u0002\u0000\u0000\u0018\u0001\u0000\u0000�\u0002\u0000\u0000�\u0001\u0000\u0000}\u0001\u0000\u0000�\u0000\u0000\u0000I\u0001\u0000\u0000�\u0000\u0000\u0000�\u0001\u0000\u0000\u0014\u0001\u0000\u0000\u000b",
      "\u0001\u0000\u0000.\u0003\u0000\u00009\u0001\u0000\u0000�\u0001\u0000\u0000(\u0003\u0000\u0000_\u0002\u0000\u0000$\u0001\u0000\u0000\u000b",
      "\u0001\u0000\u00001\u0001\u0000\u0000�\u0001\u0000\u0000\u0017\u0001\u0000\u0000�\u0001\u0000\u0000D\u0001\u0000\u0000�\u0001\u0000\u0000%\u0001\u0000\u0000�\u0000\u0000\u0000I\u0007\u0000\u0000\u001e",
      "\u0007\u0000\u0000�\u0001\u0000\u0000�\u0003\u0000\u0000\u0004\u0004\u0000\u0000�\u0001\u0000\u0000�\u0005\u0000\u0000\u001e",
      "\u0001\u0000\u0000�\u0005\u0000\u0000G\u0002\u0000\u0000'\b\u0000\u0000w\r\n",
      "\u0000\u0000%\u0004\u0000\u0000\"\u0001\u0000\u0000�\u0001\u0000\u00005\u0002\u0000\u0000\u0002\u0002\u0000\u0000�\u0006\u0000\u0000E\u0006\u0000\u0000�\u0005\u0000\u0000S\u0003\u0000\u0000\u0017\u0002\u0000\u0000�\u0003\u0000\u0000�\u0006\u0000\u0000_\u0005\u0000\u0000�\u0002\u0000\u0000'\u0004\u0000\u0000r\u0002\u0000\u0000�\u0007\u0000\u0000�\u0000\u0000\u0000�\t\u0000\u0000`\t\u0000\u0000@\t\u0000\u0000z\r\n",
      "\u0000\u0000�\u0003\u0000\u0000\u001c",
      "\u0004\u0000\u0000�\r\n",
      "\u0000\u0000M\u0001\u0000\u0000\u0017\u0001\u0000\u0000�\u0001\u0000\u0000�\u0001\u0000\u0000*\u0002\u0000\u0000�\u0001\u0000\u0000f\u0001\u0000\u0000�\u0000\u0000\u0000\u0002\u0001\u0000\u0000\u0012\u0001\u0000\u0000s\u0001\u0000\u0000�\u0001\u0000\u0000�\u0000\u0000\u0000�\u0003\u0000\u0000>\u0001\u0000\u0000�\r\n",
      "\u0000\u0000�\u0003\u0000\u0000�\r\n"
     ]
    }
   ],
   "source": [
    "!head ../data/Cbairdi_transcriptome-1.fai"
   ]
  },
  {
   "cell_type": "code",
   "execution_count": 16,
   "metadata": {
    "collapsed": false
   },
   "outputs": [
    {
     "name": "stdout",
     "output_type": "stream",
     "text": [
      "../data/Cbairdi_transcriptome-1.fai: PCX ver. 2.5 image data\n"
     ]
    }
   ],
   "source": [
    "%%bash\n",
    "file ../data/Cbairdi_transcriptome-1.fai"
   ]
  },
  {
   "cell_type": "code",
   "execution_count": 17,
   "metadata": {
    "collapsed": false,
    "scrolled": true
   },
   "outputs": [
    {
     "name": "stdout",
     "output_type": "stream",
     "text": [
      "\n",
      "[quant] fragment length distribution will be estimated from the data\n",
      "[index] k-mer length: 31\n",
      "[index] number of targets: 143,172\n",
      "[index] number of k-mers: 72,264,160\n",
      "[index] number of equivalence classes: 314,928\n",
      "[quant] running in paired-end mode\n",
      "[quant] will process pair 1: ../data/304428_S1_L001_R1_001.fastq.gz\n",
      "                             ../data/304428_S1_L001_R2_001.fastq.gz\n",
      "[quant] finding pseudoalignments for the reads ... done\n",
      "[quant] processed 31,231,444 reads, 23,832,237 reads pseudoaligned\n",
      "[quant] estimated average fragment length: 182.691\n",
      "[   em] quantifying the abundances ... done\n",
      "[   em] the Expectation-Maximization algorithm ran for 1,270 rounds\n",
      "\n"
     ]
    }
   ],
   "source": [
    "!/Applications/bioinfo/kallisto/kallisto \\\n",
    "quant -i ../data/Cbairdi_transcriptome-1.fai \\\n",
    "-o ../analyses \\\n",
    "-t 4 \\\n",
    "../data/304428_S1_L001_R1_001.fastq.gz \\\n",
    "../data/304428_S1_L001_R2_001.fastq.gz"
   ]
  },
  {
   "cell_type": "code",
   "execution_count": null,
   "metadata": {
    "collapsed": false
   },
   "outputs": [
    {
     "name": "stdout",
     "output_type": "stream",
     "text": [
      "\n",
      "[quant] fragment length distribution will be estimated from the data\n",
      "[index] k-mer length: 31\n",
      "[index] number of targets: 143,172\n",
      "[index] number of k-mers: 72,264,160\n",
      "[index] number of equivalence classes: 314,928\n",
      "[quant] running in paired-end mode\n",
      "[quant] will process pair 1: ../data/304428_S1_L002_R1_001.fastq.gz\n",
      "                             ../data/304428_S1_L002_R2_001.fastq.gz\n",
      "[quant] finding pseudoalignments for the reads ..."
     ]
    }
   ],
   "source": [
    "!/Applications/bioinfo/kallisto/kallisto \\\n",
    "quant -i ../data/Cbairdi_transcriptome-1.fai \\\n",
    "-o ../analyses \\\n",
    "-t 4 \\\n",
    "../data/304428_S1_L002_R1_001.fastq.gz \\\n",
    "../data/304428_S1_L002_R2_001.fastq.gz"
   ]
  },
  {
   "cell_type": "code",
   "execution_count": null,
   "metadata": {
    "collapsed": true
   },
   "outputs": [],
   "source": [
    "!/Applications/bioinfo/kallisto/kallisto \\\n",
    "quant -i ../data/Cbairdi_transcriptome-1.fai \\\n",
    "-o ../analyses \\\n",
    "-t 4 \\\n",
    "../data/329774_S1_L001_R1_001.fastq.gz \\\n",
    "../data/329774_S1_L001_R2_001.fastq.gz"
   ]
  },
  {
   "cell_type": "code",
   "execution_count": null,
   "metadata": {
    "collapsed": true
   },
   "outputs": [],
   "source": [
    "!/Applications/bioinfo/kallisto/kallisto \\\n",
    "quant -i ../data/Cbairdi_transcriptome-1.fai \\\n",
    "-o ../analyses \\\n",
    "-t 4 \\\n",
    "../data/329774_S1_L002_R1_001.fastq.gz \\\n",
    "../data/329774_S1_L002_R2_001.fastq.gz "
   ]
  },
  {
   "cell_type": "code",
   "execution_count": null,
   "metadata": {
    "collapsed": true
   },
   "outputs": [],
   "source": [
    "!/Applications/bioinfo/kallisto/kallisto \\\n",
    "quant -i ../data/Cbairdi_transcriptome-1.fai \\\n",
    "-o ../analyses \\\n",
    "-t 4 \\\n",
    "../data/329775_S2_L001_R1_001.fastq.gz \\\n",
    "../data/329775_S2_L001_R2_001.fastq.gz"
   ]
  },
  {
   "cell_type": "code",
   "execution_count": null,
   "metadata": {
    "collapsed": true
   },
   "outputs": [],
   "source": [
    "!/Applications/bioinfo/kallisto/kallisto \\\n",
    "quant -i ../data/Cbairdi_transcriptome-1.fai \\\n",
    "-o ../analyses \\\n",
    "-t 4 \\\n",
    "../data/329775_S2_L002_R1_001.fastq.gz \\\n",
    "../data/329775_S2_L002_R2_001.fastq.gz"
   ]
  },
  {
   "cell_type": "code",
   "execution_count": null,
   "metadata": {
    "collapsed": true
   },
   "outputs": [],
   "source": [
    "!/Applications/bioinfo/kallisto/kallisto \\\n",
    "quant -i ../data/Cbairdi_transcriptome-1.fai \\\n",
    "-o ../analyses \\\n",
    "-t 4 \\\n",
    "../data/329776_S3_L001_R1_001.fastq.gz \\\n",
    "../data/329776_S3_L001_R2_001.fastq.gz"
   ]
  },
  {
   "cell_type": "code",
   "execution_count": null,
   "metadata": {
    "collapsed": true
   },
   "outputs": [],
   "source": [
    "!/Applications/bioinfo/kallisto/kallisto \\\n",
    "quant -i ../data/Cbairdi_transcriptome-1.fai \\\n",
    "-o ../analyses \\\n",
    "-t 4 \\\n",
    "../data/329776_S3_L002_R1_001.fastq.gz \\\n",
    "../data/329776_S3_L002_R2_001.fastq.gz"
   ]
  },
  {
   "cell_type": "code",
   "execution_count": null,
   "metadata": {
    "collapsed": true
   },
   "outputs": [],
   "source": [
    "!/Applications/bioinfo/kallisto/kallisto \\\n",
    "quant -i ../data/Cbairdi_transcriptome-1.fai \\\n",
    "-o ../analyses \\\n",
    "-t 4 \\\n",
    "../data/329777_S4_L001_R1_001.fastq.gz \\\n",
    "../data/329777_S4_L001_R2_001.fastq.gz"
   ]
  },
  {
   "cell_type": "code",
   "execution_count": null,
   "metadata": {
    "collapsed": true
   },
   "outputs": [],
   "source": [
    "!/Applications/bioinfo/kallisto/kallisto \\\n",
    "quant -i ../data/Cbairdi_transcriptome-1.fai \\\n",
    "-o ../analyses \\\n",
    "-t 4 \\\n",
    "../data/329777_S4_L002_R1_001.fastq.gz \\\n",
    "../data/329777_S4_L002_R2_001.fastq.gz"
   ]
  },
  {
   "cell_type": "code",
   "execution_count": 2,
   "metadata": {
    "collapsed": false
   },
   "outputs": [
    {
     "name": "stdout",
     "output_type": "stream",
     "text": [
      "kallisto: invalid option -- h\r\n",
      "\r\n",
      "Error: kallisto index file missing\r\n",
      "Error: Missing read files\r\n",
      "Error: need to specify output directory \r\n",
      "\r\n",
      "Usage: kallisto quant [arguments] FASTQ-files\r\n",
      "\r\n",
      "Required arguments:\r\n",
      "-i, --index=STRING            Filename for the kallisto index to be used for\r\n",
      "                              quantification\r\n",
      "-o, --output-dir=STRING       Directory to write output to\r\n",
      "\r\n",
      "Optional arguments:\r\n",
      "    --bias                    Perform sequence based bias correction\r\n",
      "-b, --bootstrap-samples=INT   Number of bootstrap samples (default: 0)\r\n",
      "    --seed=INT                Seed for the bootstrap sampling (default: 42)\r\n",
      "    --plaintext               Output plaintext instead of HDF5\r\n",
      "    --fusion                  Search for fusions for Pizzly\r\n",
      "    --single                  Quantify single-end reads\r\n",
      "    --single-overhang         Include reads where unobserved rest of fragment is\r\n",
      "                              predicted to lie outside a transcript\r\n",
      "    --fr-stranded             Strand specific reads, first read forward\r\n",
      "    --rf-stranded             Strand specific reads, first read reverse\r\n",
      "-l, --fragment-length=DOUBLE  Estimated average fragment length\r\n",
      "-s, --sd=DOUBLE               Estimated standard deviation of fragment length\r\n",
      "                              (default: -l, -s values are estimated from paired\r\n",
      "                               end data, but are required when using --single)\r\n",
      "-t, --threads=INT             Number of threads to use (default: 1)\r\n",
      "    --pseudobam               Save pseudoalignments to transcriptome to BAM file\r\n",
      "    --genomebam               Project pseudoalignments to genome sorted BAM file\r\n",
      "-g, --gtf                     GTF file for transcriptome information\r\n",
      "                              (required for --genomebam)\r\n",
      "-c, --chromosomes             Tab separated file with chromosome names and lengths\r\n",
      "                              (optional for --genomebam, but recommended)\r\n"
     ]
    }
   ],
   "source": [
    "!/Applications/bioinfo/kallisto/kallisto quant -h"
   ]
  },
  {
   "cell_type": "code",
   "execution_count": null,
   "metadata": {
    "collapsed": true
   },
   "outputs": [],
   "source": []
  }
 ],
 "metadata": {
  "anaconda-cloud": {},
  "kernelspec": {
   "display_name": "Python [default]",
   "language": "python",
   "name": "python2"
  },
  "language_info": {
   "codemirror_mode": {
    "name": "ipython",
    "version": 2
   },
   "file_extension": ".py",
   "mimetype": "text/x-python",
   "name": "python",
   "nbconvert_exporter": "python",
   "pygments_lexer": "ipython2",
   "version": "2.7.12"
  }
 },
 "nbformat": 4,
 "nbformat_minor": 2
}
