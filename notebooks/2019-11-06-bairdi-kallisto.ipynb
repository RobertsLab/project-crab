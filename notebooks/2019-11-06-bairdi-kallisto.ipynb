{
 "cells": [
  {
   "cell_type": "markdown",
   "metadata": {},
   "source": [
    "# Differential Gene Expression -- _C. bairdi_ "
   ]
  },
  {
   "cell_type": "markdown",
   "metadata": {},
   "source": [
    "### kallisto : https://pachterlab.github.io/kallisto/about\n",
    "#### from: https://github.com/sr320/course-fish546-2018/blob/master/jupyter-nbs/005-RNA-seq.ipynb"
   ]
  },
  {
   "cell_type": "code",
   "execution_count": 1,
   "metadata": {
    "collapsed": false
   },
   "outputs": [
    {
     "name": "stdout",
     "output_type": "stream",
     "text": [
      "kallisto 0.46.1\r\n",
      "\r\n",
      "Usage: kallisto <CMD> [arguments] ..\r\n",
      "\r\n",
      "Where <CMD> can be one of:\r\n",
      "\r\n",
      "    index         Builds a kallisto index \r\n",
      "    quant         Runs the quantification algorithm \r\n",
      "    bus           Generate BUS files for single-cell data \r\n",
      "    pseudo        Runs the pseudoalignment step \r\n",
      "    merge         Merges several batch runs \r\n",
      "    h5dump        Converts HDF5-formatted results to plaintext\r\n",
      "    inspect       Inspects and gives information about an index\r\n",
      "    version       Prints version information\r\n",
      "    cite          Prints citation information\r\n",
      "\r\n",
      "Running kallisto <CMD> without arguments prints usage information for <CMD>\r\n",
      "\r\n"
     ]
    }
   ],
   "source": [
    "!/Applications/bioinfo/kallisto/kallisto"
   ]
  },
  {
   "cell_type": "code",
   "execution_count": 3,
   "metadata": {
    "collapsed": false
   },
   "outputs": [
    {
     "name": "stdout",
     "output_type": "stream",
     "text": [
      "091519-prep-for-revigo.Rmd  \u001b[34mnotebooks\u001b[m\u001b[m/\r\n",
      "README.md                   project-crab.Rproj\r\n",
      "\u001b[34manalyses\u001b[m\u001b[m/                   \u001b[34mprotocols\u001b[m\u001b[m/\r\n",
      "\u001b[34mdata\u001b[m\u001b[m/                       \u001b[34mscripts\u001b[m\u001b[m/\r\n"
     ]
    }
   ],
   "source": [
    "ls ../"
   ]
  },
  {
   "cell_type": "code",
   "execution_count": 4,
   "metadata": {
    "collapsed": false,
    "scrolled": true
   },
   "outputs": [
    {
     "name": "stdout",
     "output_type": "stream",
     "text": [
      "  % Total    % Received % Xferd  Average Speed   Time    Time     Time  Current\n",
      "                                 Dload  Upload   Total   Spent    Left  Speed\n",
      "100  148M  100  148M    0     0  8931k      0  0:00:17  0:00:17 --:--:-- 8633k\n"
     ]
    }
   ],
   "source": [
    "# curl first bairdi transcriptome into data\n",
    "!curl http://owl.fish.washington.edu/scaphapoda/grace/Crab-project/fasta_files/Trinity.fasta \\\n",
    "    -o ../data/Cbairdi_transcriptome-1.fa"
   ]
  },
  {
   "cell_type": "code",
   "execution_count": null,
   "metadata": {
    "collapsed": false
   },
   "outputs": [],
   "source": [
    "%%bash\n",
    "cd ../data/\n",
    "wget --quiet --recursive --no-parent --no-directories --accept \"*.gz\" \"http://owl.fish.washington.edu/nightingales/C_bairdi/\"\n",
    "ls"
   ]
  },
  {
   "cell_type": "code",
   "execution_count": null,
   "metadata": {
    "collapsed": true
   },
   "outputs": [],
   "source": []
  },
  {
   "cell_type": "code",
   "execution_count": 1,
   "metadata": {
    "collapsed": false
   },
   "outputs": [
    {
     "name": "stdout",
     "output_type": "stream",
     "text": [
      "\n",
      "[build] loading fasta file ../data/Cbairdi_transcriptome-1.fa\n",
      "[build] k-mer length: 31\n",
      "[build] warning: clipped off poly-A tail (longer than 10)\n",
      "        from 3503 target sequences\n",
      "[build] counting k-mers ... done.\n",
      "[build] building target de Bruijn graph ...  done \n",
      "[build] creating equivalence classes ...  done\n",
      "[build] target de Bruijn graph has 450300 contigs and contains 72264160 k-mers \n",
      "\n"
     ]
    }
   ],
   "source": [
    "!/Applications/bioinfo/kallisto/kallisto \\\n",
    "index -i ../data/Cbairdi_transcriptome-1.fai \\\n",
    "../data/Cbairdi_transcriptome-1.fa"
   ]
  },
  {
   "cell_type": "code",
   "execution_count": 5,
   "metadata": {
    "collapsed": false
   },
   "outputs": [
    {
     "name": "stdout",
     "output_type": "stream",
     "text": [
      "\n",
      "[quant] fragment length distribution will be estimated from the data\n",
      "[index] k-mer length: 31\n",
      "[index] number of targets: 143,172\n",
      "[index] number of k-mers: 72,264,160\n",
      "[index] number of equivalence classes: 314,928\n",
      "[quant] running in paired-end mode\n",
      "[quant] will process pair 1: /Volumes/web/nightingales/C_bairdi/329775_S2_L001_R1_001.fastq.gz\n",
      "                             /Volumes/web/nightingales/C_bairdi/329775_S2_L001_R2_001.fastq.gz\n",
      "[quant] finding pseudoalignments for the reads ...^C\n"
     ]
    }
   ],
   "source": [
    "!/Applications/bioinfo/kallisto/kallisto \\\n",
    "quant -i ../data/Cbairdi_transcriptome-1.fai \\\n",
    "-o ../analyses \\\n",
    "-t 4 \\\n",
    "/Volumes/web/nightingales/C_bairdi/329775_S2_L001_R1_001.fastq.gz /Volumes/web/nightingales/C_bairdi/329775_S2_L001_R2_001.fastq.gz"
   ]
  },
  {
   "cell_type": "code",
   "execution_count": 2,
   "metadata": {
    "collapsed": false
   },
   "outputs": [
    {
     "name": "stdout",
     "output_type": "stream",
     "text": [
      "kallisto: invalid option -- h\r\n",
      "\r\n",
      "Error: kallisto index file missing\r\n",
      "Error: Missing read files\r\n",
      "Error: need to specify output directory \r\n",
      "\r\n",
      "Usage: kallisto quant [arguments] FASTQ-files\r\n",
      "\r\n",
      "Required arguments:\r\n",
      "-i, --index=STRING            Filename for the kallisto index to be used for\r\n",
      "                              quantification\r\n",
      "-o, --output-dir=STRING       Directory to write output to\r\n",
      "\r\n",
      "Optional arguments:\r\n",
      "    --bias                    Perform sequence based bias correction\r\n",
      "-b, --bootstrap-samples=INT   Number of bootstrap samples (default: 0)\r\n",
      "    --seed=INT                Seed for the bootstrap sampling (default: 42)\r\n",
      "    --plaintext               Output plaintext instead of HDF5\r\n",
      "    --fusion                  Search for fusions for Pizzly\r\n",
      "    --single                  Quantify single-end reads\r\n",
      "    --single-overhang         Include reads where unobserved rest of fragment is\r\n",
      "                              predicted to lie outside a transcript\r\n",
      "    --fr-stranded             Strand specific reads, first read forward\r\n",
      "    --rf-stranded             Strand specific reads, first read reverse\r\n",
      "-l, --fragment-length=DOUBLE  Estimated average fragment length\r\n",
      "-s, --sd=DOUBLE               Estimated standard deviation of fragment length\r\n",
      "                              (default: -l, -s values are estimated from paired\r\n",
      "                               end data, but are required when using --single)\r\n",
      "-t, --threads=INT             Number of threads to use (default: 1)\r\n",
      "    --pseudobam               Save pseudoalignments to transcriptome to BAM file\r\n",
      "    --genomebam               Project pseudoalignments to genome sorted BAM file\r\n",
      "-g, --gtf                     GTF file for transcriptome information\r\n",
      "                              (required for --genomebam)\r\n",
      "-c, --chromosomes             Tab separated file with chromosome names and lengths\r\n",
      "                              (optional for --genomebam, but recommended)\r\n"
     ]
    }
   ],
   "source": [
    "!/Applications/bioinfo/kallisto/kallisto quant -h"
   ]
  },
  {
   "cell_type": "code",
   "execution_count": 2,
   "metadata": {
    "collapsed": false
   },
   "outputs": [
    {
     "name": "stdout",
     "output_type": "stream",
     "text": [
      "304428_S1_L001_R1_001.fastq.gz 329775_S2_L002_R2_001.fastq.gz\r\n",
      "304428_S1_L001_R2_001.fastq.gz 329776_S3_L001_R1_001.fastq.gz\r\n",
      "304428_S1_L002_R1_001.fastq.gz 329776_S3_L001_R2_001.fastq.gz\r\n",
      "304428_S1_L002_R2_001.fastq.gz 329776_S3_L002_R1_001.fastq.gz\r\n",
      "329774_S1_L001_R1_001.fastq.gz 329776_S3_L002_R2_001.fastq.gz\r\n",
      "329774_S1_L001_R2_001.fastq.gz 329777_S4_L001_R1_001.fastq.gz\r\n",
      "329774_S1_L002_R1_001.fastq.gz 329777_S4_L001_R2_001.fastq.gz\r\n",
      "329774_S1_L002_R2_001.fastq.gz 329777_S4_L002_R1_001.fastq.gz\r\n",
      "329775_S2_L001_R1_001.fastq.gz 329777_S4_L002_R2_001.fastq.gz\r\n",
      "329775_S2_L001_R2_001.fastq.gz \u001b[31mchecksums.md5\u001b[m\u001b[m\r\n",
      "329775_S2_L002_R1_001.fastq.gz \u001b[31mreadme.txt\u001b[m\u001b[m\r\n"
     ]
    }
   ],
   "source": [
    "!ls /Volumes/web/nightingales/C_bairdi"
   ]
  },
  {
   "cell_type": "code",
   "execution_count": null,
   "metadata": {
    "collapsed": true
   },
   "outputs": [],
   "source": []
  }
 ],
 "metadata": {
  "anaconda-cloud": {},
  "kernelspec": {
   "display_name": "Python [default]",
   "language": "python",
   "name": "python2"
  },
  "language_info": {
   "codemirror_mode": {
    "name": "ipython",
    "version": 2
   },
   "file_extension": ".py",
   "mimetype": "text/x-python",
   "name": "python",
   "nbconvert_exporter": "python",
   "pygments_lexer": "ipython2",
   "version": "2.7.12"
  }
 },
 "nbformat": 4,
 "nbformat_minor": 2
}
