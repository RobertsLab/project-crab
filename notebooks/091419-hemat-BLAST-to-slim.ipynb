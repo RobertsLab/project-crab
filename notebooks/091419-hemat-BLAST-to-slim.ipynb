{
 "cells": [
  {
   "cell_type": "markdown",
   "metadata": {},
   "source": [
    "# Jupyter notebook for taking the BLASTx output (transcriptome from library01 against a blastdb of dinoflagellate) to GOslim"
   ]
  },
  {
   "cell_type": "markdown",
   "metadata": {},
   "source": [
    "### from Steven's notebook: https://github.com/sr320/nb-2018/blob/master/C_virginica/83-blast-2-slim.ipynb"
   ]
  },
  {
   "cell_type": "markdown",
   "metadata": {},
   "source": [
    "### Need three files:\n",
    "1) blastout file in format -6 (http://owl.fish.washington.edu/scaphapoda/grace/PCSGA-2019/Cb_v1_blastx_uniprot2864_imac.tab)       \n",
    "2) Uniprot GO annotation file (340M) from : http://owl.fish.washington.edu/halfshell/bu-alanine-wd/17-07-20/uniprot-SP-GO.sorted       \n",
    "3) GOslim file from : http://owl.fish.washington.edu/halfshell/bu-alanine-wd/17-07-20/Go-GOslim.sorted"
   ]
  },
  {
   "cell_type": "code",
   "execution_count": 1,
   "metadata": {},
   "outputs": [
    {
     "data": {
      "text/plain": [
       "'/Users/graciecrandall/Documents/GitHub/project-crab/notebooks'"
      ]
     },
     "execution_count": 1,
     "metadata": {},
     "output_type": "execute_result"
    }
   ],
   "source": [
    "pwd"
   ]
  },
  {
   "cell_type": "code",
   "execution_count": 2,
   "metadata": {
    "collapsed": true
   },
   "outputs": [],
   "source": [
    "wd = \"/Users/graciecrandall/Documents/GitHub/project-crab/analyses/\""
   ]
  },
  {
   "cell_type": "code",
   "execution_count": 3,
   "metadata": {},
   "outputs": [
    {
     "name": "stdout",
     "output_type": "stream",
     "text": [
      "/Users/graciecrandall/Documents/GitHub/project-crab/analyses\n"
     ]
    }
   ],
   "source": [
    "cd {wd}"
   ]
  },
  {
   "cell_type": "code",
   "execution_count": 4,
   "metadata": {},
   "outputs": [
    {
     "name": "stdout",
     "output_type": "stream",
     "text": [
      "  % Total    % Received % Xferd  Average Speed   Time    Time     Time  Current\n",
      "                                 Dload  Upload   Total   Spent    Left  Speed\n",
      "100 2314k  100 2314k    0     0  3244k      0 --:--:-- --:--:-- --:--:-- 3549k\n"
     ]
    }
   ],
   "source": [
    "!curl -O http://owl.fish.washington.edu/halfshell/bu-alanine-wd/17-07-20/GO-GOslim.sorted"
   ]
  },
  {
   "cell_type": "code",
   "execution_count": 5,
   "metadata": {
    "scrolled": true
   },
   "outputs": [
    {
     "name": "stdout",
     "output_type": "stream",
     "text": [
      "  % Total    % Received % Xferd  Average Speed   Time    Time     Time  Current\n",
      "                                 Dload  Upload   Total   Spent    Left  Speed\n",
      "100  340M  100  340M    0     0  16.0M      0  0:00:21  0:00:21 --:--:-- 20.4M  0:00:33  0:00:03  0:00:30 10.2M\n"
     ]
    }
   ],
   "source": [
    "!curl -O http://owl.fish.washington.edu/halfshell/bu-alanine-wd/17-07-20/uniprot-SP-GO.sorted"
   ]
  },
  {
   "cell_type": "code",
   "execution_count": 7,
   "metadata": {},
   "outputs": [
    {
     "name": "stdout",
     "output_type": "stream",
     "text": [
      "  % Total    % Received % Xferd  Average Speed   Time    Time     Time  Current\n",
      "                                 Dload  Upload   Total   Spent    Left  Speed\n",
      "100 3384k  100 3384k    0     0  6033k      0 --:--:-- --:--:-- --:--:-- 6164k\n"
     ]
    }
   ],
   "source": [
    "!curl -O http://owl.fish.washington.edu/scaphapoda/grace/PCSGA-2019/Cb_v1_blastx_uniprot2864_imac.tab"
   ]
  },
  {
   "cell_type": "code",
   "execution_count": 8,
   "metadata": {},
   "outputs": [
    {
     "name": "stdout",
     "output_type": "stream",
     "text": [
      "Cb_v1_blastx_uniprot2864_imac.tab master-qubit.xlsx\r\n",
      "GO-GOslim.sorted                  qubit_results-for-libraries.csv\r\n",
      "crab-GOslim.csv                   readme.md\r\n",
      "hemat-blastx-output.tab           sample_table.csv\r\n",
      "master-qubit-sample.csv           uniprot-SP-GO.sorted\r\n"
     ]
    }
   ],
   "source": [
    "# check if files are in the directory\n",
    "!ls"
   ]
  },
  {
   "cell_type": "markdown",
   "metadata": {},
   "source": [
    "## Set blastout file as variable"
   ]
  },
  {
   "cell_type": "code",
   "execution_count": 9,
   "metadata": {
    "collapsed": true
   },
   "outputs": [],
   "source": [
    "blastout=\"Cb_v1_blastx_uniprot2864_imac.tab\""
   ]
  },
  {
   "cell_type": "code",
   "execution_count": 10,
   "metadata": {},
   "outputs": [
    {
     "name": "stdout",
     "output_type": "stream",
     "text": [
      "TRINITY_DN21464_c0_g1_i1\ttr|A0A1Q9E613|A0A1Q9E613_SYMMI\t38.298\t611\t346\t10\t801\t2570\t567\t1167\t6.69e-116\t382\r\n",
      "TRINITY_DN21426_c0_g2_i1\ttr|A0A1Q9DMD0|A0A1Q9DMD0_SYMMI\t46.383\t470\t235\t3\t126\t1484\t34\t503\t2.34e-134\t406\r\n"
     ]
    }
   ],
   "source": [
    "!head -2 $blastout"
   ]
  },
  {
   "cell_type": "code",
   "execution_count": 11,
   "metadata": {
    "collapsed": true
   },
   "outputs": [],
   "source": [
    "# convert pipes to tab\n",
    "!tr '|' '\\t' < $blastout \\\n",
    "> _blast-sep.tab"
   ]
  },
  {
   "cell_type": "code",
   "execution_count": 12,
   "metadata": {},
   "outputs": [
    {
     "name": "stdout",
     "output_type": "stream",
     "text": [
      "TRINITY_DN21464_c0_g1_i1\ttr\tA0A1Q9E613\tA0A1Q9E613_SYMMI\t38.298\t611\t346\t10\t801\t2570\t567\t1167\t6.69e-116\t382\r\n",
      "TRINITY_DN21426_c0_g2_i1\ttr\tA0A1Q9DMD0\tA0A1Q9DMD0_SYMMI\t46.383\t470\t235\t3\t126\t1484\t34\t503\t2.34e-134\t406\r\n"
     ]
    }
   ],
   "source": [
    "!head -2 _blast-sep.tab"
   ]
  },
  {
   "cell_type": "code",
   "execution_count": 13,
   "metadata": {
    "collapsed": true
   },
   "outputs": [],
   "source": [
    "#reducing number of columns and sorting \n",
    "!awk -v OFS='\\t' '{print $3, $1, $13}' <_blast-sep.tab | sort \\\n",
    "> _blast-sort.tab"
   ]
  },
  {
   "cell_type": "code",
   "execution_count": 14,
   "metadata": {},
   "outputs": [
    {
     "name": "stdout",
     "output_type": "stream",
     "text": [
      "A0A075C407\tTRINITY_DN5199_c0_g1_i1\t1.04e-47\r\n",
      "A0A075C407\tTRINITY_DN5199_c0_g1_i2\t1.26e-30\r\n"
     ]
    }
   ],
   "source": [
    "!head -2 _blast-sort.tab"
   ]
  },
  {
   "cell_type": "code",
   "execution_count": 15,
   "metadata": {
    "collapsed": true
   },
   "outputs": [],
   "source": [
    "#joining blast with uniprot annotation file and reducing to three columns UniprotID, Query, All GO terms\n",
    "!join -t $'\\t' \\\n",
    "_blast-sort.tab \\\n",
    "uniprot-SP-GO.sorted \\\n",
    "| cut -f1,2,14 \\\n",
    "> _blast-annot.tab"
   ]
  },
  {
   "cell_type": "code",
   "execution_count": 16,
   "metadata": {},
   "outputs": [
    {
     "name": "stdout",
     "output_type": "stream",
     "text": [
      "A8I1Q0\tTRINITY_DN10831_c0_g1_i1\tGO:0005509\r\n",
      "A8I1Q0\tTRINITY_DN10831_c0_g1_i4\tGO:0005509\r\n",
      "A8I1Q0\tTRINITY_DN1334_c0_g1_i2\tGO:0005509\r\n",
      "A8I1Q0\tTRINITY_DN1334_c0_g1_i3\tGO:0005509\r\n",
      "A8I1Q0\tTRINITY_DN1334_c0_g1_i4\tGO:0005509\r\n",
      "A8I1Q0\tTRINITY_DN1680_c0_g1_i2\tGO:0005509\r\n",
      "A8I1Q0\tTRINITY_DN1680_c0_g1_i3\tGO:0005509\r\n",
      "A8I1Q0\tTRINITY_DN1680_c0_g1_i4\tGO:0005509\r\n",
      "A8I1Q0\tTRINITY_DN21661_c0_g1_i1\tGO:0005509\r\n",
      "A8I1Q0\tTRINITY_DN21661_c0_g1_i1\tGO:0005509\r\n"
     ]
    }
   ],
   "source": [
    "!head _blast-annot.tab"
   ]
  },
  {
   "cell_type": "markdown",
   "metadata": {},
   "source": [
    "## The following is a script modified by Sam White"
   ]
  },
  {
   "cell_type": "code",
   "execution_count": 17,
   "metadata": {
    "collapsed": true
   },
   "outputs": [],
   "source": [
    "%%bash \n",
    "\n",
    "# This script was originally written to address a specific problem that Rhonda was having\n",
    "\n",
    "\n",
    "\n",
    "# input_file is the initial, \"problem\" file\n",
    "# file is an intermediate file that most of the program works upon\n",
    "# output_file is the final file produced by the script\n",
    "input_file=\"_blast-annot.tab\"\n",
    "file=\"_intermediate.file\"\n",
    "output_file=\"_blast-GO-unfolded.tab\"\n",
    "\n",
    "# sed command substitutes the \"; \" sequence to a tab and writes the new format to a new file.\n",
    "# This character sequence is how the GO terms are delimited in their field.\n",
    "sed $'s/; /\\t/g' \"$input_file\" > \"$file\"\n",
    "\n",
    "# Identify first field containing a GO term.\n",
    "# Search file with grep for \"GO:\" and pipe to awk.\n",
    "# Awk sets tab as field delimiter (-F'\\t'), runs a for loop that looks for \"GO:\" (~/GO:/), and then prints the field number).\n",
    "# Awk results are piped to sort, which sorts unique by number (-ug).\n",
    "# Sort results are piped to head to retrieve the lowest value (i.e. the top of the list; \"-n1\").\n",
    "begin_goterms=$(grep \"GO:\" \"$file\" | awk -F'\\t' '{for (i=1;i<=NF;i++) if($i ~/GO:/) print i}' | sort -ug | head -n1)\n",
    "\n",
    "# While loop to process each line of the input file.\n",
    "while read -r line\n",
    "\tdo\n",
    "\t\n",
    "\t# Send contents of the current line to awk.\n",
    "\t# Set the field separator as a tab (-F'\\t') and print the number of fields in that line.\n",
    "\t# Save the results of the echo/awk pipe (i.e. number of fields) to the variable \"max_field\".\n",
    "\tmax_field=$(echo \"$line\" | awk -F'\\t' '{print NF}')\n",
    "\n",
    "\t# Send contents of current line to cut.\n",
    "\t# Cut fields (i.e. retain those fields) 1-12.\n",
    "\t# Save the results of the echo/cut pipe (i.e. fields 1-12) to the variable \"fixed_fields\"\n",
    "\tfixed_fields=$(echo \"$line\" | cut -f1-2)\n",
    "\n",
    "\t# Since not all the lines contain the same number of fields (e.g. may not have GO terms),\n",
    "\t# evaluate the number of fields in each line to determine how to handle current line.\n",
    "\n",
    "\t# If the value in max_field is less than the field number where the GO terms begin,\n",
    "\t# then just print the current line (%s) followed by a newline (\\n).\n",
    "\tif (( \"$max_field\" < \"$begin_goterms\" ))\n",
    "\t\tthen printf \"%s\\n\" \"$line\"\n",
    "\t\t\telse\n",
    "\n",
    "\t\t\t# Send contents of current line (which contains GO terms) to cut.\n",
    "\t\t\t# Cut fields (i.e. retain those fields) 13 to whatever the last field is in the curent line.\n",
    "\t\t\t# Save the results of the echo/cut pipe (i.e. all the GO terms fields) to the variable \"goterms\".\n",
    "\t\t\tgoterms=$(echo \"$line\" | cut -f\"$begin_goterms\"-\"$max_field\")\n",
    "\t\t\t\n",
    "\t\t\t# Assign values in the variable \"goterms\" to a new indexed array (called \"array\"), \n",
    "\t\t\t# with tab delimiter (IFS=$'\\t')\n",
    "\t\t\tIFS=$'\\t' read -r -a array <<<\"$goterms\"\n",
    "\t\t\t\n",
    "\t\t\t# Iterate through each element of the array.\n",
    "\t\t\t# Print the first 12 fields (i.e. the fields stored in \"fixed_fields\") followed by a tab (%s\\t).\n",
    "\t\t\t# Print the current element in the array (i.e. the current GO term) followed by a new line (%s\\n).\n",
    "\t\t\tfor element in \"${!array[@]}\"\t\n",
    "\t\t\t\tdo printf \"%s\\t%s\\n\" \"$fixed_fields\" \"${array[$element]}\"\n",
    "\t\t\tdone\n",
    "\tfi\n",
    "\n",
    "# Send the input file into the while loop and send the output to a file named \"rhonda_fixed.txt\".\n",
    "done < \"$file\" > \"$output_file\""
   ]
  },
  {
   "cell_type": "code",
   "execution_count": 18,
   "metadata": {},
   "outputs": [
    {
     "name": "stdout",
     "output_type": "stream",
     "text": [
      "A8I1Q0\tTRINITY_DN10831_c0_g1_i1\tGO:0005509\r\n",
      "A8I1Q0\tTRINITY_DN10831_c0_g1_i4\tGO:0005509\r\n",
      "A8I1Q0\tTRINITY_DN1334_c0_g1_i2\tGO:0005509\r\n",
      "A8I1Q0\tTRINITY_DN1334_c0_g1_i3\tGO:0005509\r\n",
      "A8I1Q0\tTRINITY_DN1334_c0_g1_i4\tGO:0005509\r\n",
      "A8I1Q0\tTRINITY_DN1680_c0_g1_i2\tGO:0005509\r\n",
      "A8I1Q0\tTRINITY_DN1680_c0_g1_i3\tGO:0005509\r\n",
      "A8I1Q0\tTRINITY_DN1680_c0_g1_i4\tGO:0005509\r\n",
      "A8I1Q0\tTRINITY_DN21661_c0_g1_i1\tGO:0005509\r\n",
      "A8I1Q0\tTRINITY_DN21661_c0_g1_i1\tGO:0005509\r\n"
     ]
    }
   ],
   "source": [
    "!head _blast-GO-unfolded.tab"
   ]
  },
  {
   "cell_type": "code",
   "execution_count": 22,
   "metadata": {},
   "outputs": [],
   "source": [
    "!awk '{print $3,\"\\t\" $2}' _blast-GO-unfolded.tab | gsort -V > _blast-GO-unfolded.sorted"
   ]
  },
  {
   "cell_type": "code",
   "execution_count": 23,
   "metadata": {},
   "outputs": [
    {
     "name": "stdout",
     "output_type": "stream",
     "text": [
      "GO:0005509 \tTRINITY_DN286_c0_g1_i3\r\n",
      "GO:0005509 \tTRINITY_DN1334_c0_g1_i2\r\n",
      "GO:0005509 \tTRINITY_DN1334_c0_g1_i3\r\n",
      "GO:0005509 \tTRINITY_DN1334_c0_g1_i4\r\n",
      "GO:0005509 \tTRINITY_DN1680_c0_g1_i2\r\n",
      "GO:0005509 \tTRINITY_DN1680_c0_g1_i3\r\n",
      "GO:0005509 \tTRINITY_DN1680_c0_g1_i4\r\n",
      "GO:0005509 \tTRINITY_DN2638_c0_g1_i2\r\n",
      "GO:0005509 \tTRINITY_DN2638_c0_g1_i5\r\n",
      "GO:0005509 \tTRINITY_DN2638_c0_g1_i5\r\n"
     ]
    }
   ],
   "source": [
    "!head _blast-GO-unfolded.sorted"
   ]
  },
  {
   "cell_type": "code",
   "execution_count": 24,
   "metadata": {},
   "outputs": [
    {
     "name": "stdout",
     "output_type": "stream",
     "text": [
      "GO:0005509*\tTRINITY_DN286_c0_g1_i3\r\n",
      "GO:0005509*\tTRINITY_DN1334_c0_g1_i2\r\n",
      "GO:0005509*\tTRINITY_DN1334_c0_g1_i3\r\n",
      "GO:0005509*\tTRINITY_DN1334_c0_g1_i4\r\n",
      "GO:0005509*\tTRINITY_DN1680_c0_g1_i2\r\n",
      "GO:0005509*\tTRINITY_DN1680_c0_g1_i3\r\n",
      "GO:0005509*\tTRINITY_DN1680_c0_g1_i4\r\n",
      "GO:0005509*\tTRINITY_DN2638_c0_g1_i2\r\n",
      "GO:0005509*\tTRINITY_DN2638_c0_g1_i5\r\n",
      "GO:0005509*\tTRINITY_DN2638_c0_g1_i5\r\n"
     ]
    }
   ],
   "source": [
    "!tr \" \" \"*\" < _blast-GO-unfolded.sorted | head"
   ]
  },
  {
   "cell_type": "code",
   "execution_count": 25,
   "metadata": {
    "collapsed": true
   },
   "outputs": [],
   "source": [
    "!sed 's/ //g' _blast-GO-unfolded.sorted > _blast-GO-unfolded-nos.sorted"
   ]
  },
  {
   "cell_type": "code",
   "execution_count": 26,
   "metadata": {},
   "outputs": [
    {
     "name": "stdout",
     "output_type": "stream",
     "text": [
      "GO:0005509\tTRINITY_DN286_c0_g1_i3\r\n",
      "GO:0005509\tTRINITY_DN1334_c0_g1_i2\r\n",
      "GO:0005509\tTRINITY_DN1334_c0_g1_i3\r\n",
      "GO:0005509\tTRINITY_DN1334_c0_g1_i4\r\n",
      "GO:0005509\tTRINITY_DN1680_c0_g1_i2\r\n",
      "GO:0005509\tTRINITY_DN1680_c0_g1_i3\r\n",
      "GO:0005509\tTRINITY_DN1680_c0_g1_i4\r\n",
      "GO:0005509\tTRINITY_DN2638_c0_g1_i2\r\n",
      "GO:0005509\tTRINITY_DN2638_c0_g1_i5\r\n",
      "GO:0005509\tTRINITY_DN2638_c0_g1_i5\r\n"
     ]
    }
   ],
   "source": [
    "!head _blast-GO-unfolded-nos.sorted"
   ]
  },
  {
   "cell_type": "code",
   "execution_count": 27,
   "metadata": {},
   "outputs": [
    {
     "name": "stdout",
     "output_type": "stream",
     "text": [
      "GO:0005509\tTRINITY_DN286_c0_g1_i3\r\n",
      "GO:0005509\tTRINITY_DN1334_c0_g1_i2\r\n",
      "GO:0005509\tTRINITY_DN1334_c0_g1_i3\r\n",
      "GO:0005509\tTRINITY_DN1334_c0_g1_i4\r\n",
      "GO:0005509\tTRINITY_DN1680_c0_g1_i2\r\n",
      "GO:0005509\tTRINITY_DN1680_c0_g1_i3\r\n",
      "GO:0005509\tTRINITY_DN1680_c0_g1_i4\r\n",
      "GO:0005509\tTRINITY_DN2638_c0_g1_i2\r\n",
      "GO:0005509\tTRINITY_DN2638_c0_g1_i5\r\n",
      "GO:0005509\tTRINITY_DN2638_c0_g1_i5\r\n"
     ]
    }
   ],
   "source": [
    "!tr \" \" \"*\" < _blast-GO-unfolded-nos.sorted | head"
   ]
  },
  {
   "cell_type": "code",
   "execution_count": 28,
   "metadata": {},
   "outputs": [
    {
     "name": "stdout",
     "output_type": "stream",
     "text": [
      "GO:0000001\tmitochondrion inheritance\tcell organization and biogenesis\tP\r\n",
      "GO:0000002\tmitochondrial genome maintenance\tcell organization and biogenesis\tP\r\n",
      "GO:0000003\treproduction\tother biological processes\tP\r\n",
      "GO:0000006\thigh affinity zinc uptake transmembrane transporter activity\ttransporter activity\tF\r\n",
      "GO:0000007\tlow-affinity zinc ion transmembrane transporter activity\ttransporter activity\tF\r\n",
      "GO:0000009\t\"alpha-1,6-mannosyltransferase activity\"\tother molecular function\tF\r\n",
      "GO:0000010\ttrans-hexaprenyltranstransferase activity\tother molecular function\tF\r\n",
      "GO:0000011\tvacuole inheritance\tcell organization and biogenesis\tP\r\n",
      "GO:0000012\tsingle strand break repair\tDNA metabolism\tP\r\n",
      "GO:0000012\tsingle strand break repair\tstress response\tP\r\n"
     ]
    }
   ],
   "source": [
    "!head GO-GOslim.sorted"
   ]
  },
  {
   "cell_type": "code",
   "execution_count": 29,
   "metadata": {},
   "outputs": [
    {
     "name": "stdout",
     "output_type": "stream",
     "text": [
      "GO:0005509\tTRINITY_DN286_c0_g1_i3\tcalcium ion binding\tother molecular function\tF\r\n",
      "GO:0005509\tTRINITY_DN1334_c0_g1_i2\tcalcium ion binding\tother molecular function\tF\r\n",
      "GO:0005509\tTRINITY_DN1334_c0_g1_i3\tcalcium ion binding\tother molecular function\tF\r\n",
      "GO:0005509\tTRINITY_DN1334_c0_g1_i4\tcalcium ion binding\tother molecular function\tF\r\n",
      "GO:0005509\tTRINITY_DN1680_c0_g1_i2\tcalcium ion binding\tother molecular function\tF\r\n",
      "GO:0005509\tTRINITY_DN1680_c0_g1_i3\tcalcium ion binding\tother molecular function\tF\r\n",
      "GO:0005509\tTRINITY_DN1680_c0_g1_i4\tcalcium ion binding\tother molecular function\tF\r\n",
      "GO:0005509\tTRINITY_DN2638_c0_g1_i2\tcalcium ion binding\tother molecular function\tF\r\n",
      "GO:0005509\tTRINITY_DN2638_c0_g1_i5\tcalcium ion binding\tother molecular function\tF\r\n",
      "GO:0005509\tTRINITY_DN2638_c0_g1_i5\tcalcium ion binding\tother molecular function\tF\r\n"
     ]
    }
   ],
   "source": [
    "!join -1 1 -2 1 -t $'\\t' \\\n",
    "_blast-GO-unfolded-nos.sorted \\\n",
    "GO-GOslim.sorted | head "
   ]
  },
  {
   "cell_type": "code",
   "execution_count": 30,
   "metadata": {},
   "outputs": [
    {
     "name": "stdout",
     "output_type": "stream",
     "text": [
      "      27 Blastquery-GOslim.tab\r\n"
     ]
    }
   ],
   "source": [
    "#joining files to get GOslim for each query (with duplicate GOslim / query removed)\n",
    "!join -1 1 -2 1 -t $'\\t' \\\n",
    "_blast-GO-unfolded-nos.sorted \\\n",
    "GO-GOslim.sorted \\\n",
    "| uniq | awk -F'\\t' -v OFS='\\t' '{print $2, $4, $5}' \\\n",
    "> Blastquery-GOslim.tab\n",
    "!wc -l Blastquery-GOslim.tab"
   ]
  },
  {
   "cell_type": "code",
   "execution_count": 31,
   "metadata": {},
   "outputs": [
    {
     "name": "stdout",
     "output_type": "stream",
     "text": [
      "TRINITY_DN286_c0_g1_i3\tother molecular function\tF\n",
      "TRINITY_DN1334_c0_g1_i2\tother molecular function\tF\n",
      "TRINITY_DN1334_c0_g1_i3\tother molecular function\tF\n",
      "TRINITY_DN1334_c0_g1_i4\tother molecular function\tF\n",
      "TRINITY_DN1680_c0_g1_i2\tother molecular function\tF\n",
      "TRINITY_DN1680_c0_g1_i3\tother molecular function\tF\n",
      "TRINITY_DN1680_c0_g1_i4\tother molecular function\tF\n",
      "TRINITY_DN2638_c0_g1_i2\tother molecular function\tF\n",
      "TRINITY_DN2638_c0_g1_i5\tother molecular function\tF\n",
      "TRINITY_DN2638_c0_g1_i6\tother molecular function\tF\n",
      "      27 Blastquery-GOslim.tab\n"
     ]
    }
   ],
   "source": [
    "!head Blastquery-GOslim.tab\n",
    "!wc -l Blastquery-GOslim.tab"
   ]
  },
  {
   "cell_type": "markdown",
   "metadata": {},
   "source": [
    "## Get P - query and slim"
   ]
  },
  {
   "cell_type": "code",
   "execution_count": 38,
   "metadata": {},
   "outputs": [
    {
     "name": "stdout",
     "output_type": "stream",
     "text": [
      "TRINITY_DN10831_c0_g1_i1\tother molecular function\r\n",
      "TRINITY_DN10831_c0_g1_i4\tother molecular function\r\n",
      "TRINITY_DN1334_c0_g1_i2\tother molecular function\r\n",
      "TRINITY_DN1334_c0_g1_i3\tother molecular function\r\n",
      "TRINITY_DN1334_c0_g1_i4\tother molecular function\r\n",
      "TRINITY_DN1680_c0_g1_i2\tother molecular function\r\n",
      "TRINITY_DN1680_c0_g1_i3\tother molecular function\r\n",
      "TRINITY_DN1680_c0_g1_i4\tother molecular function\r\n",
      "TRINITY_DN21661_c0_g1_i1\tother molecular function\r\n",
      "TRINITY_DN21661_c0_g3_i1\tother molecular function\r\n"
     ]
    }
   ],
   "source": [
    "!awk -F\"\\t\" '$3 == \"F\" { print $1\"\\t\"$2 }' Blastquery-GOslim.tab | sort > Blastquery-GOslim.sorted\n",
    "!head Blastquery-GOslim.sorted"
   ]
  },
  {
   "cell_type": "code",
   "execution_count": 37,
   "metadata": {},
   "outputs": [
    {
     "name": "stdout",
     "output_type": "stream",
     "text": [
      "TRINITY_DN286_c0_g1_i3\tother molecular function\tF\r\n",
      "TRINITY_DN1334_c0_g1_i2\tother molecular function\tF\r\n",
      "TRINITY_DN1334_c0_g1_i3\tother molecular function\tF\r\n",
      "TRINITY_DN1334_c0_g1_i4\tother molecular function\tF\r\n",
      "TRINITY_DN1680_c0_g1_i2\tother molecular function\tF\r\n",
      "TRINITY_DN1680_c0_g1_i3\tother molecular function\tF\r\n",
      "TRINITY_DN1680_c0_g1_i4\tother molecular function\tF\r\n",
      "TRINITY_DN2638_c0_g1_i2\tother molecular function\tF\r\n",
      "TRINITY_DN2638_c0_g1_i5\tother molecular function\tF\r\n",
      "TRINITY_DN2638_c0_g1_i6\tother molecular function\tF\r\n"
     ]
    }
   ],
   "source": []
  },
  {
   "cell_type": "code",
   "execution_count": null,
   "metadata": {
    "collapsed": true
   },
   "outputs": [],
   "source": []
  }
 ],
 "metadata": {
  "kernelspec": {
   "display_name": "Python [default]",
   "language": "python",
   "name": "python3"
  },
  "language_info": {
   "codemirror_mode": {
    "name": "ipython",
    "version": 3
   },
   "file_extension": ".py",
   "mimetype": "text/x-python",
   "name": "python",
   "nbconvert_exporter": "python",
   "pygments_lexer": "ipython3",
   "version": "3.5.3"
  }
 },
 "nbformat": 4,
 "nbformat_minor": 2
}
