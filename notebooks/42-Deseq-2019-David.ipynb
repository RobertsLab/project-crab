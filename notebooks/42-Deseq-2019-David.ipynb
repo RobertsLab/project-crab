{
 "cells": [
  {
   "cell_type": "code",
   "execution_count": 2,
   "metadata": {
    "ExecuteTime": {
     "end_time": "2020-04-21T21:22:25.386202Z",
     "start_time": "2020-04-21T21:22:25.257009Z"
    }
   },
   "outputs": [
    {
     "name": "stdout",
     "output_type": "stream",
     "text": [
      "\"baseMean\" \"log2FoldChange\" \"lfcSE\" \"stat\" \"pvalue\" \"padj\"\r\n",
      "\"TRINITY_DN1003_c0_g1_i4\" 26.8882134568838 8.09974069800188 1.91672213492422 4.22582937318773 2.38062331452214e-05 0.000871786917692324\r\n",
      "\"TRINITY_DN10053_c0_g1_i1\" 40.4439824495947 8.68893403350044 1.79134498714919 4.85050847035798 1.2314537453348e-06 6.09988360252111e-05\r\n",
      "\"TRINITY_DN10053_c0_g2_i1\" 70.8986490301874 5.86761847920535 1.16975732079736 5.01609895906075 5.27311760642212e-07 2.88044049250808e-05\r\n",
      "\"TRINITY_DN10062_c0_g1_i1\" 24.4740432777013 7.96474734335171 1.99494048223176 3.99247366740559 6.53875960163334e-05 0.00220556959804665\r\n",
      "\"TRINITY_DN10074_c0_g1_i1\" 33.5852853251282 8.42117787128782 1.86896368032623 4.50580070652731 6.61231257307587e-06 0.000276661971807525\r\n",
      "\"TRINITY_DN10074_c0_g2_i1\" 43.4675633137541 8.79335879202322 1.81059212131952 4.85662048811678 1.19406135576804e-06 5.94461178764014e-05\r\n",
      "\"TRINITY_DN10077_c0_g1_i4\" 695.545759737821 2.58362862978004 0.713085245653177 3.62316938336519 0.000291015111754778 0.00876387775292146\r\n",
      "\"TRINITY_DN10183_c0_g1_i1\" 102.262346453122 10.0272650978383 1.63476803467629 6.13375407711825 8.58291640370175e-10 1.18861303576616e-07\r\n",
      "\"TRINITY_DN10190_c0_g1_i1\" 93.2892021041058 8.47511030053237 1.55198593319254 5.46081644122797 4.73949889236103e-08 3.49072081341871e-06\r\n"
     ]
    }
   ],
   "source": [
    "!head ../analyses/2019-infection_DEGlist.tab"
   ]
  },
  {
   "cell_type": "code",
   "execution_count": 3,
   "metadata": {
    "ExecuteTime": {
     "end_time": "2020-04-21T21:22:39.201500Z",
     "start_time": "2020-04-21T21:22:39.077063Z"
    }
   },
   "outputs": [
    {
     "name": "stdout",
     "output_type": "stream",
     "text": [
      "     773 ../analyses/2019-infection_DEGlist.tab\r\n"
     ]
    }
   ],
   "source": [
    "!wc -l ../analyses/2019-infection_DEGlist.tab"
   ]
  },
  {
   "cell_type": "code",
   "execution_count": 4,
   "metadata": {
    "ExecuteTime": {
     "end_time": "2020-04-21T21:24:57.649402Z",
     "start_time": "2020-04-21T21:24:55.873438Z"
    }
   },
   "outputs": [
    {
     "name": "stdout",
     "output_type": "stream",
     "text": [
      "  % Total    % Received % Xferd  Average Speed   Time    Time     Time  Current\n",
      "                                 Dload  Upload   Total   Spent    Left  Speed\n",
      "100 1997k  100 1997k    0     0  1265k      0  0:00:01  0:00:01 --:--:-- 1265k\n"
     ]
    }
   ],
   "source": [
    "!curl https://gannet.fish.washington.edu/Atumefaciens/20200408_cbai_diamond_blastx_megan/20200408.C_bairdi.megan.Trinity.blastx.outfmt6 -o ../data/20200408.C_bairdi.megan.Trinity.blastx.outfmt6"
   ]
  },
  {
   "cell_type": "code",
   "execution_count": 5,
   "metadata": {
    "ExecuteTime": {
     "end_time": "2020-04-21T21:25:13.649383Z",
     "start_time": "2020-04-21T21:25:13.516751Z"
    }
   },
   "outputs": [
    {
     "name": "stdout",
     "output_type": "stream",
     "text": [
      "TRINITY_DN21551_c1_g1_i1\tsp|Q5ZK63|TCP4_CHICK\t45.1\t71\t38\t1\t410\t201\t56\t126\t1.2e-12\t75.1\r\n",
      "TRINITY_DN21560_c0_g1_i1\tsp|Q56JU9|RS24_BOVIN\t74.2\t128\t33\t0\t68\t451\t4\t131\t2.4e-44\t179.9\r\n",
      "TRINITY_DN21536_c0_g1_i1\tsp|Q10914|GLR2_CAEEL\t38.9\t72\t43\t1\t214\t2\t520\t591\t1.8e-07\t56.2\r\n",
      "TRINITY_DN21564_c1_g1_i1\tsp|Q7SXP0|S22BB_DANRE\t60.3\t209\t83\t0\t138\t764\t1\t209\t1.4e-68\t261.9\r\n",
      "TRINITY_DN21546_c0_g1_i1\tsp|Q5RD03|ARMC6_PONAB\t36.2\t486\t288\t8\t1840\t419\t19\t494\t5.8e-75\t283.5\r\n",
      "TRINITY_DN21563_c0_g1_i1\tsp|D3Z9Z9|SMRCD_RAT\t45.9\t743\t360\t8\t48\t2249\t315\t1024\t7.1e-171\t602.4\r\n",
      "TRINITY_DN21509_c0_g1_i1\tsp|Q3B7T1|EDRF1_HUMAN\t55.3\t47\t21\t0\t103\t243\t990\t1036\t1.1e-07\t57.0\r\n",
      "TRINITY_DN21561_c0_g1_i1\tsp|P79896|ADHX_SPAAU\t79.3\t372\t77\t0\t1411\t296\t3\t374\t6.6e-178\t625.2\r\n",
      "TRINITY_DN21553_c0_g1_i1\tsp|Q7Z1E6|CALR_BOMMO\t77.8\t334\t74\t0\t112\t1113\t11\t344\t8.4e-108\t392.1\r\n",
      "TRINITY_DN21565_c0_g1_i1\tsp|Q17QV3|SUMO3_BOVIN\t65.6\t93\t30\t1\t582\t310\t1\t93\t7.7e-27\t122.1\r\n"
     ]
    }
   ],
   "source": [
    "!head ../data/20200408.C_bairdi.megan.Trinity.blastx.outfmt6"
   ]
  },
  {
   "cell_type": "code",
   "execution_count": 6,
   "metadata": {
    "ExecuteTime": {
     "end_time": "2020-04-21T21:25:25.844390Z",
     "start_time": "2020-04-21T21:25:25.717430Z"
    }
   },
   "outputs": [
    {
     "name": "stdout",
     "output_type": "stream",
     "text": [
      "   23065 ../data/20200408.C_bairdi.megan.Trinity.blastx.outfmt6\r\n"
     ]
    }
   ],
   "source": [
    "!wc -l ../data/20200408.C_bairdi.megan.Trinity.blastx.outfmt6"
   ]
  },
  {
   "cell_type": "code",
   "execution_count": 15,
   "metadata": {
    "ExecuteTime": {
     "end_time": "2020-04-21T21:33:21.256517Z",
     "start_time": "2020-04-21T21:33:20.798387Z"
    }
   },
   "outputs": [
    {
     "name": "stdout",
     "output_type": "stream",
     "text": [
      "A0A068FIK2\r\n",
      "A0A087WPF7\r\n",
      "A0A0B4K692\r\n",
      "A0A0B4K7J2\r\n",
      "A0A0B4K7J2\r\n",
      "A0A0B4K7J2\r\n",
      "A0A0F7YZI5\r\n",
      "A0A0F7Z3J2\r\n",
      "A0A0G2JV04\r\n",
      "A0A0G2K309\r\n",
      "sort: Broken pipe\r\n"
     ]
    }
   ],
   "source": [
    "!cat ../data/20200408.C_bairdi.megan.Trinity.blastx.outfmt6 | tr '|' \"\\t\" | awk '{print$3}'| sort |  head"
   ]
  },
  {
   "cell_type": "code",
   "execution_count": 34,
   "metadata": {
    "ExecuteTime": {
     "end_time": "2020-04-21T21:43:56.333139Z",
     "start_time": "2020-04-21T21:43:55.787218Z"
    }
   },
   "outputs": [],
   "source": [
    "!cat ../data/20200408.C_bairdi.megan.Trinity.blastx.outfmt6 | tr '|' \"\\t\" | awk '{print $1, \"\\t\", $3}'  | sed 's/ //g' | sort > ../analyses/C_v15_uni.sorted"
   ]
  },
  {
   "cell_type": "code",
   "execution_count": 35,
   "metadata": {
    "ExecuteTime": {
     "end_time": "2020-04-21T21:43:56.463889Z",
     "start_time": "2020-04-21T21:43:56.338043Z"
    }
   },
   "outputs": [
    {
     "name": "stdout",
     "output_type": "stream",
     "text": [
      "TRINITY_DN0_c10_g1_i1\tQ34345\r\n",
      "TRINITY_DN0_c10_g2_i1\tQ37705\r\n",
      "TRINITY_DN0_c11_g1_i1\tP50668\r\n",
      "TRINITY_DN0_c12_g1_i1\tQ37705\r\n",
      "TRINITY_DN0_c1_g1_i1\tQ94527\r\n",
      "TRINITY_DN0_c1_g1_i2\tQ94527\r\n",
      "TRINITY_DN0_c1_g1_i3\tQ94527\r\n",
      "TRINITY_DN0_c20_g1_i1\tQ00871\r\n",
      "TRINITY_DN0_c3_g1_i5\tA6H769\r\n",
      "TRINITY_DN0_c4_g1_i1\tQ36724\r\n"
     ]
    }
   ],
   "source": [
    "!head ../analyses/C_v15_uni.sorted"
   ]
  },
  {
   "cell_type": "code",
   "execution_count": 36,
   "metadata": {
    "ExecuteTime": {
     "end_time": "2020-04-21T21:43:58.125943Z",
     "start_time": "2020-04-21T21:43:57.978706Z"
    }
   },
   "outputs": [
    {
     "name": "stdout",
     "output_type": "stream",
     "text": [
      "TRINITY_DN1003_c0_g1_i4\tA1L1P7\r\n"
     ]
    }
   ],
   "source": [
    "!grep \"TRINITY_DN1003_c0_g1_i4\" ../analyses/C_v15_uni.sorted"
   ]
  },
  {
   "cell_type": "markdown",
   "metadata": {
    "ExecuteTime": {
     "end_time": "2020-04-21T21:31:51.715105Z",
     "start_time": "2020-04-21T21:31:51.708529Z"
    }
   },
   "source": [
    "# Just DEG List"
   ]
  },
  {
   "cell_type": "code",
   "execution_count": 24,
   "metadata": {
    "ExecuteTime": {
     "end_time": "2020-04-21T21:37:36.686822Z",
     "start_time": "2020-04-21T21:37:36.534101Z"
    }
   },
   "outputs": [
    {
     "name": "stdout",
     "output_type": "stream",
     "text": [
      "TRINITY_DN1003_c0_g1_i4\r\n",
      "TRINITY_DN10053_c0_g1_i1\r\n",
      "TRINITY_DN10053_c0_g2_i1\r\n",
      "TRINITY_DN10062_c0_g1_i1\r\n",
      "TRINITY_DN10074_c0_g1_i1\r\n",
      "TRINITY_DN10074_c0_g2_i1\r\n",
      "TRINITY_DN10077_c0_g1_i4\r\n",
      "TRINITY_DN10183_c0_g1_i1\r\n",
      "TRINITY_DN10190_c0_g1_i1\r\n",
      "TRINITY_DN10227_c0_g1_i1\r\n"
     ]
    }
   ],
   "source": [
    "!cat ../analyses/2019-infection_DEGlist.tab | sed 's/\"//g' | grep -v \"baseMean\" | awk '{print $1}' | sort | head"
   ]
  },
  {
   "cell_type": "code",
   "execution_count": 25,
   "metadata": {
    "ExecuteTime": {
     "end_time": "2020-04-21T21:38:20.942621Z",
     "start_time": "2020-04-21T21:38:20.790301Z"
    }
   },
   "outputs": [],
   "source": [
    "!cat ../analyses/2019-infection_DEGlist.tab | sed 's/\"//g' | grep -v \"baseMean\" | awk '{print $1}' | sort \\\n",
    "> ../analyses/deg_IDs.sorted"
   ]
  },
  {
   "cell_type": "code",
   "execution_count": 39,
   "metadata": {
    "ExecuteTime": {
     "end_time": "2020-04-21T21:44:59.855674Z",
     "start_time": "2020-04-21T21:44:59.669487Z"
    }
   },
   "outputs": [
    {
     "name": "stdout",
     "output_type": "stream",
     "text": [
      "TRINITY_DN1003_c0_g1_i4\tA1L1P7\r\n",
      "TRINITY_DN10053_c0_g1_i1\tQ6ZRS2\r\n",
      "TRINITY_DN10053_c0_g2_i1\tQ9NDJ2\r\n",
      "TRINITY_DN10074_c0_g1_i1\tP20054\r\n",
      "TRINITY_DN10074_c0_g2_i1\tQ18990\r\n",
      "TRINITY_DN10183_c0_g1_i1\tQ96DI7\r\n",
      "TRINITY_DN10190_c0_g1_i1\tQ2NKY8\r\n",
      "TRINITY_DN10227_c0_g1_i1\tP0AE20\r\n",
      "TRINITY_DN10249_c0_g1_i1\tQ9XED7\r\n",
      "TRINITY_DN10256_c0_g1_i1\tQ8VXQ2\r\n"
     ]
    }
   ],
   "source": [
    "!join -t $'\\t' \\\n",
    "../analyses/deg_IDs.sorted \\\n",
    "../analyses/C_v15_uni.sorted \\\n",
    "| head"
   ]
  },
  {
   "cell_type": "markdown",
   "metadata": {},
   "source": [
    "# DAVID copy lists..."
   ]
  },
  {
   "cell_type": "code",
   "execution_count": 44,
   "metadata": {
    "ExecuteTime": {
     "end_time": "2020-04-21T21:46:34.975010Z",
     "start_time": "2020-04-21T21:46:34.763005Z"
    }
   },
   "outputs": [],
   "source": [
    "!join -t $'\\t' \\\n",
    "../analyses/deg_IDs.sorted \\\n",
    "../analyses/C_v15_uni.sorted | awk '{print $2}' | pbcopy"
   ]
  },
  {
   "cell_type": "code",
   "execution_count": 45,
   "metadata": {
    "ExecuteTime": {
     "end_time": "2020-04-21T21:47:09.585143Z",
     "start_time": "2020-04-21T21:47:09.370864Z"
    }
   },
   "outputs": [],
   "source": [
    "!cat ../analyses/C_v15_uni.sorted | awk '{print $2}' | pbcopy"
   ]
  },
  {
   "cell_type": "code",
   "execution_count": 47,
   "metadata": {
    "ExecuteTime": {
     "end_time": "2020-04-21T21:48:27.087763Z",
     "start_time": "2020-04-21T21:48:26.886883Z"
    }
   },
   "outputs": [
    {
     "name": "stdout",
     "output_type": "stream",
     "text": [
      "     646\r\n"
     ]
    }
   ],
   "source": [
    "!join -t $'\\t' \\\n",
    "../analyses/deg_IDs.sorted \\\n",
    "../analyses/C_v15_uni.sorted | awk '{print $2}' | wc -l"
   ]
  },
  {
   "cell_type": "code",
   "execution_count": 48,
   "metadata": {
    "ExecuteTime": {
     "end_time": "2020-04-21T21:48:38.732990Z",
     "start_time": "2020-04-21T21:48:38.560325Z"
    }
   },
   "outputs": [
    {
     "name": "stdout",
     "output_type": "stream",
     "text": [
      "   23065\r\n"
     ]
    }
   ],
   "source": [
    "!cat ../analyses/C_v15_uni.sorted | awk '{print $2}' | wc -l"
   ]
  },
  {
   "cell_type": "markdown",
   "metadata": {
    "ExecuteTime": {
     "end_time": "2020-04-21T21:49:36.374509Z",
     "start_time": "2020-04-21T21:49:36.245709Z"
    }
   },
   "source": [
    "![david](http://gannet.fish.washington.edu/seashell/snaps/DAVID_Database_for_Annotation_Visualization_and_Integrated_Discovery_Laboratory_of_Human_Retrovirology_and_Immunoinformatic_2020-04-21_14-49-17.png)"
   ]
  },
  {
   "cell_type": "code",
   "execution_count": 50,
   "metadata": {
    "ExecuteTime": {
     "end_time": "2020-04-21T21:51:20.510703Z",
     "start_time": "2020-04-21T21:51:19.715947Z"
    }
   },
   "outputs": [
    {
     "name": "stdout",
     "output_type": "stream",
     "text": [
      "  % Total    % Received % Xferd  Average Speed   Time    Time     Time  Current\n",
      "                                 Dload  Upload   Total   Spent    Left  Speed\n",
      "100  9672    0  9672    0     0  15701      0 --:--:-- --:--:-- --:--:-- 15726\n"
     ]
    }
   ],
   "source": [
    "!curl https://david.ncifcrf.gov/data/download/chart_12EFD4CDBC6A1587505146924.txt -o ../analyses/chart_12EFD.txt"
   ]
  },
  {
   "cell_type": "code",
   "execution_count": 51,
   "metadata": {
    "ExecuteTime": {
     "end_time": "2020-04-21T22:02:22.723050Z",
     "start_time": "2020-04-21T22:02:22.579502Z"
    }
   },
   "outputs": [
    {
     "name": "stdout",
     "output_type": "stream",
     "text": [
      "Category\tTerm\tCount\t%\tPValue\tGenes\tList Total\tPop Hits\tPop Total\tFold Enrichment\tBonferroni\tBenjamini\tFDR\r\n",
      "GOTERM_BP_DIRECT\tGO:0044351~macropinocytosis\t12\t2.1621621621621623\t6.893944262569316E-7\tQ54QS3, P20054, Q54E04, Q54JP5, Q8T6J5, Q54ES9, Q55E60, Q5VZK9, Q54IZ9, Q54GE3, Q54JC8, Q54J75\t508\t33\t9359\t6.6993557623478885\t0.001096225615400015\t0.001096225615400015\t0.0011536069575490693\r\n",
      "GOTERM_BP_DIRECT\tGO:0000398~mRNA splicing, via spliceosome\t20\t3.6036036036036037\t1.268276921481863E-4\tQ38953, A1Z9G2, Q2KJC1, Q54MH3, Q0CGJ9, O60306, O75643, Q9SI54, Q91VN6, P0DKL4, Q1ZXD5, Q7SXM7, Q9BZJ0, P42285, Q9CQQ8, Q96DI7, Q9FMG4, Q66II8, Q3MHE2, Q9ULR0\t508\t136\t9359\t2.7092982862436314\t0.18273808582946072\t0.09597460535085678\t0.21201827008900942\r\n",
      "GOTERM_BP_DIRECT\tGO:0006265~DNA topological change\t6\t1.0810810810810811\t1.6090529032943853E-4\tQ9LVP1, P15348, F4ISQ7, Q13472, P30182, O95985\t508\t11\t9359\t10.049033643521833\t0.22587422223811138\t0.0818002367502817\t0.26891382227274274\r\n",
      "GOTERM_BP_DIRECT\tGO:0046686~response to cadmium ion\t8\t1.4414414414414414\t5.741613997364039E-4\tO81149, Q94A28, Q9SZD4, Q9M888, Q64442, O80763, F4I7I0, Q9SA73\t508\t28\t9359\t5.2637795275590555\t0.5989836714703245\t0.20422459163495144\t0.9564580055791638\r\n",
      "GOTERM_BP_DIRECT\tGO:0006487~protein N-linked glycosylation\t8\t1.4414414414414414\t8.984285933520426E-4\tQ9CYR6, Q9DB25, Q9US55, Q9W3V8, P52875, O14255, F1RQM2, Q9H3H5\t508\t30\t9359\t4.912860892388451\t0.7607012203487135\t0.24874375229016965\t1.4928260586822506\r\n",
      "GOTERM_BP_DIRECT\tGO:0006457~protein folding\t16\t2.8828828828828827\t0.0015674755895325849\tP50475, P12613, Q9S9N1, P78371, Q29RZ2, Q8W4D0, P32472, Q9M888, Q54ES9, A1L1P7, P61758, O02108, Q13427, Q10209, P52012, Q9VPQ2\t508\t117\t9359\t2.519415842250488\t0.9175703630632158\t0.34029886516661745\t2.5908730327008134\r\n",
      "GOTERM_BP_DIRECT\tGO:0006268~DNA unwinding involved in DNA replication\t6\t1.0810810810810811\t0.0016428676892023778\tQ9LVP1, P15348, F4ISQ7, P49736, P30182, P30665\t508\t17\t9359\t6.502315886984715\t0.9269018275934258\t0.3118217678627405\t2.7138832707338523\r\n",
      "GOTERM_BP_DIRECT\tGO:0006541~glutamine metabolic process\t7\t1.2612612612612613\t0.004007482233405671\tP20054, Q9M8D3, Q4KMC4, O15067, Q43011, Q54JC8, Q18990\t508\t29\t9359\t4.446986152592995\t0.9983195843910674\t0.5500367050114192\t6.498696627789058\r\n",
      "GOTERM_BP_DIRECT\tGO:0009396~folic acid-containing compound biosynthetic process\t4\t0.7207207207207207\t0.004694906466793461\tQ8L539, Q0VCR7, Q3V3R1, P11586\t508\t7\t9359\t10.527559055118111\t0.9994397826879906\t0.5647825694744356\t7.572741475336975\r\n"
     ]
    }
   ],
   "source": [
    "!head ../analyses/chart_12EFD.txt"
   ]
  },
  {
   "cell_type": "markdown",
   "metadata": {},
   "source": [
    "![reviog](http://gannet.fish.washington.edu/seashell/snaps/REVIGO_Output_2020-04-21_14-54-17.png)"
   ]
  },
  {
   "cell_type": "code",
   "execution_count": null,
   "metadata": {},
   "outputs": [],
   "source": []
  }
 ],
 "metadata": {
  "kernelspec": {
   "display_name": "Python 3",
   "language": "python",
   "name": "python3"
  },
  "language_info": {
   "codemirror_mode": {
    "name": "ipython",
    "version": 3
   },
   "file_extension": ".py",
   "mimetype": "text/x-python",
   "name": "python",
   "nbconvert_exporter": "python",
   "pygments_lexer": "ipython3",
   "version": "3.6.8"
  }
 },
 "nbformat": 4,
 "nbformat_minor": 2
}
