{
 "cells": [
  {
   "cell_type": "code",
   "execution_count": 2,
   "metadata": {
    "ExecuteTime": {
     "end_time": "2020-04-21T21:22:25.386202Z",
     "start_time": "2020-04-21T21:22:25.257009Z"
    }
   },
   "outputs": [
    {
     "name": "stdout",
     "output_type": "stream",
     "text": [
      "\"baseMean\" \"log2FoldChange\" \"lfcSE\" \"stat\" \"pvalue\" \"padj\"\r\n",
      "\"TRINITY_DN1003_c0_g1_i4\" 26.8882134568838 8.09974069800188 1.91672213492422 4.22582937318773 2.38062331452214e-05 0.000871786917692324\r\n",
      "\"TRINITY_DN10053_c0_g1_i1\" 40.4439824495947 8.68893403350044 1.79134498714919 4.85050847035798 1.2314537453348e-06 6.09988360252111e-05\r\n",
      "\"TRINITY_DN10053_c0_g2_i1\" 70.8986490301874 5.86761847920535 1.16975732079736 5.01609895906075 5.27311760642212e-07 2.88044049250808e-05\r\n",
      "\"TRINITY_DN10062_c0_g1_i1\" 24.4740432777013 7.96474734335171 1.99494048223176 3.99247366740559 6.53875960163334e-05 0.00220556959804665\r\n",
      "\"TRINITY_DN10074_c0_g1_i1\" 33.5852853251282 8.42117787128782 1.86896368032623 4.50580070652731 6.61231257307587e-06 0.000276661971807525\r\n",
      "\"TRINITY_DN10074_c0_g2_i1\" 43.4675633137541 8.79335879202322 1.81059212131952 4.85662048811678 1.19406135576804e-06 5.94461178764014e-05\r\n",
      "\"TRINITY_DN10077_c0_g1_i4\" 695.545759737821 2.58362862978004 0.713085245653177 3.62316938336519 0.000291015111754778 0.00876387775292146\r\n",
      "\"TRINITY_DN10183_c0_g1_i1\" 102.262346453122 10.0272650978383 1.63476803467629 6.13375407711825 8.58291640370175e-10 1.18861303576616e-07\r\n",
      "\"TRINITY_DN10190_c0_g1_i1\" 93.2892021041058 8.47511030053237 1.55198593319254 5.46081644122797 4.73949889236103e-08 3.49072081341871e-06\r\n"
     ]
    }
   ],
   "source": [
    "!head ../analyses/2019-infection_DEGlist.tab"
   ]
  },
  {
   "cell_type": "code",
   "execution_count": 3,
   "metadata": {
    "ExecuteTime": {
     "end_time": "2020-04-21T21:22:39.201500Z",
     "start_time": "2020-04-21T21:22:39.077063Z"
    }
   },
   "outputs": [
    {
     "name": "stdout",
     "output_type": "stream",
     "text": [
      "     773 ../analyses/2019-infection_DEGlist.tab\r\n"
     ]
    }
   ],
   "source": [
    "!wc -l ../analyses/2019-infection_DEGlist.tab"
   ]
  },
  {
   "cell_type": "code",
   "execution_count": 4,
   "metadata": {
    "ExecuteTime": {
     "end_time": "2020-04-21T21:24:57.649402Z",
     "start_time": "2020-04-21T21:24:55.873438Z"
    }
   },
   "outputs": [
    {
     "name": "stdout",
     "output_type": "stream",
     "text": [
      "  % Total    % Received % Xferd  Average Speed   Time    Time     Time  Current\n",
      "                                 Dload  Upload   Total   Spent    Left  Speed\n",
      "100 1997k  100 1997k    0     0  1265k      0  0:00:01  0:00:01 --:--:-- 1265k\n"
     ]
    }
   ],
   "source": [
    "!curl https://gannet.fish.washington.edu/Atumefaciens/20200408_cbai_diamond_blastx_megan/20200408.C_bairdi.megan.Trinity.blastx.outfmt6 -o ../data/20200408.C_bairdi.megan.Trinity.blastx.outfmt6"
   ]
  },
  {
   "cell_type": "code",
   "execution_count": 5,
   "metadata": {
    "ExecuteTime": {
     "end_time": "2020-04-21T21:25:13.649383Z",
     "start_time": "2020-04-21T21:25:13.516751Z"
    }
   },
   "outputs": [
    {
     "name": "stdout",
     "output_type": "stream",
     "text": [
      "TRINITY_DN21551_c1_g1_i1\tsp|Q5ZK63|TCP4_CHICK\t45.1\t71\t38\t1\t410\t201\t56\t126\t1.2e-12\t75.1\r\n",
      "TRINITY_DN21560_c0_g1_i1\tsp|Q56JU9|RS24_BOVIN\t74.2\t128\t33\t0\t68\t451\t4\t131\t2.4e-44\t179.9\r\n",
      "TRINITY_DN21536_c0_g1_i1\tsp|Q10914|GLR2_CAEEL\t38.9\t72\t43\t1\t214\t2\t520\t591\t1.8e-07\t56.2\r\n",
      "TRINITY_DN21564_c1_g1_i1\tsp|Q7SXP0|S22BB_DANRE\t60.3\t209\t83\t0\t138\t764\t1\t209\t1.4e-68\t261.9\r\n",
      "TRINITY_DN21546_c0_g1_i1\tsp|Q5RD03|ARMC6_PONAB\t36.2\t486\t288\t8\t1840\t419\t19\t494\t5.8e-75\t283.5\r\n",
      "TRINITY_DN21563_c0_g1_i1\tsp|D3Z9Z9|SMRCD_RAT\t45.9\t743\t360\t8\t48\t2249\t315\t1024\t7.1e-171\t602.4\r\n",
      "TRINITY_DN21509_c0_g1_i1\tsp|Q3B7T1|EDRF1_HUMAN\t55.3\t47\t21\t0\t103\t243\t990\t1036\t1.1e-07\t57.0\r\n",
      "TRINITY_DN21561_c0_g1_i1\tsp|P79896|ADHX_SPAAU\t79.3\t372\t77\t0\t1411\t296\t3\t374\t6.6e-178\t625.2\r\n",
      "TRINITY_DN21553_c0_g1_i1\tsp|Q7Z1E6|CALR_BOMMO\t77.8\t334\t74\t0\t112\t1113\t11\t344\t8.4e-108\t392.1\r\n",
      "TRINITY_DN21565_c0_g1_i1\tsp|Q17QV3|SUMO3_BOVIN\t65.6\t93\t30\t1\t582\t310\t1\t93\t7.7e-27\t122.1\r\n"
     ]
    }
   ],
   "source": [
    "!head ../data/20200408.C_bairdi.megan.Trinity.blastx.outfmt6"
   ]
  },
  {
   "cell_type": "code",
   "execution_count": 6,
   "metadata": {
    "ExecuteTime": {
     "end_time": "2020-04-21T21:25:25.844390Z",
     "start_time": "2020-04-21T21:25:25.717430Z"
    }
   },
   "outputs": [
    {
     "name": "stdout",
     "output_type": "stream",
     "text": [
      "   23065 ../data/20200408.C_bairdi.megan.Trinity.blastx.outfmt6\r\n"
     ]
    }
   ],
   "source": [
    "!wc -l ../data/20200408.C_bairdi.megan.Trinity.blastx.outfmt6"
   ]
  },
  {
   "cell_type": "code",
   "execution_count": null,
   "metadata": {},
   "outputs": [],
   "source": []
  }
 ],
 "metadata": {
  "kernelspec": {
   "display_name": "Python 3",
   "language": "python",
   "name": "python3"
  },
  "language_info": {
   "codemirror_mode": {
    "name": "ipython",
    "version": 3
   },
   "file_extension": ".py",
   "mimetype": "text/x-python",
   "name": "python",
   "nbconvert_exporter": "python",
   "pygments_lexer": "ipython3",
   "version": "3.6.8"
  }
 },
 "nbformat": 4,
 "nbformat_minor": 2
}
